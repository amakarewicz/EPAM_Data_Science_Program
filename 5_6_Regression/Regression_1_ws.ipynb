{
 "cells": [
  {
   "cell_type": "markdown",
   "metadata": {
    "colab_type": "text",
    "id": "s3lCVVWYgGXw"
   },
   "source": [
    "# House prices prediction\n",
    "\n",
    "Link on competition dataset: https://www.kaggle.com/c/house-prices-advanced-regression-techniques\n"
   ]
  },
  {
   "cell_type": "markdown",
   "metadata": {
    "colab_type": "text",
    "id": "ymzDpBuDgNuv"
   },
   "source": [
    "\n",
    "# Imports"
   ]
  },
  {
   "cell_type": "code",
   "execution_count": 1,
   "metadata": {
    "colab": {},
    "colab_type": "code",
    "id": "a_j384aDl0MJ"
   },
   "outputs": [],
   "source": [
    "import pandas as pd\n",
    "import numpy as np\n",
    "import os\n",
    "import random\n",
    "import warnings\n",
    "warnings.filterwarnings('ignore')\n",
    "\n",
    "import seaborn as sns\n",
    "import matplotlib.pyplot as plt\n",
    "from pathlib import Path\n",
    "\n",
    "from pandas_profiling import ProfileReport\n",
    "from sklearn.model_selection import train_test_split, cross_val_score, GridSearchCV, KFold\n",
    "from sklearn.linear_model import LinearRegression, Ridge, Lasso, ElasticNet\n",
    "from sklearn.preprocessing import StandardScaler, RobustScaler, OneHotEncoder\n",
    "from sklearn.impute import SimpleImputer\n",
    "from sklearn.pipeline import Pipeline, make_pipeline\n",
    "from sklearn_pandas import DataFrameMapper, gen_features\n",
    "from sklearn import metrics\n",
    "from sklearn.metrics import mean_squared_error, r2_score, mean_absolute_error\n",
    "from sklearn.base import clone\n",
    "\n",
    "plt.rcParams['figure.figsize'] = 10, 7\n",
    "plt.style.use('ggplot')\n",
    "\n",
    "from IPython.core.interactiveshell import InteractiveShell\n",
    "InteractiveShell.ast_node_interactivity = \"all\""
   ]
  },
  {
   "cell_type": "code",
   "execution_count": 2,
   "metadata": {
    "colab": {
     "base_uri": "https://localhost:8080/",
     "height": 34
    },
    "colab_type": "code",
    "id": "odXvg2eQVInj",
    "outputId": "e4b5221a-3dd6-4370-b613-90bca7669041"
   },
   "outputs": [],
   "source": [
    "# from google.colab import drive\n",
    "# drive.mount('/content/gdrive')"
   ]
  },
  {
   "cell_type": "code",
   "execution_count": 3,
   "metadata": {},
   "outputs": [],
   "source": [
    "# Commonly used constants and paths\n",
    "SEED = 42\n",
    "DATA_PATH = \"./workshop_data\"\n",
    "TRAIN_PATH = f'{DATA_PATH}/train.csv'\n",
    "TEST_PATH = f'{DATA_PATH}/test.csv'\n",
    "DESCRIPTION = f'{DATA_PATH}/data_description.txt'\n",
    "TARGET = 'SalePrice'\n",
    "NAN_CATEGORY = '<NAN>'"
   ]
  },
  {
   "cell_type": "markdown",
   "metadata": {
    "colab_type": "text",
    "id": "K-h9sIjGi17K"
   },
   "source": [
    "# Functions"
   ]
  },
  {
   "cell_type": "code",
   "execution_count": 4,
   "metadata": {
    "colab": {},
    "colab_type": "code",
    "id": "_meFLsUzi0I_"
   },
   "outputs": [],
   "source": [
    "def univariate_regplot(x, y, data):\n",
    "    ax = sns.regplot(x=x, y=y, data=train)\n",
    "    ax.set_title(f'{y} and {x} relationship')\n",
    "    return ax"
   ]
  },
  {
   "cell_type": "markdown",
   "metadata": {
    "colab_type": "text",
    "id": "tJAzwKrVfvsX"
   },
   "source": [
    "# Contents:  \n",
    "1. **gradient descend**  \n",
    "Basic step of every machine learning training pipeline.  \n",
    "Literally it is a *learning* step  \n",
    "2. **train/test split + cross validation** (kfold, timeseries split)  \n",
    "train - to fit model,   \n",
    "validation - to tune hyperparameters,  \n",
    "test - to get final score, assess generalization power of model, find under/over- fitting  \n",
    "3. **regression problem / model trainig pipeline in sklearn** \n",
    "sklearn model interface  \n",
    "prepare data -> get model instance -> choose metric and loss function -> fit on train -> predict on test -> get final score -> repeat if nessesary  \n",
    "4. **metrics**   \n",
    "5. **regularization** \n",
    "6. **grid search** "
   ]
  },
  {
   "cell_type": "markdown",
   "metadata": {
    "colab_type": "text",
    "id": "V1HsPVUugyKY"
   },
   "source": [
    "# Gradient descend"
   ]
  },
  {
   "cell_type": "code",
   "execution_count": 5,
   "metadata": {
    "colab": {},
    "colab_type": "code",
    "id": "z8sivU6w5icD"
   },
   "outputs": [],
   "source": [
    "# m denotes the number of examples here, not the number of features\n",
    "def gradientDescent(x, y, theta, alpha, m, num_iterations):\n",
    "    \"\"\"\n",
    "    run gradient descent cycle \n",
    "\n",
    "    x - train data\n",
    "    y - target\n",
    "    theta - initial parameter estimations\n",
    "    alpha - learning rate\n",
    "    m - number of examples in x\n",
    "    \"\"\"\n",
    "    xTrans = x.transpose()\n",
    "    history = []\n",
    "    for i in range(0, num_iterations):\n",
    "        hypothesis = np.dot(x, theta)\n",
    "        loss = hypothesis - y\n",
    "        # avg cost per example (the 2 in 2*m doesn't really matter here.\n",
    "        # But to be consistent with the gradient, I include it)\n",
    "        cost = np.sum(loss ** 2) / (2 * m)\n",
    "        if i%1000 == 0:\n",
    "            print(f\"Iteration {i} | Cost: {cost} | Theta: {theta}\")\n",
    "        if i==num_iterations-1:\n",
    "            print(f\"Loss on final step: {cost} | Theta: {theta}\")\n",
    "        # avg gradient per example\n",
    "\n",
    "        gradient = np.dot(xTrans, loss) / m\n",
    "        # update\n",
    "        theta = theta - alpha * gradient\n",
    "        #log history\n",
    "        history.append({'cost':cost,'theta':theta})\n",
    "    return theta, history\n",
    "\n",
    "\n",
    "def genData(numPoints, intercept, slope, variance):\n",
    "    \"\"\"\n",
    "    generate syntetic dataset\n",
    "    \n",
    "    numPoints - number of observations in generated dataset\n",
    "    intercept, slope - ground truth parameters of equation\n",
    "    variance - synthetic noize value\n",
    "    \"\"\"\n",
    "    x = np.zeros(shape=(numPoints, 2))\n",
    "    y = np.zeros(shape=numPoints)\n",
    "    # basically a straight line\n",
    "    for i in range(0, numPoints):\n",
    "        # bias feature\n",
    "        x[i][0] = 1\n",
    "        x[i][1] = i\n",
    "        # our target variable\n",
    "        y[i] = (slope * i + intercept) + random.uniform(-1, 1) * variance\n",
    "    return x, y"
   ]
  },
  {
   "cell_type": "code",
   "execution_count": 6,
   "metadata": {
    "colab": {
     "base_uri": "https://localhost:8080/",
     "height": 446
    },
    "colab_type": "code",
    "id": "z4EndzUp77vb",
    "outputId": "9336aaa0-cf5e-4029-c817-f439ac69adfb"
   },
   "outputs": [
    {
     "data": {
      "image/png": "[encoded data removed]",
      "text/plain": [
       "<Figure size 720x504 with 1 Axes>"
      ]
     },
     "metadata": {},
     "output_type": "display_data"
    }
   ],
   "source": [
    "# gen 100 points with a bias of 25 and 10 variance as a bit of noise\n",
    "x, y = genData(100, 12.4, 3, 10)\n",
    "plt.scatter(x[:,1],y);\n",
    "plt.ylim([0,200]);\n",
    "plt.title('Generated data');\n",
    "plt.ylabel('Target');\n",
    "plt.xlabel('Predictor');"
   ]
  },
  {
   "cell_type": "code",
   "execution_count": 7,
   "metadata": {
    "colab": {
     "base_uri": "https://localhost:8080/",
     "height": 932
    },
    "colab_type": "code",
    "id": "1dhNdNKOuCd2",
    "outputId": "6bd3a574-ad20-4e3d-ad53-aaa83333c641"
   },
   "outputs": [
    {
     "name": "stdout",
     "output_type": "stream",
     "text": [
      "Iteration 0 | Cost: 7785.761004568563 | Theta: [1. 1.]\n",
      "Iteration 1000 | Cost: 22.53910914594976 | Theta: [2.00021837 3.15919804]\n",
      "Iteration 2000 | Cost: 21.084509420527716 | Theta: [2.85239616 3.14635015]\n",
      "Iteration 3000 | Cost: 19.955880572997927 | Theta: [3.60304018 3.13503303]\n",
      "Iteration 4000 | Cost: 19.08017363230887 | Theta: [4.26424781 3.12506431]\n",
      "Iteration 5000 | Cost: 18.400709654713967 | Theta: [4.84667505 3.11628332]\n",
      "Iteration 6000 | Cost: 17.873511256028383 | Theta: [5.35970829 3.10854855]\n",
      "Iteration 7000 | Cost: 17.464456235097845 | Theta: [5.81161555 3.10173535]\n",
      "Iteration 8000 | Cost: 17.147069060619195 | Theta: [6.20967977 3.09573392]\n",
      "Iteration 9000 | Cost: 16.90080727829372 | Theta: [6.56031615 3.09044754]\n",
      "Iteration 10000 | Cost: 16.709731928340656 | Theta: [6.86917553 3.085791  ]\n",
      "Iteration 11000 | Cost: 16.561475917948318 | Theta: [7.14123548 3.08168928]\n",
      "Iteration 12000 | Cost: 16.446443577969074 | Theta: [7.38088051 3.07807626]\n",
      "Iteration 13000 | Cost: 16.357189596251335 | Theta: [7.59197275 3.07489372]\n",
      "Iteration 14000 | Cost: 16.28793712991095 | Theta: [7.77791414 3.07209037]\n",
      "Iteration 15000 | Cost: 16.234203907012336 | Theta: [7.94170132 3.06962102]\n",
      "Iteration 16000 | Cost: 16.192512117598223 | Theta: [8.08597388 3.06744589]\n",
      "Iteration 17000 | Cost: 16.160163317158133 | Theta: [8.2130569  3.06552992]\n",
      "Iteration 18000 | Cost: 16.13506377346814 | Theta: [8.32499847 3.06384223]\n",
      "Iteration 19000 | Cost: 16.115588952613106 | Theta: [8.42360262 3.06235562]\n",
      "Iteration 20000 | Cost: 16.100478373232885 | Theta: [8.51045846 3.06104613]\n",
      "Iteration 21000 | Cost: 16.088754023576147 | Theta: [8.58696575 3.05989267]\n",
      "Iteration 22000 | Cost: 16.079657061016743 | Theta: [8.65435749 3.05887663]\n",
      "Iteration 23000 | Cost: 16.072598696993957 | Theta: [8.71371976 3.05798166]\n",
      "Iteration 24000 | Cost: 16.06712208847188 | Theta: [8.76600924 3.05719331]\n",
      "Iteration 25000 | Cost: 16.06287276939348 | Theta: [8.81206862 3.0564989 ]\n",
      "Iteration 26000 | Cost: 16.059575708346102 | Theta: [8.8526402  3.05588722]\n",
      "Iteration 27000 | Cost: 16.05701750752624 | Theta: [8.88837784 3.05534842]\n",
      "Iteration 28000 | Cost: 16.05503259085631 | Theta: [8.91985746 3.05487381]\n",
      "Iteration 29000 | Cost: 16.05349248729759 | Theta: [8.94758641 3.05445576]\n",
      "Iteration 30000 | Cost: 16.05229751573657 | Theta: [8.97201156 3.05408751]\n",
      "Iteration 31000 | Cost: 16.051370333260046 | Theta: [8.99352655 3.05376314]\n",
      "Iteration 32000 | Cost: 16.05065092924009 | Theta: [9.01247811 3.05347741]\n",
      "Iteration 33000 | Cost: 16.050092741227413 | Theta: [9.02917166 3.05322573]\n",
      "Iteration 34000 | Cost: 16.04965964126015 | Theta: [9.04387623 3.05300404]\n",
      "Iteration 35000 | Cost: 16.049323597530496 | Theta: [9.05682882 3.05280876]\n",
      "Iteration 36000 | Cost: 16.049062860063874 | Theta: [9.06823815 3.05263675]\n",
      "Iteration 37000 | Cost: 16.048860552981516 | Theta: [9.0782881  3.05248523]\n",
      "Iteration 38000 | Cost: 16.048703582231973 | Theta: [9.08714064 3.05235176]\n",
      "Iteration 39000 | Cost: 16.048581788096378 | Theta: [9.09493843 3.0522342 ]\n",
      "Iteration 40000 | Cost: 16.048487287614588 | Theta: [9.10180714 3.05213064]\n",
      "Iteration 41000 | Cost: 16.048413964371093 | Theta: [9.10785748 3.05203942]\n",
      "Iteration 42000 | Cost: 16.04835707261845 | Theta: [9.11318694 3.05195907]\n",
      "Iteration 43000 | Cost: 16.04831293011507 | Theta: [9.11788141 3.0518883 ]\n",
      "Iteration 44000 | Cost: 16.048278679797424 | Theta: [9.12201656 3.05182595]\n",
      "Iteration 45000 | Cost: 16.048252104860083 | Theta: [9.12565901 3.05177104]\n",
      "Iteration 46000 | Cost: 16.048231485276286 | Theta: [9.12886749 3.05172266]\n",
      "Iteration 47000 | Cost: 16.048215486471506 | Theta: [9.13169368 3.05168006]\n",
      "Iteration 48000 | Cost: 16.04820307294472 | Theta: [9.13418315 3.05164252]\n",
      "Iteration 49000 | Cost: 16.04819344124731 | Theta: [9.136376   3.05160946]\n",
      "Loss on final step: 16.048185974546765 | Theta: [9.13830578 3.05158037]\n",
      "[9.13830759 3.05158034]\n"
     ]
    }
   ],
   "source": [
    "m, n = np.shape(x)\n",
    "numIterations= 50000\n",
    "alpha = 0.0005\n",
    "theta_initial = np.ones(n)\n",
    "theta, history = gradientDescent(x, y, theta_initial, alpha, m, numIterations)\n",
    "print(theta)"
   ]
  },
  {
   "cell_type": "code",
   "execution_count": 8,
   "metadata": {
    "colab": {
     "base_uri": "https://localhost:8080/",
     "height": 480
    },
    "colab_type": "code",
    "id": "fPYsmmU0kZFK",
    "outputId": "05e23712-d313-4736-de60-0f99535ceef0"
   },
   "outputs": [
    {
     "data": {
      "image/png": "[encoded data removed]",
      "text/plain": [
       "<Figure size 720x504 with 1 Axes>"
      ]
     },
     "metadata": {},
     "output_type": "display_data"
    }
   ],
   "source": [
    "# plt.plot(list(map(lambda x: x['cost'], history))); # very big cost function at the beginning because random params\n",
    "plt.plot(list(map(lambda x: x['cost'], history))[10:])\n",
    "plt.ylabel('Loss');\n",
    "plt.xlabel('Iteration');\n",
    "plt.title('Loss value during trainig');"
   ]
  },
  {
   "cell_type": "code",
   "execution_count": 9,
   "metadata": {
    "colab": {
     "base_uri": "https://localhost:8080/",
     "height": 445
    },
    "colab_type": "code",
    "id": "JveV6WHPpDtx",
    "outputId": "2024948f-5cdd-4c16-df25-ad0b35848771"
   },
   "outputs": [
    {
     "data": {
      "image/png": "[encoded data removed]",
      "text/plain": [
       "<Figure size 720x504 with 2 Axes>"
      ]
     },
     "metadata": {},
     "output_type": "display_data"
    }
   ],
   "source": [
    "intercepts = list(map(lambda x: x['theta'][0], history))\n",
    "slopes = list(map(lambda x: x['theta'][1], history))\n",
    "\n",
    "intercepts = [intercepts[i] for i in range(len(intercepts)) if i%5000==0 or i==0 or i==len(intercepts)-1]\n",
    "slopes = [slopes[i] for i in range(len(slopes)) if i%5000==0 or i==0 or i==len(slopes)-1]\n",
    "\n",
    "f, (ax1, ax2) = plt.subplots(2, 1, sharex=True);\n",
    "ax1.set_title('Model coefficients during training');\n",
    "ax1.plot(intercepts);\n",
    "ax1.set_ylabel('Intercept');\n",
    "\n",
    "ax2.plot(slopes);\n",
    "ax2.set_ylabel('Slope');\n",
    "ax2.set_xticklabels(['0','0','10','20','30','40','50']);"
   ]
  },
  {
   "cell_type": "code",
   "execution_count": 10,
   "metadata": {
    "colab": {
     "base_uri": "https://localhost:8080/",
     "height": 428
    },
    "colab_type": "code",
    "id": "q81MF5GsCPbr",
    "outputId": "f621ae43-448c-4638-84e5-a7e72c3170c5"
   },
   "outputs": [
    {
     "data": {
      "image/png": "[encoded data removed]",
      "text/plain": [
       "<Figure size 720x504 with 1 Axes>"
      ]
     },
     "metadata": {},
     "output_type": "display_data"
    }
   ],
   "source": [
    "plt.scatter(list(map(lambda x: x[1], x)), y);\n",
    "plt.plot(np.dot(x, theta), 'blue');\n",
    "\n",
    "plt.plot(np.dot(x, history[0]['theta']),'green');\n",
    "\n",
    "plt.legend(['fitted data', '0 step', 'ground truth']);\n",
    "plt.ylim([0,200]);"
   ]
  },
  {
   "cell_type": "markdown",
   "metadata": {
    "colab_type": "text",
    "id": "0qw3bfZnRSTp"
   },
   "source": [
    "## Loss function vs Quality metric\n",
    "\n",
    "**Loss function** - always differentiable. Used by model to tune parameters.   Doesn't have meaningful interpretation. Varies from 0 to Inf.  \n",
    "**Quality metric** - not always differentiable. Used by scientist. Has interpetation (fraction of right answers, mean difference between GT and predicted values)"
   ]
  },
  {
   "cell_type": "code",
   "execution_count": 11,
   "metadata": {
    "colab": {
     "base_uri": "https://localhost:8080/",
     "height": 111
    },
    "colab_type": "code",
    "id": "l_shVwLpRWsr",
    "outputId": "a45506d3-6886-4a03-9de8-dc4a29b4f549"
   },
   "outputs": [
    {
     "data": {
      "text/html": [
       "<div>\n",
       "<style scoped>\n",
       "    .dataframe tbody tr th:only-of-type {\n",
       "        vertical-align: middle;\n",
       "    }\n",
       "\n",
       "    .dataframe tbody tr th {\n",
       "        vertical-align: top;\n",
       "    }\n",
       "\n",
       "    .dataframe thead th {\n",
       "        text-align: right;\n",
       "    }\n",
       "</style>\n",
       "<table border=\"1\" class=\"dataframe\">\n",
       "  <thead>\n",
       "    <tr style=\"text-align: right;\">\n",
       "      <th></th>\n",
       "      <th>Explained variance</th>\n",
       "    </tr>\n",
       "  </thead>\n",
       "  <tbody>\n",
       "    <tr>\n",
       "      <th>first iteration</th>\n",
       "      <td>0.749333</td>\n",
       "    </tr>\n",
       "    <tr>\n",
       "      <th>last iteration</th>\n",
       "      <td>0.995880</td>\n",
       "    </tr>\n",
       "  </tbody>\n",
       "</table>\n",
       "</div>"
      ],
      "text/plain": [
       "                 Explained variance\n",
       "first iteration            0.749333\n",
       "last iteration             0.995880"
      ]
     },
     "execution_count": 11,
     "metadata": {},
     "output_type": "execute_result"
    }
   ],
   "source": [
    "ev_1 = metrics.explained_variance_score(y, np.dot(x, history[0]['theta']))\n",
    "ev_final = metrics.explained_variance_score(y, np.dot(x, theta))\n",
    "\n",
    "pd.DataFrame.from_dict({'first iteration':ev_1, 'last iteration':ev_final}, \n",
    "                          orient='index',\n",
    "                          columns=['Explained variance'])"
   ]
  },
  {
   "cell_type": "markdown",
   "metadata": {
    "colab_type": "text",
    "id": "LqWdTmsUB8YZ"
   },
   "source": [
    "# How everything works in sklearn"
   ]
  },
  {
   "cell_type": "markdown",
   "metadata": {
    "colab_type": "text",
    "id": "iZimZ91yfsD8"
   },
   "source": [
    "## EDA"
   ]
  },
  {
   "cell_type": "markdown",
   "metadata": {
    "colab_type": "text",
    "id": "1LXoGpermZys"
   },
   "source": [
    "### Download&overview"
   ]
  },
  {
   "cell_type": "code",
   "execution_count": 12,
   "metadata": {
    "colab": {
     "base_uri": "https://localhost:8080/"
    },
    "colab_type": "code",
    "id": "9SjYgY-IOFP3",
    "outputId": "2003dfda-9e0c-431a-930e-546e701ea777"
   },
   "outputs": [
    {
     "data": {
      "text/html": [
       "<div>\n",
       "<style scoped>\n",
       "    .dataframe tbody tr th:only-of-type {\n",
       "        vertical-align: middle;\n",
       "    }\n",
       "\n",
       "    .dataframe tbody tr th {\n",
       "        vertical-align: top;\n",
       "    }\n",
       "\n",
       "    .dataframe thead th {\n",
       "        text-align: right;\n",
       "    }\n",
       "</style>\n",
       "<table border=\"1\" class=\"dataframe\">\n",
       "  <thead>\n",
       "    <tr style=\"text-align: right;\">\n",
       "      <th></th>\n",
       "      <th>MSSubClass</th>\n",
       "      <th>MSZoning</th>\n",
       "      <th>LotFrontage</th>\n",
       "      <th>LotArea</th>\n",
       "      <th>Street</th>\n",
       "      <th>Alley</th>\n",
       "      <th>LotShape</th>\n",
       "      <th>LandContour</th>\n",
       "      <th>Utilities</th>\n",
       "      <th>LotConfig</th>\n",
       "      <th>...</th>\n",
       "      <th>PoolArea</th>\n",
       "      <th>PoolQC</th>\n",
       "      <th>Fence</th>\n",
       "      <th>MiscFeature</th>\n",
       "      <th>MiscVal</th>\n",
       "      <th>MoSold</th>\n",
       "      <th>YrSold</th>\n",
       "      <th>SaleType</th>\n",
       "      <th>SaleCondition</th>\n",
       "      <th>SalePrice</th>\n",
       "    </tr>\n",
       "    <tr>\n",
       "      <th>Id</th>\n",
       "      <th></th>\n",
       "      <th></th>\n",
       "      <th></th>\n",
       "      <th></th>\n",
       "      <th></th>\n",
       "      <th></th>\n",
       "      <th></th>\n",
       "      <th></th>\n",
       "      <th></th>\n",
       "      <th></th>\n",
       "      <th></th>\n",
       "      <th></th>\n",
       "      <th></th>\n",
       "      <th></th>\n",
       "      <th></th>\n",
       "      <th></th>\n",
       "      <th></th>\n",
       "      <th></th>\n",
       "      <th></th>\n",
       "      <th></th>\n",
       "      <th></th>\n",
       "    </tr>\n",
       "  </thead>\n",
       "  <tbody>\n",
       "    <tr>\n",
       "      <th>1</th>\n",
       "      <td>60</td>\n",
       "      <td>RL</td>\n",
       "      <td>65.0</td>\n",
       "      <td>8450</td>\n",
       "      <td>Pave</td>\n",
       "      <td>NaN</td>\n",
       "      <td>Reg</td>\n",
       "      <td>Lvl</td>\n",
       "      <td>AllPub</td>\n",
       "      <td>Inside</td>\n",
       "      <td>...</td>\n",
       "      <td>0</td>\n",
       "      <td>NaN</td>\n",
       "      <td>NaN</td>\n",
       "      <td>NaN</td>\n",
       "      <td>0</td>\n",
       "      <td>2</td>\n",
       "      <td>2008</td>\n",
       "      <td>WD</td>\n",
       "      <td>Normal</td>\n",
       "      <td>208500.0</td>\n",
       "    </tr>\n",
       "    <tr>\n",
       "      <th>2</th>\n",
       "      <td>20</td>\n",
       "      <td>RL</td>\n",
       "      <td>80.0</td>\n",
       "      <td>9600</td>\n",
       "      <td>Pave</td>\n",
       "      <td>NaN</td>\n",
       "      <td>Reg</td>\n",
       "      <td>Lvl</td>\n",
       "      <td>AllPub</td>\n",
       "      <td>FR2</td>\n",
       "      <td>...</td>\n",
       "      <td>0</td>\n",
       "      <td>NaN</td>\n",
       "      <td>NaN</td>\n",
       "      <td>NaN</td>\n",
       "      <td>0</td>\n",
       "      <td>5</td>\n",
       "      <td>2007</td>\n",
       "      <td>WD</td>\n",
       "      <td>Normal</td>\n",
       "      <td>181500.0</td>\n",
       "    </tr>\n",
       "    <tr>\n",
       "      <th>3</th>\n",
       "      <td>60</td>\n",
       "      <td>RL</td>\n",
       "      <td>68.0</td>\n",
       "      <td>11250</td>\n",
       "      <td>Pave</td>\n",
       "      <td>NaN</td>\n",
       "      <td>IR1</td>\n",
       "      <td>Lvl</td>\n",
       "      <td>AllPub</td>\n",
       "      <td>Inside</td>\n",
       "      <td>...</td>\n",
       "      <td>0</td>\n",
       "      <td>NaN</td>\n",
       "      <td>NaN</td>\n",
       "      <td>NaN</td>\n",
       "      <td>0</td>\n",
       "      <td>9</td>\n",
       "      <td>2008</td>\n",
       "      <td>WD</td>\n",
       "      <td>Normal</td>\n",
       "      <td>223500.0</td>\n",
       "    </tr>\n",
       "    <tr>\n",
       "      <th>4</th>\n",
       "      <td>70</td>\n",
       "      <td>RL</td>\n",
       "      <td>60.0</td>\n",
       "      <td>9550</td>\n",
       "      <td>Pave</td>\n",
       "      <td>NaN</td>\n",
       "      <td>IR1</td>\n",
       "      <td>Lvl</td>\n",
       "      <td>AllPub</td>\n",
       "      <td>Corner</td>\n",
       "      <td>...</td>\n",
       "      <td>0</td>\n",
       "      <td>NaN</td>\n",
       "      <td>NaN</td>\n",
       "      <td>NaN</td>\n",
       "      <td>0</td>\n",
       "      <td>2</td>\n",
       "      <td>2006</td>\n",
       "      <td>WD</td>\n",
       "      <td>Abnorml</td>\n",
       "      <td>140000.0</td>\n",
       "    </tr>\n",
       "    <tr>\n",
       "      <th>5</th>\n",
       "      <td>60</td>\n",
       "      <td>RL</td>\n",
       "      <td>84.0</td>\n",
       "      <td>14260</td>\n",
       "      <td>Pave</td>\n",
       "      <td>NaN</td>\n",
       "      <td>IR1</td>\n",
       "      <td>Lvl</td>\n",
       "      <td>AllPub</td>\n",
       "      <td>FR2</td>\n",
       "      <td>...</td>\n",
       "      <td>0</td>\n",
       "      <td>NaN</td>\n",
       "      <td>NaN</td>\n",
       "      <td>NaN</td>\n",
       "      <td>0</td>\n",
       "      <td>12</td>\n",
       "      <td>2008</td>\n",
       "      <td>WD</td>\n",
       "      <td>Normal</td>\n",
       "      <td>250000.0</td>\n",
       "    </tr>\n",
       "  </tbody>\n",
       "</table>\n",
       "<p>5 rows × 80 columns</p>\n",
       "</div>"
      ],
      "text/plain": [
       "    MSSubClass MSZoning  LotFrontage  LotArea Street Alley LotShape  \\\n",
       "Id                                                                    \n",
       "1           60       RL         65.0     8450   Pave   NaN      Reg   \n",
       "2           20       RL         80.0     9600   Pave   NaN      Reg   \n",
       "3           60       RL         68.0    11250   Pave   NaN      IR1   \n",
       "4           70       RL         60.0     9550   Pave   NaN      IR1   \n",
       "5           60       RL         84.0    14260   Pave   NaN      IR1   \n",
       "\n",
       "   LandContour Utilities LotConfig  ... PoolArea PoolQC Fence MiscFeature  \\\n",
       "Id                                  ...                                     \n",
       "1          Lvl    AllPub    Inside  ...        0    NaN   NaN         NaN   \n",
       "2          Lvl    AllPub       FR2  ...        0    NaN   NaN         NaN   \n",
       "3          Lvl    AllPub    Inside  ...        0    NaN   NaN         NaN   \n",
       "4          Lvl    AllPub    Corner  ...        0    NaN   NaN         NaN   \n",
       "5          Lvl    AllPub       FR2  ...        0    NaN   NaN         NaN   \n",
       "\n",
       "   MiscVal MoSold  YrSold  SaleType  SaleCondition  SalePrice  \n",
       "Id                                                             \n",
       "1        0      2    2008        WD         Normal   208500.0  \n",
       "2        0      5    2007        WD         Normal   181500.0  \n",
       "3        0      9    2008        WD         Normal   223500.0  \n",
       "4        0      2    2006        WD        Abnorml   140000.0  \n",
       "5        0     12    2008        WD         Normal   250000.0  \n",
       "\n",
       "[5 rows x 80 columns]"
      ]
     },
     "execution_count": 12,
     "metadata": {},
     "output_type": "execute_result"
    }
   ],
   "source": [
    "train = pd.read_csv(TRAIN_PATH, index_col=0)\n",
    "test = pd.read_csv(TEST_PATH, index_col=0)\n",
    "full_house = pd.concat([train, test], sort=False)\n",
    "full_house.head()"
   ]
  },
  {
   "cell_type": "code",
   "execution_count": 13,
   "metadata": {
    "colab": {
     "base_uri": "https://localhost:8080/"
    },
    "colab_type": "code",
    "id": "YaUYDYo2T1vL",
    "outputId": "357bf095-2a09-4dd0-bf3c-dba89c561d43"
   },
   "outputs": [
    {
     "name": "stdout",
     "output_type": "stream",
     "text": [
      "<class 'pandas.core.frame.DataFrame'>\n",
      "Int64Index: 2919 entries, 1 to 2919\n",
      "Data columns (total 80 columns):\n",
      " #   Column         Non-Null Count  Dtype  \n",
      "---  ------         --------------  -----  \n",
      " 0   MSSubClass     2919 non-null   int64  \n",
      " 1   MSZoning       2915 non-null   object \n",
      " 2   LotFrontage    2433 non-null   float64\n",
      " 3   LotArea        2919 non-null   int64  \n",
      " 4   Street         2919 non-null   object \n",
      " 5   Alley          198 non-null    object \n",
      " 6   LotShape       2919 non-null   object \n",
      " 7   LandContour    2919 non-null   object \n",
      " 8   Utilities      2917 non-null   object \n",
      " 9   LotConfig      2919 non-null   object \n",
      " 10  LandSlope      2919 non-null   object \n",
      " 11  Neighborhood   2919 non-null   object \n",
      " 12  Condition1     2919 non-null   object \n",
      " 13  Condition2     2919 non-null   object \n",
      " 14  BldgType       2919 non-null   object \n",
      " 15  HouseStyle     2919 non-null   object \n",
      " 16  OverallQual    2919 non-null   int64  \n",
      " 17  OverallCond    2919 non-null   int64  \n",
      " 18  YearBuilt      2919 non-null   int64  \n",
      " 19  YearRemodAdd   2919 non-null   int64  \n",
      " 20  RoofStyle      2919 non-null   object \n",
      " 21  RoofMatl       2919 non-null   object \n",
      " 22  Exterior1st    2918 non-null   object \n",
      " 23  Exterior2nd    2918 non-null   object \n",
      " 24  MasVnrType     2895 non-null   object \n",
      " 25  MasVnrArea     2896 non-null   float64\n",
      " 26  ExterQual      2919 non-null   object \n",
      " 27  ExterCond      2919 non-null   object \n",
      " 28  Foundation     2919 non-null   object \n",
      " 29  BsmtQual       2838 non-null   object \n",
      " 30  BsmtCond       2837 non-null   object \n",
      " 31  BsmtExposure   2837 non-null   object \n",
      " 32  BsmtFinType1   2840 non-null   object \n",
      " 33  BsmtFinSF1     2918 non-null   float64\n",
      " 34  BsmtFinType2   2839 non-null   object \n",
      " 35  BsmtFinSF2     2918 non-null   float64\n",
      " 36  BsmtUnfSF      2918 non-null   float64\n",
      " 37  TotalBsmtSF    2918 non-null   float64\n",
      " 38  Heating        2919 non-null   object \n",
      " 39  HeatingQC      2919 non-null   object \n",
      " 40  CentralAir     2919 non-null   object \n",
      " 41  Electrical     2918 non-null   object \n",
      " 42  1stFlrSF       2919 non-null   int64  \n",
      " 43  2ndFlrSF       2919 non-null   int64  \n",
      " 44  LowQualFinSF   2919 non-null   int64  \n",
      " 45  GrLivArea      2919 non-null   int64  \n",
      " 46  BsmtFullBath   2917 non-null   float64\n",
      " 47  BsmtHalfBath   2917 non-null   float64\n",
      " 48  FullBath       2919 non-null   int64  \n",
      " 49  HalfBath       2919 non-null   int64  \n",
      " 50  BedroomAbvGr   2919 non-null   int64  \n",
      " 51  KitchenAbvGr   2919 non-null   int64  \n",
      " 52  KitchenQual    2918 non-null   object \n",
      " 53  TotRmsAbvGrd   2919 non-null   int64  \n",
      " 54  Functional     2917 non-null   object \n",
      " 55  Fireplaces     2919 non-null   int64  \n",
      " 56  FireplaceQu    1499 non-null   object \n",
      " 57  GarageType     2762 non-null   object \n",
      " 58  GarageYrBlt    2760 non-null   float64\n",
      " 59  GarageFinish   2760 non-null   object \n",
      " 60  GarageCars     2918 non-null   float64\n",
      " 61  GarageArea     2918 non-null   float64\n",
      " 62  GarageQual     2760 non-null   object \n",
      " 63  GarageCond     2760 non-null   object \n",
      " 64  PavedDrive     2919 non-null   object \n",
      " 65  WoodDeckSF     2919 non-null   int64  \n",
      " 66  OpenPorchSF    2919 non-null   int64  \n",
      " 67  EnclosedPorch  2919 non-null   int64  \n",
      " 68  3SsnPorch      2919 non-null   int64  \n",
      " 69  ScreenPorch    2919 non-null   int64  \n",
      " 70  PoolArea       2919 non-null   int64  \n",
      " 71  PoolQC         10 non-null     object \n",
      " 72  Fence          571 non-null    object \n",
      " 73  MiscFeature    105 non-null    object \n",
      " 74  MiscVal        2919 non-null   int64  \n",
      " 75  MoSold         2919 non-null   int64  \n",
      " 76  YrSold         2919 non-null   int64  \n",
      " 77  SaleType       2918 non-null   object \n",
      " 78  SaleCondition  2919 non-null   object \n",
      " 79  SalePrice      1460 non-null   float64\n",
      "dtypes: float64(12), int64(25), object(43)\n",
      "memory usage: 1.8+ MB\n"
     ]
    }
   ],
   "source": [
    "full_house.info()"
   ]
  },
  {
   "cell_type": "code",
   "execution_count": 14,
   "metadata": {
    "colab": {
     "base_uri": "https://localhost:8080/"
    },
    "colab_type": "code",
    "id": "3-i58Ecd-XKW",
    "outputId": "817df8bf-29db-4e41-8667-10c9fac9d908"
   },
   "outputs": [
    {
     "name": "stdout",
     "output_type": "stream",
     "text": [
      "MSSubClass: Identifies the type of dwelling involved in the sale.\t\n",
      "\n",
      "        20\t1-STORY 1946 & NEWER ALL STYLES\n",
      "        30\t1-STORY 1945 & OLDER\n",
      "        40\t1-STORY W/FINISHED ATTIC ALL AGES\n",
      "        45\t1-1/2 STORY - UNFINISHED ALL AGES\n",
      "        50\t1-1/2 STORY FINISHED ALL AGES\n",
      "        60\t2-STORY 1946 & NEWER\n",
      "        70\t2-STORY 1945 & OLDER\n",
      "        75\t2-1/2 STORY ALL AGES\n",
      "        80\tSPLIT OR MULTI-LEVEL\n",
      "        85\tSPLIT FOYER\n",
      "        90\tDUPLEX - ALL STYLES AND AGES\n",
      "       120\t1-STORY PUD (Planned Unit Development) - 1946 & NEWER\n",
      "       150\t1-1/2 STORY PUD - ALL AGES\n",
      "       160\t2-STORY PUD - 1946 & NEWER\n",
      "       180\tPUD - MULTILEVEL - INCL SPLIT LEV/FOYER\n",
      "       190\t2 FAMILY CONVERSION - ALL STYLES AND AGES\n",
      "\n",
      "MSZoning: Identifies the general zoning classification of the sale.\n",
      "\t\t\n",
      "       A\tAgriculture\n",
      "       C\tCommercial\n",
      "       FV\tFloating Village Residential\n",
      "       I\tIndustrial\n",
      "       RH\tResidential High Density\n",
      "       RL\tResidential Low Density\n",
      "       RP\tResidential Low Density Park \n",
      "       RM\tResidential Medium Density\n",
      "\t\n",
      "LotFrontage: Linear feet of street connected to property\n",
      "\n",
      "LotArea: Lot size in square feet\n",
      "\n",
      "Street: Type of road access to property\n",
      "\n",
      "       Grvl\tGravel\t\n",
      "       Pave\tPaved\n",
      "       \t\n",
      "Alley: Type of alley access to property\n",
      "\n",
      "       Grvl\tGravel\n",
      "       Pave\tPaved\n",
      "       NA \tNo alley access\n",
      "\t\t\n",
      "LotShape: General shape of property\n",
      "\n",
      "       Reg\tRegular\t\n",
      "       IR1\tSlightly irregular\n",
      "       IR2\tModerately Irregular\n",
      "       IR3\tIrregular\n",
      "       \n",
      "LandContour: Flatness of the property\n",
      "\n",
      "       Lvl\tNear Flat/Level\t\n",
      "       Bnk\tBanked - Quick and significant rise from street grade to building\n",
      "       HLS\tHillside - Significant slope from side to side\n",
      "       Low\tDepression\n",
      "\t\t\n",
      "Utilities: Type of utilities available\n",
      "\t\t\n",
      "       AllPub\tAll public Utilities (E,G,W,& S)\t\n",
      "       NoSewr\tElectricity, Gas, and Water (Septic Tank)\n",
      "       NoSeWa\tElectricity and Gas Only\n",
      "       ELO\tElectricity only\t\n",
      "\t\n",
      "LotConfig: Lot configuration\n",
      "\n",
      "       Inside\tInside lot\n",
      "       Corner\tCorner lot\n",
      "       CulDSac\tCul-de-sac\n",
      "       FR2\tFrontage on 2 sides of property\n",
      "       FR3\tFrontage on 3 sides of property\n",
      "\t\n",
      "LandSlope: Slope of property\n",
      "\t\t\n",
      "       Gtl\tGentle slope\n",
      "       Mod\tModerate Slope\t\n",
      "       Sev\tSevere Slope\n",
      "\t\n",
      "Neighborhood: Physical locations within Ames city limits\n",
      "\n",
      "       Blmngtn\tBloomington Heights\n",
      "       Blueste\tBluestem\n",
      "       BrDale\tBriardale\n",
      "       BrkSide\tBrookside\n",
      "       ClearCr\tClear Creek\n",
      "       CollgCr\tCollege Creek\n",
      "       Crawfor\tCrawford\n",
      "       Edwards\tEdwards\n",
      "       Gilbert\tGilbert\n",
      "       IDOTRR\tIowa DOT and Rail Road\n",
      "       MeadowV\tMeadow Village\n",
      "       Mitchel\tMitchell\n",
      "       Names\tNorth Ames\n",
      "       NoRidge\tNorthridge\n",
      "       NPkVill\tNorthpark Villa\n",
      "       NridgHt\tNorthridge Heights\n",
      "       NWAmes\tNorthwest Ames\n",
      "       OldTown\tOld Town\n",
      "       SWISU\tSouth & West of Iowa State University\n",
      "       Sawyer\tSawyer\n",
      "       SawyerW\tSawyer West\n",
      "       Somerst\tSomerset\n",
      "       StoneBr\tStone Brook\n",
      "       Timber\tTimberland\n",
      "       Veenker\tVeenker\n",
      "\t\t\t\n",
      "Condition1: Proximity to various conditions\n",
      "\t\n",
      "       Artery\tAdjacent to arterial street\n",
      "       Feedr\tAdjacent to feeder street\t\n",
      "       Norm\tNormal\t\n",
      "       RRNn\tWithin 200' of North-South Railroad\n",
      "       RRAn\tAdjacent to North-South Railroad\n",
      "       PosN\tNear positive off-site feature--park, greenbelt, etc.\n",
      "       PosA\tAdjacent to postive off-site feature\n",
      "       RRNe\tWithin 200' of East-West Railroad\n",
      "       RRAe\tAdjacent to East-West Railroad\n",
      "\t\n",
      "Condition2: Proximity to various conditions (if more than one is present)\n",
      "\t\t\n",
      "       Artery\tAdjacent to arterial street\n",
      "       Feedr\tAdjacent to feeder street\t\n",
      "       Norm\tNormal\t\n",
      "       RRNn\tWithin 200' of North-South Railroad\n",
      "       RRAn\tAdjacent to North-South Railroad\n",
      "       PosN\tNear positive off-site feature--park, greenbelt, etc.\n",
      "       PosA\tAdjacent to postive off-site feature\n",
      "       RRNe\tWithin 200' of East-West Railroad\n",
      "       RRAe\tAdjacent to East-West Railroad\n",
      "\t\n",
      "BldgType: Type of dwelling\n",
      "\t\t\n",
      "       1Fam\tSingle-family Detached\t\n",
      "       2FmCon\tTwo-family Conversion; originally built as one-family dwelling\n",
      "       Duplx\tDuplex\n",
      "       TwnhsE\tTownhouse End Unit\n",
      "       TwnhsI\tTownhouse Inside Unit\n",
      "\t\n",
      "HouseStyle: Style of dwelling\n",
      "\t\n",
      "       1Story\tOne story\n",
      "       1.5Fin\tOne and one-half story: 2nd level finished\n",
      "       1.5Unf\tOne and one-half story: 2nd level unfinished\n",
      "       2Story\tTwo story\n",
      "       2.5Fin\tTwo and one-half story: 2nd level finished\n",
      "       2.5Unf\tTwo and one-half story: 2nd level unfinished\n",
      "       SFoyer\tSplit Foyer\n",
      "       SLvl\tSplit Level\n",
      "\t\n",
      "OverallQual: Rates the overall material and finish of the house\n",
      "\n",
      "       10\tVery Excellent\n",
      "       9\tExcellent\n",
      "       8\tVery Good\n",
      "       7\tGood\n",
      "       6\tAbove Average\n",
      "       5\tAverage\n",
      "       4\tBelow Average\n",
      "       3\tFair\n",
      "       2\tPoor\n",
      "       1\tVery Poor\n",
      "\t\n",
      "OverallCond: Rates the overall condition of the house\n",
      "\n",
      "       10\tVery Excellent\n",
      "       9\tExcellent\n",
      "       8\tVery Good\n",
      "       7\tGood\n",
      "       6\tAbove Average\t\n",
      "       5\tAverage\n",
      "       4\tBelow Average\t\n",
      "       3\tFair\n",
      "       2\tPoor\n",
      "       1\tVery Poor\n",
      "\t\t\n",
      "YearBuilt: Original construction date\n",
      "\n",
      "YearRemodAdd: Remodel date (same as construction date if no remodeling or additions)\n",
      "\n",
      "RoofStyle: Type of roof\n",
      "\n",
      "       Flat\tFlat\n",
      "       Gable\tGable\n",
      "       Gambrel\tGabrel (Barn)\n",
      "       Hip\tHip\n",
      "       Mansard\tMansard\n",
      "       Shed\tShed\n",
      "\t\t\n",
      "RoofMatl: Roof material\n",
      "\n",
      "       ClyTile\tClay or Tile\n",
      "       CompShg\tStandard (Composite) Shingle\n",
      "       Membran\tMembrane\n",
      "       Metal\tMetal\n",
      "       Roll\tRoll\n",
      "       Tar&Grv\tGravel & Tar\n",
      "       WdShake\tWood Shakes\n",
      "       WdShngl\tWood Shingles\n",
      "\t\t\n",
      "Exterior1st: Exterior covering on house\n",
      "\n",
      "       AsbShng\tAsbestos Shingles\n",
      "       AsphShn\tAsphalt Shingles\n",
      "       BrkComm\tBrick Common\n",
      "       BrkFace\tBrick Face\n",
      "       CBlock\tCinder Block\n",
      "       CemntBd\tCement Board\n",
      "       HdBoard\tHard Board\n",
      "       ImStucc\tImitation Stucco\n",
      "       MetalSd\tMetal Siding\n",
      "       Other\tOther\n",
      "       Plywood\tPlywood\n",
      "       PreCast\tPreCast\t\n",
      "       Stone\tStone\n",
      "       Stucco\tStucco\n",
      "       VinylSd\tVinyl Siding\n",
      "       Wd Sdng\tWood Siding\n",
      "       WdShing\tWood Shingles\n",
      "\t\n",
      "Exterior2nd: Exterior covering on house (if more than one material)\n",
      "\n",
      "       AsbShng\tAsbestos Shingles\n",
      "       AsphShn\tAsphalt Shingles\n",
      "       BrkComm\tBrick Common\n",
      "       BrkFace\tBrick Face\n",
      "       CBlock\tCinder Block\n",
      "       CemntBd\tCement Board\n",
      "       HdBoard\tHard Board\n",
      "       ImStucc\tImitation Stucco\n",
      "       MetalSd\tMetal Siding\n",
      "       Other\tOther\n",
      "       Plywood\tPlywood\n",
      "       PreCast\tPreCast\n",
      "       Stone\tStone\n",
      "       Stucco\tStucco\n",
      "       VinylSd\tVinyl Siding\n",
      "       Wd Sdng\tWood Siding\n",
      "       WdShing\tWood Shingles\n",
      "\t\n",
      "MasVnrType: Masonry veneer type\n",
      "\n",
      "       BrkCmn\tBrick Common\n",
      "       BrkFace\tBrick Face\n",
      "       CBlock\tCinder Block\n",
      "       None\tNone\n",
      "       Stone\tStone\n",
      "\t\n",
      "MasVnrArea: Masonry veneer area in square feet\n",
      "\n",
      "ExterQual: Evaluates the quality of the material on the exterior \n",
      "\t\t\n",
      "       Ex\tExcellent\n",
      "       Gd\tGood\n",
      "       TA\tAverage/Typical\n",
      "       Fa\tFair\n",
      "       Po\tPoor\n",
      "\t\t\n",
      "ExterCond: Evaluates the present condition of the material on the exterior\n",
      "\t\t\n",
      "       Ex\tExcellent\n",
      "       Gd\tGood\n",
      "       TA\tAverage/Typical\n",
      "       Fa\tFair\n",
      "       Po\tPoor\n",
      "\t\t\n",
      "Foundation: Type of foundation\n",
      "\t\t\n",
      "       BrkTil\tBrick & Tile\n",
      "       CBlock\tCinder Block\n",
      "       PConc\tPoured Contrete\t\n",
      "       Slab\tSlab\n",
      "       Stone\tStone\n",
      "       Wood\tWood\n",
      "\t\t\n",
      "BsmtQual: Evaluates the height of the basement\n",
      "\n",
      "       Ex\tExcellent (100+ inches)\t\n",
      "       Gd\tGood (90-99 inches)\n",
      "       TA\tTypical (80-89 inches)\n",
      "       Fa\tFair (70-79 inches)\n",
      "       Po\tPoor (<70 inches\n",
      "       NA\tNo Basement\n",
      "\t\t\n",
      "BsmtCond: Evaluates the general condition of the basement\n",
      "\n",
      "       Ex\tExcellent\n",
      "       Gd\tGood\n",
      "       TA\tTypical - slight dampness allowed\n",
      "       Fa\tFair - dampness or some cracking or settling\n",
      "       Po\tPoor - Severe cracking, settling, or wetness\n",
      "       NA\tNo Basement\n",
      "\t\n",
      "BsmtExposure: Refers to walkout or garden level walls\n",
      "\n",
      "       Gd\tGood Exposure\n",
      "       Av\tAverage Exposure (split levels or foyers typically score average or above)\t\n",
      "       Mn\tMimimum Exposure\n",
      "       No\tNo Exposure\n",
      "       NA\tNo Basement\n",
      "\t\n",
      "BsmtFinType1: Rating of basement finished area\n",
      "\n",
      "       GLQ\tGood Living Quarters\n",
      "       ALQ\tAverage Living Quarters\n",
      "       BLQ\tBelow Average Living Quarters\t\n",
      "       Rec\tAverage Rec Room\n",
      "       LwQ\tLow Quality\n",
      "       Unf\tUnfinshed\n",
      "       NA\tNo Basement\n",
      "\t\t\n",
      "BsmtFinSF1: Type 1 finished square feet\n",
      "\n",
      "BsmtFinType2: Rating of basement finished area (if multiple types)\n",
      "\n",
      "       GLQ\tGood Living Quarters\n",
      "       ALQ\tAverage Living Quarters\n",
      "       BLQ\tBelow Average Living Quarters\t\n",
      "       Rec\tAverage Rec Room\n",
      "       LwQ\tLow Quality\n",
      "       Unf\tUnfinshed\n",
      "       NA\tNo Basement\n",
      "\n",
      "BsmtFinSF2: Type 2 finished square feet\n",
      "\n",
      "BsmtUnfSF: Unfinished square feet of basement area\n",
      "\n",
      "TotalBsmtSF: Total square feet of basement area\n",
      "\n",
      "Heating: Type of heating\n",
      "\t\t\n",
      "       Floor\tFloor Furnace\n",
      "       GasA\tGas forced warm air furnace\n",
      "       GasW\tGas hot water or steam heat\n",
      "       Grav\tGravity furnace\t\n",
      "       OthW\tHot water or steam heat other than gas\n",
      "       Wall\tWall furnace\n",
      "\t\t\n",
      "HeatingQC: Heating quality and condition\n",
      "\n",
      "       Ex\tExcellent\n",
      "       Gd\tGood\n",
      "       TA\tAverage/Typical\n",
      "       Fa\tFair\n",
      "       Po\tPoor\n",
      "\t\t\n",
      "CentralAir: Central air conditioning\n",
      "\n",
      "       N\tNo\n",
      "       Y\tYes\n",
      "\t\t\n",
      "Electrical: Electrical system\n",
      "\n",
      "       SBrkr\tStandard Circuit Breakers & Romex\n",
      "       FuseA\tFuse Box over 60 AMP and all Romex wiring (Average)\t\n",
      "       FuseF\t60 AMP Fuse Box and mostly Romex wiring (Fair)\n",
      "       FuseP\t60 AMP Fuse Box and mostly knob & tube wiring (poor)\n",
      "       Mix\tMixed\n",
      "\t\t\n",
      "1stFlrSF: First Floor square feet\n",
      " \n",
      "2ndFlrSF: Second floor square feet\n",
      "\n",
      "LowQualFinSF: Low quality finished square feet (all floors)\n",
      "\n",
      "GrLivArea: Above grade (ground) living area square feet\n",
      "\n",
      "BsmtFullBath: Basement full bathrooms\n",
      "\n",
      "BsmtHalfBath: Basement half bathrooms\n",
      "\n",
      "FullBath: Full bathrooms above grade\n",
      "\n",
      "HalfBath: Half baths above grade\n",
      "\n",
      "Bedroom: Bedrooms above grade (does NOT include basement bedrooms)\n",
      "\n",
      "Kitchen: Kitchens above grade\n",
      "\n",
      "KitchenQual: Kitchen quality\n",
      "\n",
      "       Ex\tExcellent\n",
      "       Gd\tGood\n",
      "       TA\tTypical/Average\n",
      "       Fa\tFair\n",
      "       Po\tPoor\n",
      "       \t\n",
      "TotRmsAbvGrd: Total rooms above grade (does not include bathrooms)\n",
      "\n",
      "Functional: Home functionality (Assume typical unless deductions are warranted)\n",
      "\n",
      "       Typ\tTypical Functionality\n",
      "       Min1\tMinor Deductions 1\n",
      "       Min2\tMinor Deductions 2\n",
      "       Mod\tModerate Deductions\n",
      "       Maj1\tMajor Deductions 1\n",
      "       Maj2\tMajor Deductions 2\n",
      "       Sev\tSeverely Damaged\n",
      "       Sal\tSalvage only\n",
      "\t\t\n",
      "Fireplaces: Number of fireplaces\n",
      "\n",
      "FireplaceQu: Fireplace quality\n",
      "\n",
      "       Ex\tExcellent - Exceptional Masonry Fireplace\n",
      "       Gd\tGood - Masonry Fireplace in main level\n",
      "       TA\tAverage - Prefabricated Fireplace in main living area or Masonry Fireplace in basement\n",
      "       Fa\tFair - Prefabricated Fireplace in basement\n",
      "       Po\tPoor - Ben Franklin Stove\n",
      "       NA\tNo Fireplace\n",
      "\t\t\n",
      "GarageType: Garage location\n",
      "\t\t\n",
      "       2Types\tMore than one type of garage\n",
      "       Attchd\tAttached to home\n",
      "       Basment\tBasement Garage\n",
      "       BuiltIn\tBuilt-In (Garage part of house - typically has room above garage)\n",
      "       CarPort\tCar Port\n",
      "       Detchd\tDetached from home\n",
      "       NA\tNo Garage\n",
      "\t\t\n",
      "GarageYrBlt: Year garage was built\n",
      "\t\t\n",
      "GarageFinish: Interior finish of the garage\n",
      "\n",
      "       Fin\tFinished\n",
      "       RFn\tRough Finished\t\n",
      "       Unf\tUnfinished\n",
      "       NA\tNo Garage\n",
      "\t\t\n",
      "GarageCars: Size of garage in car capacity\n",
      "\n",
      "GarageArea: Size of garage in square feet\n",
      "\n",
      "GarageQual: Garage quality\n",
      "\n",
      "       Ex\tExcellent\n",
      "       Gd\tGood\n",
      "       TA\tTypical/Average\n",
      "       Fa\tFair\n",
      "       Po\tPoor\n",
      "       NA\tNo Garage\n",
      "\t\t\n",
      "GarageCond: Garage condition\n",
      "\n",
      "       Ex\tExcellent\n",
      "       Gd\tGood\n",
      "       TA\tTypical/Average\n",
      "       Fa\tFair\n",
      "       Po\tPoor\n",
      "       NA\tNo Garage\n",
      "\t\t\n",
      "PavedDrive: Paved driveway\n",
      "\n",
      "       Y\tPaved \n",
      "       P\tPartial Pavement\n",
      "       N\tDirt/Gravel\n",
      "\t\t\n",
      "WoodDeckSF: Wood deck area in square feet\n",
      "\n",
      "OpenPorchSF: Open porch area in square feet\n",
      "\n",
      "EnclosedPorch: Enclosed porch area in square feet\n",
      "\n",
      "3SsnPorch: Three season porch area in square feet\n",
      "\n",
      "ScreenPorch: Screen porch area in square feet\n",
      "\n",
      "PoolArea: Pool area in square feet\n",
      "\n",
      "PoolQC: Pool quality\n",
      "\t\t\n",
      "       Ex\tExcellent\n",
      "       Gd\tGood\n",
      "       TA\tAverage/Typical\n",
      "       Fa\tFair\n",
      "       NA\tNo Pool\n",
      "\t\t\n",
      "Fence: Fence quality\n",
      "\t\t\n",
      "       GdPrv\tGood Privacy\n",
      "       MnPrv\tMinimum Privacy\n",
      "       GdWo\tGood Wood\n",
      "       MnWw\tMinimum Wood/Wire\n",
      "       NA\tNo Fence\n",
      "\t\n",
      "MiscFeature: Miscellaneous feature not covered in other categories\n",
      "\t\t\n",
      "       Elev\tElevator\n",
      "       Gar2\t2nd Garage (if not described in garage section)\n",
      "       Othr\tOther\n",
      "       Shed\tShed (over 100 SF)\n",
      "       TenC\tTennis Court\n",
      "       NA\tNone\n",
      "\t\t\n",
      "MiscVal: $Value of miscellaneous feature\n",
      "\n",
      "MoSold: Month Sold (MM)\n",
      "\n",
      "YrSold: Year Sold (YYYY)\n",
      "\n",
      "SaleType: Type of sale\n",
      "\t\t\n",
      "       WD \tWarranty Deed - Conventional\n",
      "       CWD\tWarranty Deed - Cash\n",
      "       VWD\tWarranty Deed - VA Loan\n",
      "       New\tHome just constructed and sold\n",
      "       COD\tCourt Officer Deed/Estate\n",
      "       Con\tContract 15% Down payment regular terms\n",
      "       ConLw\tContract Low Down payment and low interest\n",
      "       ConLI\tContract Low Interest\n",
      "       ConLD\tContract Low Down\n",
      "       Oth\tOther\n",
      "\t\t\n",
      "SaleCondition: Condition of sale\n",
      "\n",
      "       Normal\tNormal Sale\n",
      "       Abnorml\tAbnormal Sale -  trade, foreclosure, short sale\n",
      "       AdjLand\tAdjoining Land Purchase\n",
      "       Alloca\tAllocation - two linked properties with separate deeds, typically condo with a garage unit\t\n",
      "       Family\tSale between family members\n",
      "       Partial\tHome was not completed when last assessed (associated with New Homes)\n",
      "\n"
     ]
    }
   ],
   "source": [
    "with open(DESCRIPTION, 'r') as f:\n",
    "    info = f.read()\n",
    "print(info)"
   ]
  },
  {
   "cell_type": "code",
   "execution_count": 15,
   "metadata": {
    "colab": {
     "base_uri": "https://localhost:8080/"
    },
    "colab_type": "code",
    "id": "2I_4fPD5aqWe",
    "outputId": "22721c2e-fd88-4759-d9a4-5219cf53bfd4"
   },
   "outputs": [
    {
     "data": {
      "text/html": [
       "<div>\n",
       "<style scoped>\n",
       "    .dataframe tbody tr th:only-of-type {\n",
       "        vertical-align: middle;\n",
       "    }\n",
       "\n",
       "    .dataframe tbody tr th {\n",
       "        vertical-align: top;\n",
       "    }\n",
       "\n",
       "    .dataframe thead th {\n",
       "        text-align: right;\n",
       "    }\n",
       "</style>\n",
       "<table border=\"1\" class=\"dataframe\">\n",
       "  <thead>\n",
       "    <tr style=\"text-align: right;\">\n",
       "      <th></th>\n",
       "      <th>MSSubClass</th>\n",
       "      <th>MSZoning</th>\n",
       "      <th>LotFrontage</th>\n",
       "      <th>LotArea</th>\n",
       "      <th>Street</th>\n",
       "      <th>Alley</th>\n",
       "      <th>LotShape</th>\n",
       "      <th>LandContour</th>\n",
       "      <th>Utilities</th>\n",
       "      <th>LotConfig</th>\n",
       "      <th>...</th>\n",
       "      <th>PoolArea</th>\n",
       "      <th>PoolQC</th>\n",
       "      <th>Fence</th>\n",
       "      <th>MiscFeature</th>\n",
       "      <th>MiscVal</th>\n",
       "      <th>MoSold</th>\n",
       "      <th>YrSold</th>\n",
       "      <th>SaleType</th>\n",
       "      <th>SaleCondition</th>\n",
       "      <th>SalePrice</th>\n",
       "    </tr>\n",
       "    <tr>\n",
       "      <th>Id</th>\n",
       "      <th></th>\n",
       "      <th></th>\n",
       "      <th></th>\n",
       "      <th></th>\n",
       "      <th></th>\n",
       "      <th></th>\n",
       "      <th></th>\n",
       "      <th></th>\n",
       "      <th></th>\n",
       "      <th></th>\n",
       "      <th></th>\n",
       "      <th></th>\n",
       "      <th></th>\n",
       "      <th></th>\n",
       "      <th></th>\n",
       "      <th></th>\n",
       "      <th></th>\n",
       "      <th></th>\n",
       "      <th></th>\n",
       "      <th></th>\n",
       "      <th></th>\n",
       "    </tr>\n",
       "  </thead>\n",
       "  <tbody>\n",
       "    <tr>\n",
       "      <th>1</th>\n",
       "      <td>2-STORY 1946 &amp; NEWER</td>\n",
       "      <td>RL</td>\n",
       "      <td>65.0</td>\n",
       "      <td>8450</td>\n",
       "      <td>Pave</td>\n",
       "      <td>NaN</td>\n",
       "      <td>Reg</td>\n",
       "      <td>Lvl</td>\n",
       "      <td>AllPub</td>\n",
       "      <td>Inside</td>\n",
       "      <td>...</td>\n",
       "      <td>0</td>\n",
       "      <td>NaN</td>\n",
       "      <td>NaN</td>\n",
       "      <td>NaN</td>\n",
       "      <td>0</td>\n",
       "      <td>Feb</td>\n",
       "      <td>2008</td>\n",
       "      <td>WD</td>\n",
       "      <td>Normal</td>\n",
       "      <td>208500.0</td>\n",
       "    </tr>\n",
       "    <tr>\n",
       "      <th>2</th>\n",
       "      <td>1-STORY 1946 &amp; NEWER ALL STYLES</td>\n",
       "      <td>RL</td>\n",
       "      <td>80.0</td>\n",
       "      <td>9600</td>\n",
       "      <td>Pave</td>\n",
       "      <td>NaN</td>\n",
       "      <td>Reg</td>\n",
       "      <td>Lvl</td>\n",
       "      <td>AllPub</td>\n",
       "      <td>FR2</td>\n",
       "      <td>...</td>\n",
       "      <td>0</td>\n",
       "      <td>NaN</td>\n",
       "      <td>NaN</td>\n",
       "      <td>NaN</td>\n",
       "      <td>0</td>\n",
       "      <td>May</td>\n",
       "      <td>2007</td>\n",
       "      <td>WD</td>\n",
       "      <td>Normal</td>\n",
       "      <td>181500.0</td>\n",
       "    </tr>\n",
       "    <tr>\n",
       "      <th>3</th>\n",
       "      <td>2-STORY 1946 &amp; NEWER</td>\n",
       "      <td>RL</td>\n",
       "      <td>68.0</td>\n",
       "      <td>11250</td>\n",
       "      <td>Pave</td>\n",
       "      <td>NaN</td>\n",
       "      <td>IR1</td>\n",
       "      <td>Lvl</td>\n",
       "      <td>AllPub</td>\n",
       "      <td>Inside</td>\n",
       "      <td>...</td>\n",
       "      <td>0</td>\n",
       "      <td>NaN</td>\n",
       "      <td>NaN</td>\n",
       "      <td>NaN</td>\n",
       "      <td>0</td>\n",
       "      <td>Sep</td>\n",
       "      <td>2008</td>\n",
       "      <td>WD</td>\n",
       "      <td>Normal</td>\n",
       "      <td>223500.0</td>\n",
       "    </tr>\n",
       "    <tr>\n",
       "      <th>4</th>\n",
       "      <td>2-STORY 1945 &amp; OLDER</td>\n",
       "      <td>RL</td>\n",
       "      <td>60.0</td>\n",
       "      <td>9550</td>\n",
       "      <td>Pave</td>\n",
       "      <td>NaN</td>\n",
       "      <td>IR1</td>\n",
       "      <td>Lvl</td>\n",
       "      <td>AllPub</td>\n",
       "      <td>Corner</td>\n",
       "      <td>...</td>\n",
       "      <td>0</td>\n",
       "      <td>NaN</td>\n",
       "      <td>NaN</td>\n",
       "      <td>NaN</td>\n",
       "      <td>0</td>\n",
       "      <td>Feb</td>\n",
       "      <td>2006</td>\n",
       "      <td>WD</td>\n",
       "      <td>Abnorml</td>\n",
       "      <td>140000.0</td>\n",
       "    </tr>\n",
       "    <tr>\n",
       "      <th>5</th>\n",
       "      <td>2-STORY 1946 &amp; NEWER</td>\n",
       "      <td>RL</td>\n",
       "      <td>84.0</td>\n",
       "      <td>14260</td>\n",
       "      <td>Pave</td>\n",
       "      <td>NaN</td>\n",
       "      <td>IR1</td>\n",
       "      <td>Lvl</td>\n",
       "      <td>AllPub</td>\n",
       "      <td>FR2</td>\n",
       "      <td>...</td>\n",
       "      <td>0</td>\n",
       "      <td>NaN</td>\n",
       "      <td>NaN</td>\n",
       "      <td>NaN</td>\n",
       "      <td>0</td>\n",
       "      <td>Dec</td>\n",
       "      <td>2008</td>\n",
       "      <td>WD</td>\n",
       "      <td>Normal</td>\n",
       "      <td>250000.0</td>\n",
       "    </tr>\n",
       "  </tbody>\n",
       "</table>\n",
       "<p>5 rows × 80 columns</p>\n",
       "</div>"
      ],
      "text/plain": [
       "                         MSSubClass MSZoning  LotFrontage  LotArea Street  \\\n",
       "Id                                                                          \n",
       "1              2-STORY 1946 & NEWER       RL         65.0     8450   Pave   \n",
       "2   1-STORY 1946 & NEWER ALL STYLES       RL         80.0     9600   Pave   \n",
       "3              2-STORY 1946 & NEWER       RL         68.0    11250   Pave   \n",
       "4              2-STORY 1945 & OLDER       RL         60.0     9550   Pave   \n",
       "5              2-STORY 1946 & NEWER       RL         84.0    14260   Pave   \n",
       "\n",
       "   Alley LotShape LandContour Utilities LotConfig  ... PoolArea PoolQC Fence  \\\n",
       "Id                                                 ...                         \n",
       "1    NaN      Reg         Lvl    AllPub    Inside  ...        0    NaN   NaN   \n",
       "2    NaN      Reg         Lvl    AllPub       FR2  ...        0    NaN   NaN   \n",
       "3    NaN      IR1         Lvl    AllPub    Inside  ...        0    NaN   NaN   \n",
       "4    NaN      IR1         Lvl    AllPub    Corner  ...        0    NaN   NaN   \n",
       "5    NaN      IR1         Lvl    AllPub       FR2  ...        0    NaN   NaN   \n",
       "\n",
       "   MiscFeature MiscVal MoSold  YrSold  SaleType  SaleCondition  SalePrice  \n",
       "Id                                                                         \n",
       "1          NaN       0    Feb    2008        WD         Normal   208500.0  \n",
       "2          NaN       0    May    2007        WD         Normal   181500.0  \n",
       "3          NaN       0    Sep    2008        WD         Normal   223500.0  \n",
       "4          NaN       0    Feb    2006        WD        Abnorml   140000.0  \n",
       "5          NaN       0    Dec    2008        WD         Normal   250000.0  \n",
       "\n",
       "[5 rows x 80 columns]"
      ]
     },
     "execution_count": 15,
     "metadata": {},
     "output_type": "execute_result"
    }
   ],
   "source": [
    "# categories described as numbers\n",
    "mssubclass_mapping = { # in this way we can say it is ordinal\n",
    "    20: '1-STORY 1946 & NEWER ALL STYLES',\n",
    "    30: '1-STORY 1945 & OLDER',\n",
    "    40: '1-STORY W/FINISHED ATTIC ALL AGES',\n",
    "    45: '1-1/2 STORY - UNFINISHED ALL AGES',\n",
    "    50: '1-1/2 STORY FINISHED ALL AGES',\n",
    "    60: '2-STORY 1946 & NEWER',\n",
    "    70: '2-STORY 1945 & OLDER',\n",
    "    75: '2-1/2 STORY ALL AGES',\n",
    "    80: 'SPLIT OR MULTI-LEVEL',\n",
    "    85: 'SPLIT FOYER',\n",
    "    90: 'DUPLEX - ALL STYLES AND AGES',\n",
    "   120: '1-STORY PUD (Planned Unit Development) - 1946 & NEWER',\n",
    "   150: '1-1/2 STORY PUD - ALL AGES',\n",
    "   160: '2-STORY PUD - 1946 & NEWER',\n",
    "   180: 'PUD - MULTILEVEL - INCL SPLIT LEV/FOYER',\n",
    "   190: '2 FAMILY CONVERSION - ALL STYLES AND AGES'\n",
    "}\n",
    "mosold_mapping = dict(zip(range(1, 13), ['Jan', 'Feb', 'Mar','Apr', 'May', 'Jun', \n",
    "                                         'Jul', 'Aug', 'Sep', 'Oct', 'Nov', 'Dec']))\n",
    "\n",
    "full_house.loc[:, 'MSSubClass'] = full_house.MSSubClass.map(mssubclass_mapping)\n",
    "full_house.loc[:, 'MoSold'] = full_house.MoSold.map(mosold_mapping)\n",
    "\n",
    "full_house.head()"
   ]
  },
  {
   "cell_type": "code",
   "execution_count": 16,
   "metadata": {
    "colab": {},
    "colab_type": "code",
    "id": "VmU1AIEqca1H"
   },
   "outputs": [],
   "source": [
    "# Categories with implied ordering\n",
    "full_house.loc[:, 'KitchenQual'] = pd.Categorical(full_house.KitchenQual, ordered=True, categories=['Po', 'Fa', 'TA', 'Gd', 'Ex'])\n",
    "full_house.loc[:, 'OverallQual'] = pd.Categorical(full_house.OverallQual, ordered=True)\n",
    "full_house.loc[:, 'OverallCond'] = pd.Categorical(full_house.OverallQual, ordered=True)\n",
    "full_house.loc[:, 'YearBuilt'] = pd.Categorical(full_house.YearBuilt, ordered=True)\n",
    "full_house.loc[:, 'YearRemodAdd'] = pd.Categorical(full_house.YearRemodAdd, ordered=True)\n",
    "full_house.loc[:, 'MoSold'] = pd.Categorical(full_house.MoSold, ordered=True)\n",
    "full_house.loc[:, 'YrSold'] = pd.Categorical(full_house.YrSold, ordered=True)\n",
    "full_house.loc[:, 'GarageYrBlt'] = pd.Categorical(full_house.GarageYrBlt, ordered=True)"
   ]
  },
  {
   "cell_type": "code",
   "execution_count": 17,
   "metadata": {
    "colab": {
     "base_uri": "https://localhost:8080/"
    },
    "colab_type": "code",
    "id": "6Y-E3u-0ka-j",
    "outputId": "890f42c0-6777-4765-b13e-ed655f166404"
   },
   "outputs": [
    {
     "name": "stdout",
     "output_type": "stream",
     "text": [
      "<class 'pandas.core.frame.DataFrame'>\n",
      "Int64Index: 2919 entries, 1 to 2919\n",
      "Data columns (total 80 columns):\n",
      " #   Column         Non-Null Count  Dtype   \n",
      "---  ------         --------------  -----   \n",
      " 0   MSSubClass     2919 non-null   object  \n",
      " 1   MSZoning       2915 non-null   object  \n",
      " 2   LotFrontage    2433 non-null   float64 \n",
      " 3   LotArea        2919 non-null   int64   \n",
      " 4   Street         2919 non-null   object  \n",
      " 5   Alley          198 non-null    object  \n",
      " 6   LotShape       2919 non-null   object  \n",
      " 7   LandContour    2919 non-null   object  \n",
      " 8   Utilities      2917 non-null   object  \n",
      " 9   LotConfig      2919 non-null   object  \n",
      " 10  LandSlope      2919 non-null   object  \n",
      " 11  Neighborhood   2919 non-null   object  \n",
      " 12  Condition1     2919 non-null   object  \n",
      " 13  Condition2     2919 non-null   object  \n",
      " 14  BldgType       2919 non-null   object  \n",
      " 15  HouseStyle     2919 non-null   object  \n",
      " 16  OverallQual    2919 non-null   category\n",
      " 17  OverallCond    2919 non-null   category\n",
      " 18  YearBuilt      2919 non-null   category\n",
      " 19  YearRemodAdd   2919 non-null   category\n",
      " 20  RoofStyle      2919 non-null   object  \n",
      " 21  RoofMatl       2919 non-null   object  \n",
      " 22  Exterior1st    2918 non-null   object  \n",
      " 23  Exterior2nd    2918 non-null   object  \n",
      " 24  MasVnrType     2895 non-null   object  \n",
      " 25  MasVnrArea     2896 non-null   float64 \n",
      " 26  ExterQual      2919 non-null   object  \n",
      " 27  ExterCond      2919 non-null   object  \n",
      " 28  Foundation     2919 non-null   object  \n",
      " 29  BsmtQual       2838 non-null   object  \n",
      " 30  BsmtCond       2837 non-null   object  \n",
      " 31  BsmtExposure   2837 non-null   object  \n",
      " 32  BsmtFinType1   2840 non-null   object  \n",
      " 33  BsmtFinSF1     2918 non-null   float64 \n",
      " 34  BsmtFinType2   2839 non-null   object  \n",
      " 35  BsmtFinSF2     2918 non-null   float64 \n",
      " 36  BsmtUnfSF      2918 non-null   float64 \n",
      " 37  TotalBsmtSF    2918 non-null   float64 \n",
      " 38  Heating        2919 non-null   object  \n",
      " 39  HeatingQC      2919 non-null   object  \n",
      " 40  CentralAir     2919 non-null   object  \n",
      " 41  Electrical     2918 non-null   object  \n",
      " 42  1stFlrSF       2919 non-null   int64   \n",
      " 43  2ndFlrSF       2919 non-null   int64   \n",
      " 44  LowQualFinSF   2919 non-null   int64   \n",
      " 45  GrLivArea      2919 non-null   int64   \n",
      " 46  BsmtFullBath   2917 non-null   float64 \n",
      " 47  BsmtHalfBath   2917 non-null   float64 \n",
      " 48  FullBath       2919 non-null   int64   \n",
      " 49  HalfBath       2919 non-null   int64   \n",
      " 50  BedroomAbvGr   2919 non-null   int64   \n",
      " 51  KitchenAbvGr   2919 non-null   int64   \n",
      " 52  KitchenQual    2918 non-null   category\n",
      " 53  TotRmsAbvGrd   2919 non-null   int64   \n",
      " 54  Functional     2917 non-null   object  \n",
      " 55  Fireplaces     2919 non-null   int64   \n",
      " 56  FireplaceQu    1499 non-null   object  \n",
      " 57  GarageType     2762 non-null   object  \n",
      " 58  GarageYrBlt    2760 non-null   category\n",
      " 59  GarageFinish   2760 non-null   object  \n",
      " 60  GarageCars     2918 non-null   float64 \n",
      " 61  GarageArea     2918 non-null   float64 \n",
      " 62  GarageQual     2760 non-null   object  \n",
      " 63  GarageCond     2760 non-null   object  \n",
      " 64  PavedDrive     2919 non-null   object  \n",
      " 65  WoodDeckSF     2919 non-null   int64   \n",
      " 66  OpenPorchSF    2919 non-null   int64   \n",
      " 67  EnclosedPorch  2919 non-null   int64   \n",
      " 68  3SsnPorch      2919 non-null   int64   \n",
      " 69  ScreenPorch    2919 non-null   int64   \n",
      " 70  PoolArea       2919 non-null   int64   \n",
      " 71  PoolQC         10 non-null     object  \n",
      " 72  Fence          571 non-null    object  \n",
      " 73  MiscFeature    105 non-null    object  \n",
      " 74  MiscVal        2919 non-null   int64   \n",
      " 75  MoSold         2919 non-null   category\n",
      " 76  YrSold         2919 non-null   category\n",
      " 77  SaleType       2918 non-null   object  \n",
      " 78  SaleCondition  2919 non-null   object  \n",
      " 79  SalePrice      1460 non-null   float64 \n",
      "dtypes: category(8), float64(11), int64(18), object(43)\n",
      "memory usage: 1.7+ MB\n"
     ]
    }
   ],
   "source": [
    "full_house.info() # saved memory"
   ]
  },
  {
   "cell_type": "markdown",
   "metadata": {
    "colab_type": "text",
    "id": "n93R5X1hdX7Q"
   },
   "source": [
    "### Target variable analysis"
   ]
  },
  {
   "cell_type": "code",
   "execution_count": 18,
   "metadata": {
    "colab": {
     "base_uri": "https://localhost:8080/",
     "height": 646
    },
    "colab_type": "code",
    "id": "puFbuY8TdfFc",
    "outputId": "2a9c581b-683d-4a4e-fec9-23ee800841ce"
   },
   "outputs": [
    {
     "data": {
      "image/png": "[encoded data removed]",
      "text/plain": [
       "<Figure size 720x504 with 1 Axes>"
      ]
     },
     "metadata": {},
     "output_type": "display_data"
    }
   ],
   "source": [
    "ax = sns.distplot(train.SalePrice, norm_hist=True)\n",
    "ax.set_title('Sale price distribution'); # we need scaling because big values would have huge impact on error (?)"
   ]
  },
  {
   "cell_type": "code",
   "execution_count": 19,
   "metadata": {
    "colab": {
     "base_uri": "https://localhost:8080/",
     "height": 646
    },
    "colab_type": "code",
    "id": "-pZI6FGXdn64",
    "outputId": "199f3ef2-0c7c-499f-dbe9-a6314843da4c"
   },
   "outputs": [
    {
     "data": {
      "image/png": "[encoded data removed]",
      "text/plain": [
       "<Figure size 720x504 with 1 Axes>"
      ]
     },
     "metadata": {},
     "output_type": "display_data"
    }
   ],
   "source": [
    "ax = sns.distplot(np.log(train.SalePrice), norm_hist=True) # we use logarithm to scale\n",
    "ax.set_title('Log sale price distribution'); # plus we have a lot smaller range"
   ]
  },
  {
   "cell_type": "code",
   "execution_count": 20,
   "metadata": {
    "colab": {
     "base_uri": "https://localhost:8080/",
     "height": 646
    },
    "colab_type": "code",
    "id": "QIPtwTO2drWC",
    "outputId": "1525358b-990b-4e00-b3ca-5cff0e72b4ef"
   },
   "outputs": [
    {
     "data": {
      "image/png": "[encoded data removed]",
      "text/plain": [
       "<Figure size 720x504 with 1 Axes>"
      ]
     },
     "metadata": {},
     "output_type": "display_data"
    }
   ],
   "source": [
    "ax = sns.distplot(np.sqrt(train.SalePrice), norm_hist=True)\n",
    "ax.set_title('sqrt sale price distribution');"
   ]
  },
  {
   "cell_type": "markdown",
   "metadata": {
    "colab_type": "text",
    "id": "VxrlODUTfyq2"
   },
   "source": [
    "### Top correlated features"
   ]
  },
  {
   "cell_type": "code",
   "execution_count": 21,
   "metadata": {
    "colab": {
     "base_uri": "https://localhost:8080/",
     "height": 578
    },
    "colab_type": "code",
    "id": "k2XOPDiUfkEM",
    "outputId": "a1acea5b-e2a1-4611-b044-dfb99f22f29f"
   },
   "outputs": [
    {
     "data": {
      "image/png": "[encoded data removed]",
      "text/plain": [
       "<Figure size 720x504 with 2 Axes>"
      ]
     },
     "metadata": {},
     "output_type": "display_data"
    }
   ],
   "source": [
    "corr = train.corr()\n",
    "condition = np.abs(corr.SalePrice) > 0.5 # only those strongly correlated with target\n",
    "top_corr = corr.loc[condition, condition]\n",
    "sns.heatmap(top_corr, annot=True); # we have some highly correlated variables (multicollinearity)"
   ]
  },
  {
   "cell_type": "code",
   "execution_count": 22,
   "metadata": {
    "colab": {
     "base_uri": "https://localhost:8080/",
     "height": 528
    },
    "colab_type": "code",
    "id": "9XjwzninfxmK",
    "outputId": "b914b531-07a0-4f8e-8634-0ba92b8bd9ce"
   },
   "outputs": [
    {
     "data": {
      "image/png": "[encoded data removed]",
      "text/plain": [
       "<Figure size 720x504 with 1 Axes>"
      ]
     },
     "metadata": {},
     "output_type": "display_data"
    }
   ],
   "source": [
    "univariate_regplot('GrLivArea', 'SalePrice', train);"
   ]
  },
  {
   "cell_type": "code",
   "execution_count": 23,
   "metadata": {
    "colab": {
     "base_uri": "https://localhost:8080/",
     "height": 508
    },
    "colab_type": "code",
    "id": "6VwsZceWjC9U",
    "outputId": "50a8af65-5d10-4aaf-ab0f-6a3cfa44bfff"
   },
   "outputs": [
    {
     "data": {
      "image/png": "[encoded data removed]",
      "text/plain": [
       "<Figure size 720x504 with 1 Axes>"
      ]
     },
     "metadata": {},
     "output_type": "display_data"
    }
   ],
   "source": [
    "sns.boxplot(y='GarageArea', x='GarageCars', data=train); # we can almost plot a straight lines through the medians"
   ]
  },
  {
   "cell_type": "markdown",
   "metadata": {
    "colab_type": "text",
    "id": "J3kr6FD9kQwp"
   },
   "source": [
    "# Pipeline"
   ]
  },
  {
   "cell_type": "markdown",
   "metadata": {
    "colab_type": "text",
    "id": "nadwNxyEk1GP"
   },
   "source": [
    "## Preprocessing"
   ]
  },
  {
   "cell_type": "markdown",
   "metadata": {
    "colab_type": "text",
    "id": "HPpzCR9vk5FI"
   },
   "source": [
    "### Features categorization"
   ]
  },
  {
   "cell_type": "code",
   "execution_count": 24,
   "metadata": {
    "colab": {},
    "colab_type": "code",
    "id": "FmN4QgcHkOWy"
   },
   "outputs": [],
   "source": [
    "CATEGORICAL = full_house.select_dtypes(include=['object']).columns.tolist()\n",
    "ORDINAL = full_house.select_dtypes(include=['category']).columns.tolist()\n",
    "NUMERICAL = full_house.select_dtypes(exclude=['category', 'object']).columns.tolist()\n",
    "if TARGET in NUMERICAL:\n",
    "    NUMERICAL.remove(TARGET)"
   ]
  },
  {
   "cell_type": "code",
   "execution_count": 25,
   "metadata": {
    "colab": {},
    "colab_type": "code",
    "id": "iZMCUkkClD_S"
   },
   "outputs": [],
   "source": [
    "# Apply encoding to ordinal values, .cat.categories - decoding\n",
    "full_house[ORDINAL] = full_house[ORDINAL].apply(lambda x: x.cat.codes)"
   ]
  },
  {
   "cell_type": "code",
   "execution_count": 26,
   "metadata": {
    "colab": {},
    "colab_type": "code",
    "id": "NOz-jlD2l92y"
   },
   "outputs": [],
   "source": [
    "train = full_house.loc[full_house.SalePrice.notnull()]\n",
    "test = full_house.loc[full_house.SalePrice.isnull()]"
   ]
  },
  {
   "cell_type": "markdown",
   "metadata": {
    "colab_type": "text",
    "id": "PG-pb7CvnzOP"
   },
   "source": [
    "### Remove obvious outliers"
   ]
  },
  {
   "cell_type": "code",
   "execution_count": 27,
   "metadata": {
    "colab": {},
    "colab_type": "code",
    "id": "Enfr8Xuyn5Kz"
   },
   "outputs": [],
   "source": [
    "outliers_ind = ((train.SalePrice < 20000) & (train.GrLivArea > 4000))\n",
    "train = train.loc[~outliers_ind]"
   ]
  },
  {
   "cell_type": "markdown",
   "metadata": {
    "colab_type": "text",
    "id": "P8ER-9GBvKwN"
   },
   "source": [
    "## Split"
   ]
  },
  {
   "cell_type": "markdown",
   "metadata": {
    "colab_type": "text",
    "id": "mdGmLyjF-ZBE"
   },
   "source": [
    "![](https://www.brainstobytes.com/content/images/2020/01/Sets.png)"
   ]
  },
  {
   "cell_type": "markdown",
   "metadata": {
    "colab_type": "text",
    "id": "ejAimn-dIr9p"
   },
   "source": [
    "Every time we are fitting machine learning model we need to know if it works well on new data it haven't seen before.\n",
    "That's why we use **TRAIN** dataset (X and y) for tuning model parameters and **TEST** dataset to calculate model performance metrics\n",
    "\n",
    "https://scikit-learn.org/stable/modules/generated/sklearn.model_selection.train_test_split.html\n",
    "\n",
    "Important parameters:  \n",
    "*train size/test size* - float from 0 to 1 as proportion of data going to either dataset. \n",
    "train size + test size = 1 (!)  \n",
    "*stratify* - boolean. Valid for classification tasks. If **True** - proportions of target classes in train and test dataset\n",
    "\n",
    "basic interface:  \n",
    "train_test_split(X, y)"
   ]
  },
  {
   "cell_type": "code",
   "execution_count": 28,
   "metadata": {
    "colab": {},
    "colab_type": "code",
    "id": "80xRiTsNH6yK"
   },
   "outputs": [],
   "source": [
    "target = train[TARGET].values\n",
    "train_X, val_X, train_y, val_y = train_test_split(train.drop(TARGET, axis=1), target, \n",
    "                                                  random_state=SEED, shuffle=True, test_size = 0.2) # shuffle to avoid bias, we don't have time (?)\n",
    "# random_state - if our method has ... ?, we want the same splits\n",
    "# we want to reproduce it, when we use let's say another transfrormation, we need to work on the same data to compare "
   ]
  },
  {
   "cell_type": "markdown",
   "metadata": {
    "colab_type": "text",
    "id": "eQlgMZEUs1WE"
   },
   "source": [
    "## Transformation"
   ]
  },
  {
   "cell_type": "code",
   "execution_count": 29,
   "metadata": {
    "colab": {},
    "colab_type": "code",
    "id": "FFF1Vtqps0Aj"
   },
   "outputs": [],
   "source": [
    "# Imputing missing values\n",
    "\n",
    "# Numerical\n",
    "numerical_def = gen_features( # is it same as pipeline?\n",
    "    columns=[[c] for c in NUMERICAL],\n",
    "    classes=[\n",
    "        {'class': SimpleImputer, 'strategy': 'median'},\n",
    "        {'class': StandardScaler}\n",
    "    ]\n",
    ")\n",
    "\n",
    "# Ordinal\n",
    "ordinal_def = gen_features(\n",
    "    columns=[[c] for c in ORDINAL],\n",
    "    classes=[\n",
    "        {'class': SimpleImputer, 'strategy': 'most_frequent'}\n",
    "    ]\n",
    ")\n",
    "\n",
    "# Categorical\n",
    "categorical_def = gen_features(\n",
    "    columns=[[c] for c in CATEGORICAL],\n",
    "    classes=[\n",
    "        {'class': SimpleImputer, 'strategy': 'constant', 'fill_value': 'Unknown'},\n",
    "        {'class': OneHotEncoder, 'class': OneHotEncoder, 'handle_unknown': 'ignore'}\n",
    "    ]    \n",
    ")"
   ]
  },
  {
   "cell_type": "code",
   "execution_count": 30,
   "metadata": {
    "colab": {
     "base_uri": "https://localhost:8080/",
     "height": 34
    },
    "colab_type": "code",
    "id": "leYMYmaDtEw2",
    "outputId": "85c30b41-0f3c-4e4e-fad2-f6075c861e1f"
   },
   "outputs": [
    {
     "data": {
      "text/plain": [
       "(2919, 80)"
      ]
     },
     "execution_count": 30,
     "metadata": {},
     "output_type": "execute_result"
    }
   ],
   "source": [
    "full_house.shape"
   ]
  },
  {
   "cell_type": "code",
   "execution_count": 31,
   "metadata": {
    "colab": {
     "base_uri": "https://localhost:8080/",
     "height": 34
    },
    "colab_type": "code",
    "id": "DCmqwBbAtKsy",
    "outputId": "4d2cb86a-ff9b-4111-a9bc-13b5df5f52b7"
   },
   "outputs": [
    {
     "data": {
      "text/plain": [
       "79"
      ]
     },
     "execution_count": 31,
     "metadata": {},
     "output_type": "execute_result"
    }
   ],
   "source": [
    "# \n",
    "features = numerical_def + categorical_def + ordinal_def\n",
    "mapper = DataFrameMapper(features) # ?\n",
    "len(features)"
   ]
  },
  {
   "cell_type": "markdown",
   "metadata": {
    "colab_type": "text",
    "id": "qzBWn7xD0bZp"
   },
   "source": [
    "## Linear regression"
   ]
  },
  {
   "cell_type": "markdown",
   "metadata": {
    "colab_type": "text",
    "id": "VnOrJnUM8kbm"
   },
   "source": [
    "### LR baseline"
   ]
  },
  {
   "cell_type": "markdown",
   "metadata": {
    "colab_type": "text",
    "id": "-cqM3oSJ4z4l"
   },
   "source": [
    "**Model interface in sklearn**\n",
    "\n",
    "All model instances have more or less the same interface:  \n",
    "\n",
    "\n",
    "```\n",
    "model.fit(X_train, y_train)  \n",
    "model.predict(X_test)  \n",
    "model.score(X_test, y_test)\n",
    "```\n"
   ]
  },
  {
   "cell_type": "code",
   "execution_count": 32,
   "metadata": {},
   "outputs": [],
   "source": [
    "# One way\n",
    "train_X_tr = pd.DataFrame(mapper.fit_transform(train_X))\n",
    "val_X_tr = pd.DataFrame(mapper.transform(val_X))\n",
    "\n",
    "# scaler = StandardScaler()\n",
    "# scaler.fit(train_y.reshape(-1, 1))\n",
    "# train_y_tr = scaler.transform(train_y.reshape(-1, 1))\n",
    "# val_y_tr = scaler.transform(val_y.reshape(-1, 1))\n",
    "\n",
    "train_y_tr = pd.Series(np.log(train_y))\n",
    "val_y_tr = pd.Series(np.log(val_y))"
   ]
  },
  {
   "cell_type": "code",
   "execution_count": 33,
   "metadata": {
    "colab": {
     "base_uri": "https://localhost:8080/",
     "height": 52
    },
    "colab_type": "code",
    "id": "vGFH5VdF50AN",
    "outputId": "6b7bb65d-bfbc-4753-a436-98d73905057c"
   },
   "outputs": [
    {
     "data": {
      "text/plain": [
       "LinearRegression()"
      ]
     },
     "execution_count": 33,
     "metadata": {},
     "output_type": "execute_result"
    },
    {
     "name": "stdout",
     "output_type": "stream",
     "text": [
      "\n",
      "R2 Score: -2929796413260603.0\n"
     ]
    }
   ],
   "source": [
    "linreg = LinearRegression()\n",
    "linreg.fit(train_X_tr, train_y_tr)\n",
    "print(f'\\nR2 Score: {linreg.score(val_X_tr, val_y_tr)}')"
   ]
  },
  {
   "cell_type": "markdown",
   "metadata": {},
   "source": [
    "##### Score is VERY bad. Let's find examples where model is ridiculously wrong:"
   ]
  },
  {
   "cell_type": "code",
   "execution_count": 34,
   "metadata": {},
   "outputs": [],
   "source": [
    "preds = linreg.predict(val_X_tr)\n",
    "odd_idx = np.where( np.abs(preds)>20 )[0]"
   ]
  },
  {
   "cell_type": "code",
   "execution_count": 35,
   "metadata": {},
   "outputs": [
    {
     "data": {
      "text/plain": [
       "array([-2.13526996e+08, -1.19309096e+07, -2.13526996e+08, -2.13526996e+08,\n",
       "       -4.54587187e+07, -4.29639090e+06, -1.43663887e+08])"
      ]
     },
     "execution_count": 35,
     "metadata": {},
     "output_type": "execute_result"
    }
   ],
   "source": [
    "preds[odd_idx]"
   ]
  },
  {
   "cell_type": "code",
   "execution_count": 36,
   "metadata": {},
   "outputs": [
    {
     "name": "stdout",
     "output_type": "stream",
     "text": [
      "(292, 313)\n",
      "(285, 313)\n"
     ]
    }
   ],
   "source": [
    "#remove those points from dataset\n",
    "\n",
    "valid_examples = [index for index in val_X_tr.index if index not in odd_idx]\n",
    "print(val_X_tr.shape)\n",
    "val_X_tr = val_X_tr.loc[valid_examples]\n",
    "print(val_X_tr.shape)\n",
    "val_y_tr = val_y_tr.loc[valid_examples]"
   ]
  },
  {
   "cell_type": "code",
   "execution_count": 37,
   "metadata": {},
   "outputs": [],
   "source": [
    "#DO THE SAME WITH INITIAL DATA\n",
    "val_X = val_X.iloc[valid_examples]\n",
    "val_y = pd.Series(val_y).iloc[valid_examples]"
   ]
  },
  {
   "cell_type": "code",
   "execution_count": 38,
   "metadata": {},
   "outputs": [
    {
     "name": "stdout",
     "output_type": "stream",
     "text": [
      "\n",
      "R2 Score: 0.8663319985312272\n"
     ]
    }
   ],
   "source": [
    "print(f'\\nR2 Score: {linreg.score(val_X_tr, val_y_tr)}')"
   ]
  },
  {
   "cell_type": "code",
   "execution_count": 39,
   "metadata": {
    "colab": {
     "base_uri": "https://localhost:8080/",
     "height": 193
    },
    "colab_type": "code",
    "id": "GFq0_XdzMzfe",
    "outputId": "438200c5-32ba-4f7b-9302-30cf6349ec96"
   },
   "outputs": [
    {
     "name": "stdout",
     "output_type": "stream",
     "text": [
      "RMSE val: \n",
      "0.15751204778830766\n",
      "------------------------------\n",
      "RMSE cross-validation scores:\n",
      "[6.55959818e+06 7.93199509e+06 1.43836710e-01 1.74579234e-01\n",
      " 7.82962253e+06]\n",
      "------------------------------\n",
      "RMSE average cross-validation scores:\n",
      "4464243.223213211\n",
      "------------------------------\n"
     ]
    }
   ],
   "source": [
    "#cross validation\n",
    "def rmse(y_gt, Y_pr):\n",
    "    return np.sqrt(mean_squared_error(y_gt, Y_pr))\n",
    "\n",
    "print('RMSE val: ')\n",
    "print(rmse(val_y_tr, linreg.predict(val_X_tr)))\n",
    "print('-'*30)\n",
    "\n",
    "rmse_scorer = metrics.make_scorer(rmse)\n",
    "print('RMSE cross-validation scores:')\n",
    "CV_score = cross_val_score(linreg, train_X_tr, train_y_tr, cv=5, scoring=rmse_scorer, )\n",
    "print(CV_score)\n",
    "print('-'*30)\n",
    "\n",
    "print('RMSE average cross-validation scores:')\n",
    "print(np.sum(CV_score)/5)\n",
    "print('-'*30)"
   ]
  },
  {
   "cell_type": "markdown",
   "metadata": {},
   "source": [
    "##### Self-Exercise:\n",
    "figure out which of points in training data make scores THAT big"
   ]
  },
  {
   "cell_type": "code",
   "execution_count": 40,
   "metadata": {
    "colab": {
     "base_uri": "https://localhost:8080/",
     "height": 166
    },
    "colab_type": "code",
    "id": "4tU8_PYdSuzQ",
    "outputId": "dd841188-7994-43c2-b6c7-126008b84d5a"
   },
   "outputs": [
    {
     "data": {
      "text/html": [
       "<div>\n",
       "<style scoped>\n",
       "    .dataframe tbody tr th:only-of-type {\n",
       "        vertical-align: middle;\n",
       "    }\n",
       "\n",
       "    .dataframe tbody tr th {\n",
       "        vertical-align: top;\n",
       "    }\n",
       "\n",
       "    .dataframe thead th {\n",
       "        text-align: right;\n",
       "    }\n",
       "</style>\n",
       "<table border=\"1\" class=\"dataframe\">\n",
       "  <thead>\n",
       "    <tr style=\"text-align: right;\">\n",
       "      <th></th>\n",
       "      <th>Score</th>\n",
       "    </tr>\n",
       "  </thead>\n",
       "  <tbody>\n",
       "    <tr>\n",
       "      <th>MAE</th>\n",
       "      <td>0.097595</td>\n",
       "    </tr>\n",
       "    <tr>\n",
       "      <th>MSE</th>\n",
       "      <td>0.024810</td>\n",
       "    </tr>\n",
       "    <tr>\n",
       "      <th>R2</th>\n",
       "      <td>0.866332</td>\n",
       "    </tr>\n",
       "    <tr>\n",
       "      <th>RMSE</th>\n",
       "      <td>0.157512</td>\n",
       "    </tr>\n",
       "  </tbody>\n",
       "</table>\n",
       "</div>"
      ],
      "text/plain": [
       "         Score\n",
       "MAE   0.097595\n",
       "MSE   0.024810\n",
       "R2    0.866332\n",
       "RMSE  0.157512"
      ]
     },
     "execution_count": 40,
     "metadata": {},
     "output_type": "execute_result"
    }
   ],
   "source": [
    "#metrics\n",
    "predictions = linreg.predict(val_X_tr)\n",
    "\n",
    "mae = metrics.mean_absolute_error(val_y_tr, predictions)\n",
    "mse = metrics.mean_squared_error(val_y_tr, predictions)\n",
    "r2 = metrics.r2_score(val_y_tr, predictions)\n",
    "rmse = np.sqrt(metrics.mean_squared_error(val_y_tr, predictions))\n",
    "\n",
    "pd.DataFrame.from_dict({'MAE':mae, 'MSE':mse, 'R2':r2, 'RMSE':rmse}, orient='index', columns=['Score'])"
   ]
  },
  {
   "cell_type": "code",
   "execution_count": 41,
   "metadata": {
    "colab": {
     "base_uri": "https://localhost:8080/",
     "height": 1000
    },
    "colab_type": "code",
    "id": "9RhhgTSrVb0r",
    "outputId": "0b220d31-9df5-4f28-ce92-1e748effe1c0"
   },
   "outputs": [
    {
     "data": {
      "image/png": "[encoded data removed]",
      "text/plain": [
       "<Figure size 720x504 with 1 Axes>"
      ]
     },
     "metadata": {},
     "output_type": "display_data"
    },
    {
     "data": {
      "image/png": "[encoded data removed]",
      "text/plain": [
       "<Figure size 720x504 with 1 Axes>"
      ]
     },
     "metadata": {},
     "output_type": "display_data"
    }
   ],
   "source": [
    "#errors visualization\n",
    "#can be helpful to better understand behavior of model\n",
    "\n",
    "pred = linreg.predict(val_X_tr)\n",
    "errors = val_y_tr - pred\n",
    "\n",
    "plt.scatter(list(range(len(errors))),errors);\n",
    "plt.title(\"Distibution of errors\")\n",
    "plt.ylabel('Error');\n",
    "plt.xlabel('Index');\n",
    "plt.show();\n",
    "\n",
    "plt.scatter(pred,errors);\n",
    "plt.title('Relationship of true value vs error (resudual analysis)')\n",
    "plt.ylabel('Error');\n",
    "plt.xlabel('True value');\n",
    "plt.show();"
   ]
  },
  {
   "cell_type": "markdown",
   "metadata": {
    "colab_type": "text",
    "id": "y3L450-pVL3E"
   },
   "source": [
    "### Pipeline"
   ]
  },
  {
   "cell_type": "code",
   "execution_count": 42,
   "metadata": {
    "colab": {},
    "colab_type": "code",
    "id": "IyQdZ8b-VT92"
   },
   "outputs": [],
   "source": [
    "# Evaluation\n",
    "\n",
    "def evaluate_model(train, val, tr_y, val_y, pipeline):\n",
    "    pipeline.fit(train, tr_y)\n",
    "    pred_val = pipeline.predict(val)\n",
    "    pred_train = pipeline.predict(train)\n",
    "    mapper = pipeline.named_steps['mapper']\n",
    "\n",
    "    return pd.DataFrame({\n",
    "        'train_RMSE': [np.sqrt(mean_squared_error(tr_y, pred_train))], \n",
    "        'train_R2': [r2_score(tr_y, pred_train)],\n",
    "        'val_RMSE': [np.sqrt(mean_squared_error(val_y, pred_val))],\n",
    "        'val_R2': [r2_score(val_y, pred_val)]\n",
    "    }), mapper.transformed_names_"
   ]
  },
  {
   "cell_type": "code",
   "execution_count": 43,
   "metadata": {
    "colab": {},
    "colab_type": "code",
    "id": "aJqAJ1SJ0aXb"
   },
   "outputs": [],
   "source": [
    "# Cool way\n",
    "pipeline = Pipeline([\n",
    "    ('mapper', mapper),\n",
    "    ('estimator', LinearRegression())\n",
    "])"
   ]
  },
  {
   "cell_type": "code",
   "execution_count": 44,
   "metadata": {
    "colab": {
     "base_uri": "https://localhost:8080/",
     "height": 77
    },
    "colab_type": "code",
    "id": "7w5ht0vO0r7j",
    "outputId": "c63e3484-e7d6-49ff-9eac-e332053d2793"
   },
   "outputs": [
    {
     "data": {
      "text/html": [
       "<div>\n",
       "<style scoped>\n",
       "    .dataframe tbody tr th:only-of-type {\n",
       "        vertical-align: middle;\n",
       "    }\n",
       "\n",
       "    .dataframe tbody tr th {\n",
       "        vertical-align: top;\n",
       "    }\n",
       "\n",
       "    .dataframe thead th {\n",
       "        text-align: right;\n",
       "    }\n",
       "</style>\n",
       "<table border=\"1\" class=\"dataframe\">\n",
       "  <thead>\n",
       "    <tr style=\"text-align: right;\">\n",
       "      <th></th>\n",
       "      <th>train_RMSE</th>\n",
       "      <th>train_R2</th>\n",
       "      <th>val_RMSE</th>\n",
       "      <th>val_R2</th>\n",
       "    </tr>\n",
       "  </thead>\n",
       "  <tbody>\n",
       "    <tr>\n",
       "      <th>0</th>\n",
       "      <td>0.092957</td>\n",
       "      <td>0.943317</td>\n",
       "      <td>0.157512</td>\n",
       "      <td>0.866332</td>\n",
       "    </tr>\n",
       "  </tbody>\n",
       "</table>\n",
       "</div>"
      ],
      "text/plain": [
       "   train_RMSE  train_R2  val_RMSE    val_R2\n",
       "0    0.092957  0.943317  0.157512  0.866332"
      ]
     },
     "execution_count": 44,
     "metadata": {},
     "output_type": "execute_result"
    }
   ],
   "source": [
    "# Evaluate the same model using $\\log(y)$ instead of $y$\n",
    "\n",
    "pipeline = Pipeline([\n",
    "    ('mapper', mapper),\n",
    "    ('estimator', LinearRegression())\n",
    "])\n",
    "scores, _ = evaluate_model(train_X, val_X, train_y_tr, val_y_tr, pipeline)\n",
    "scores"
   ]
  },
  {
   "cell_type": "markdown",
   "metadata": {
    "colab_type": "text",
    "id": "S2lHOpd18gKI"
   },
   "source": [
    "### Drop some features"
   ]
  },
  {
   "cell_type": "markdown",
   "metadata": {
    "colab_type": "text",
    "id": "GJbrwOTeAL4B"
   },
   "source": [
    "Select only features that have a correlation coefficient with `SalePrice` more than 0.5. \n",
    "\n",
    "Remove from the list `GarageArea` feature as it is highly correlated with `GarageCars`\n",
    "\n",
    "Filter currect feature_definition pipeline and fit the linear regression model only on top correlated features"
   ]
  },
  {
   "cell_type": "code",
   "execution_count": 45,
   "metadata": {
    "colab": {},
    "colab_type": "code",
    "id": "OvaaZRnaALIJ"
   },
   "outputs": [],
   "source": [
    "ind = np.abs(corr[TARGET]) > 0.5\n",
    "top_corr = corr[TARGET][ind].index.tolist()\n",
    "top_corr.remove(TARGET)\n",
    "top_corr.remove('GarageArea')"
   ]
  },
  {
   "cell_type": "code",
   "execution_count": 46,
   "metadata": {
    "colab": {
     "base_uri": "https://localhost:8080/",
     "height": 175
    },
    "colab_type": "code",
    "id": "TUCiNW3x8p7A",
    "outputId": "7e0e4b05-357f-4ae2-8a48-8ffc0708f1b3"
   },
   "outputs": [
    {
     "data": {
      "text/plain": [
       "['OverallQual',\n",
       " 'YearBuilt',\n",
       " 'YearRemodAdd',\n",
       " 'TotalBsmtSF',\n",
       " '1stFlrSF',\n",
       " 'GrLivArea',\n",
       " 'FullBath',\n",
       " 'TotRmsAbvGrd',\n",
       " 'GarageCars']"
      ]
     },
     "execution_count": 46,
     "metadata": {},
     "output_type": "execute_result"
    }
   ],
   "source": [
    "top_corr"
   ]
  },
  {
   "cell_type": "code",
   "execution_count": 47,
   "metadata": {
    "colab": {},
    "colab_type": "code",
    "id": "88H7HWxn8fBt"
   },
   "outputs": [],
   "source": [
    "top_corr_features = [f for f in features if f[0][0] in top_corr]\n",
    "pipeline = Pipeline([\n",
    "    ('mapper', DataFrameMapper(top_corr_features)),\n",
    "    ('estimator', LinearRegression())\n",
    "])"
   ]
  },
  {
   "cell_type": "code",
   "execution_count": 48,
   "metadata": {
    "colab": {
     "base_uri": "https://localhost:8080/",
     "height": 77
    },
    "colab_type": "code",
    "id": "FdbkjHP-BM-h",
    "outputId": "9a2236d1-5cd3-4087-88c8-7445980ac2be"
   },
   "outputs": [
    {
     "data": {
      "text/html": [
       "<div>\n",
       "<style scoped>\n",
       "    .dataframe tbody tr th:only-of-type {\n",
       "        vertical-align: middle;\n",
       "    }\n",
       "\n",
       "    .dataframe tbody tr th {\n",
       "        vertical-align: top;\n",
       "    }\n",
       "\n",
       "    .dataframe thead th {\n",
       "        text-align: right;\n",
       "    }\n",
       "</style>\n",
       "<table border=\"1\" class=\"dataframe\">\n",
       "  <thead>\n",
       "    <tr style=\"text-align: right;\">\n",
       "      <th></th>\n",
       "      <th>train_RMSE</th>\n",
       "      <th>train_R2</th>\n",
       "      <th>val_RMSE</th>\n",
       "      <th>val_R2</th>\n",
       "    </tr>\n",
       "  </thead>\n",
       "  <tbody>\n",
       "    <tr>\n",
       "      <th>0</th>\n",
       "      <td>0.169546</td>\n",
       "      <td>0.811433</td>\n",
       "      <td>0.169801</td>\n",
       "      <td>0.844662</td>\n",
       "    </tr>\n",
       "  </tbody>\n",
       "</table>\n",
       "</div>"
      ],
      "text/plain": [
       "   train_RMSE  train_R2  val_RMSE    val_R2\n",
       "0    0.169546  0.811433  0.169801  0.844662"
      ]
     },
     "execution_count": 48,
     "metadata": {},
     "output_type": "execute_result"
    }
   ],
   "source": [
    "scores, _ = evaluate_model(train_X, val_X, train_y_tr, val_y_tr, pipeline)\n",
    "scores # dropping highly correlated features helped to deal with overfitting"
   ]
  },
  {
   "cell_type": "markdown",
   "metadata": {
    "colab_type": "text",
    "id": "evOKs_W18qvW"
   },
   "source": [
    "## Regularization"
   ]
  },
  {
   "cell_type": "code",
   "execution_count": 49,
   "metadata": {
    "colab": {},
    "colab_type": "code",
    "id": "ROBkZvtX82yq"
   },
   "outputs": [],
   "source": [
    "def plot_importance(est, colnames, top_n=20):\n",
    "    importance = pd.DataFrame({\n",
    "        'abs_weight': np.abs(est.coef_),\n",
    "        'feature': colnames\n",
    "    })\n",
    "    imp20 = importance.sort_values(by='abs_weight', ascending=False)[:top_n]\n",
    "    sns.barplot(y='feature', x='abs_weight', data=imp20, orient='h');"
   ]
  },
  {
   "cell_type": "code",
   "execution_count": 50,
   "metadata": {},
   "outputs": [
    {
     "data": {
      "text/html": [
       "<div>\n",
       "<style scoped>\n",
       "    .dataframe tbody tr th:only-of-type {\n",
       "        vertical-align: middle;\n",
       "    }\n",
       "\n",
       "    .dataframe tbody tr th {\n",
       "        vertical-align: top;\n",
       "    }\n",
       "\n",
       "    .dataframe thead th {\n",
       "        text-align: right;\n",
       "    }\n",
       "</style>\n",
       "<table border=\"1\" class=\"dataframe\">\n",
       "  <thead>\n",
       "    <tr style=\"text-align: right;\">\n",
       "      <th></th>\n",
       "      <th>train_RMSE</th>\n",
       "      <th>train_R2</th>\n",
       "      <th>val_RMSE</th>\n",
       "      <th>val_R2</th>\n",
       "    </tr>\n",
       "  </thead>\n",
       "  <tbody>\n",
       "    <tr>\n",
       "      <th>0</th>\n",
       "      <td>19801.27124</td>\n",
       "      <td>0.934263</td>\n",
       "      <td>30709.758685</td>\n",
       "      <td>0.877968</td>\n",
       "    </tr>\n",
       "  </tbody>\n",
       "</table>\n",
       "</div>"
      ],
      "text/plain": [
       "    train_RMSE  train_R2      val_RMSE    val_R2\n",
       "0  19801.27124  0.934263  30709.758685  0.877968"
      ]
     },
     "execution_count": 50,
     "metadata": {},
     "output_type": "execute_result"
    },
    {
     "data": {
      "image/png": "[encoded data removed]",
      "text/plain": [
       "<Figure size 720x504 with 1 Axes>"
      ]
     },
     "metadata": {},
     "output_type": "display_data"
    }
   ],
   "source": [
    "lasso = Lasso()\n",
    "pipeline = Pipeline([('mapper', DataFrameMapper(features)), \n",
    "                     ('estimator', lasso)])\n",
    "\n",
    "scores, colnames = evaluate_model(train_X, val_X, train_y, val_y, pipeline)\n",
    "scores\n",
    "\n",
    "plot_importance(pipeline.named_steps['estimator'], colnames)"
   ]
  },
  {
   "cell_type": "code",
   "execution_count": 51,
   "metadata": {},
   "outputs": [
    {
     "data": {
      "text/html": [
       "<div>\n",
       "<style scoped>\n",
       "    .dataframe tbody tr th:only-of-type {\n",
       "        vertical-align: middle;\n",
       "    }\n",
       "\n",
       "    .dataframe tbody tr th {\n",
       "        vertical-align: top;\n",
       "    }\n",
       "\n",
       "    .dataframe thead th {\n",
       "        text-align: right;\n",
       "    }\n",
       "</style>\n",
       "<table border=\"1\" class=\"dataframe\">\n",
       "  <thead>\n",
       "    <tr style=\"text-align: right;\">\n",
       "      <th></th>\n",
       "      <th>train_RMSE</th>\n",
       "      <th>train_R2</th>\n",
       "      <th>val_RMSE</th>\n",
       "      <th>val_R2</th>\n",
       "    </tr>\n",
       "  </thead>\n",
       "  <tbody>\n",
       "    <tr>\n",
       "      <th>0</th>\n",
       "      <td>25358.652628</td>\n",
       "      <td>0.892186</td>\n",
       "      <td>30453.613681</td>\n",
       "      <td>0.879996</td>\n",
       "    </tr>\n",
       "  </tbody>\n",
       "</table>\n",
       "</div>"
      ],
      "text/plain": [
       "     train_RMSE  train_R2      val_RMSE    val_R2\n",
       "0  25358.652628  0.892186  30453.613681  0.879996"
      ]
     },
     "execution_count": 51,
     "metadata": {},
     "output_type": "execute_result"
    },
    {
     "data": {
      "image/png": "[encoded data removed]",
      "text/plain": [
       "<Figure size 720x504 with 1 Axes>"
      ]
     },
     "metadata": {},
     "output_type": "display_data"
    }
   ],
   "source": [
    "# the same but with stronger regularization\n",
    "# (pay attention to absolute values of coefficients)\n",
    "\n",
    "lasso = Lasso(alpha=200)\n",
    "pipeline = Pipeline([('mapper', DataFrameMapper(features)), \n",
    "                     ('estimator', lasso)])\n",
    "\n",
    "scores, colnames = evaluate_model(train_X, val_X, train_y, val_y, pipeline)\n",
    "scores\n",
    "\n",
    "plot_importance(pipeline.named_steps['estimator'], colnames)"
   ]
  },
  {
   "cell_type": "markdown",
   "metadata": {
    "colab_type": "text",
    "id": "dTe-uHH_CEut"
   },
   "source": [
    "##### Self-Exercise:\n",
    "Show dependency between top 2 features (not encoded) and target variable."
   ]
  },
  {
   "cell_type": "markdown",
   "metadata": {
    "colab_type": "text",
    "id": "q6r_eQjB83h2"
   },
   "source": [
    "##  Hyperparameters tuning"
   ]
  },
  {
   "cell_type": "markdown",
   "metadata": {
    "colab_type": "text",
    "id": "A58rcRRO-51i"
   },
   "source": [
    "Cross validation\n",
    "\n",
    "![alt text](https://alexforrest.github.io/images/cv.png)\n",
    "\n",
    "Cross-validation is train/test split and metric computation done several times (usually 3-10 depending on data)"
   ]
  },
  {
   "cell_type": "markdown",
   "metadata": {
    "colab_type": "text",
    "id": "vlujY36H8-SI"
   },
   "source": [
    "Time series split\n",
    "\n",
    "![alt text](https://i.stack.imgur.com/fXZ6k.png)"
   ]
  },
  {
   "cell_type": "code",
   "execution_count": 52,
   "metadata": {
    "colab": {},
    "colab_type": "code",
    "id": "0vSLv6z388aA"
   },
   "outputs": [],
   "source": [
    "cv = KFold(n_splits=5, shuffle=True, random_state=SEED)\n",
    "pipeline = Pipeline([\n",
    "    ('mapper', DataFrameMapper(features)),\n",
    "    ('estimator', ElasticNet(random_state=SEED))\n",
    "])\n",
    "grid = {\n",
    "    'estimator__alpha': np.linspace(0, 300, 10),\n",
    "    'estimator__l1_ratio': np.arange(0, 1.1, 0.1)\n",
    "}\n",
    "gs = GridSearchCV(pipeline, grid, \n",
    "                  n_jobs=-1, \n",
    "                  scoring=['neg_mean_squared_error', 'r2'], \n",
    "                  refit='neg_mean_squared_error', \n",
    "                  cv=cv)"
   ]
  },
  {
   "cell_type": "code",
   "execution_count": 53,
   "metadata": {
    "colab": {
     "base_uri": "https://localhost:8080/",
     "height": 1000
    },
    "colab_type": "code",
    "id": "53A_PUeGOvbz",
    "outputId": "60446d4b-c38b-4e6f-aed8-b68c17c2dcd1"
   },
   "outputs": [
    {
     "ename": "NameError",
     "evalue": "name 'data_train' is not defined",
     "output_type": "error",
     "traceback": [
      "\u001b[1;31m---------------------------------------------------------------------------\u001b[0m",
      "\u001b[1;31mNameError\u001b[0m                                 Traceback (most recent call last)",
      "\u001b[1;32m<timed eval>\u001b[0m in \u001b[0;36m<module>\u001b[1;34m\u001b[0m\n",
      "\u001b[1;31mNameError\u001b[0m: name 'data_train' is not defined"
     ]
    }
   ],
   "source": [
    "%%time\n",
    "gs.fit(data_train, target_train);"
   ]
  },
  {
   "cell_type": "code",
   "execution_count": 54,
   "metadata": {
    "colab": {
     "base_uri": "https://localhost:8080/",
     "height": 34
    },
    "colab_type": "code",
    "id": "QqlA1yHSO2k4",
    "outputId": "a3a102a6-7d1a-48c5-9e8c-70ed59072b5e"
   },
   "outputs": [
    {
     "ename": "AttributeError",
     "evalue": "'GridSearchCV' object has no attribute 'best_params_'",
     "output_type": "error",
     "traceback": [
      "\u001b[1;31m---------------------------------------------------------------------------\u001b[0m",
      "\u001b[1;31mAttributeError\u001b[0m                            Traceback (most recent call last)",
      "\u001b[1;32m<ipython-input-54-df2c2bd0f67e>\u001b[0m in \u001b[0;36m<module>\u001b[1;34m\u001b[0m\n\u001b[1;32m----> 1\u001b[1;33m \u001b[0mgs\u001b[0m\u001b[1;33m.\u001b[0m\u001b[0mbest_params_\u001b[0m\u001b[1;33m\u001b[0m\u001b[1;33m\u001b[0m\u001b[0m\n\u001b[0m",
      "\u001b[1;31mAttributeError\u001b[0m: 'GridSearchCV' object has no attribute 'best_params_'"
     ]
    }
   ],
   "source": [
    "gs.best_params_"
   ]
  },
  {
   "cell_type": "code",
   "execution_count": null,
   "metadata": {
    "colab": {
     "base_uri": "https://localhost:8080/",
     "height": 622
    },
    "colab_type": "code",
    "id": "Y0adDbe7O550",
    "outputId": "f8c16f38-c4f5-41b8-def2-37f31154927d"
   },
   "outputs": [],
   "source": [
    "pipeline = clone(pipeline)\n",
    "pipeline.set_params(**gs.best_params_);\n",
    "\n",
    "scores, col = evaluate_model(train_X, val_X, train_y, val_y, pipeline)\n",
    "scores"
   ]
  },
  {
   "cell_type": "markdown",
   "metadata": {
    "colab_type": "text",
    "id": "2nUqIVxuPB09"
   },
   "source": [
    "What will happen, if we use the same parameters, but log(y) for target?\n",
    "\n",
    "Write the code evaluating model with best parameters. Try to explain results."
   ]
  },
  {
   "cell_type": "code",
   "execution_count": null,
   "metadata": {
    "colab": {
     "base_uri": "https://localhost:8080/",
     "height": 622
    },
    "colab_type": "code",
    "id": "_wyca78wO8uo",
    "outputId": "db4c5af4-eb31-4bb7-91f1-5d3207bd9bf3"
   },
   "outputs": [],
   "source": [
    "pipeline = clone(pipeline)\n",
    "pipeline.set_params(**gs.best_params_);\n",
    "scores, col = evaluate_model(train_X, val_X, train_y_tr, val_y_tr, pipeline)\n",
    "scores"
   ]
  },
  {
   "cell_type": "code",
   "execution_count": null,
   "metadata": {
    "colab": {
     "base_uri": "https://localhost:8080/",
     "height": 457
    },
    "colab_type": "code",
    "id": "NAB0EZxZPEPJ",
    "outputId": "526a6eae-5f77-408f-f564-21c5ebff1283"
   },
   "outputs": [],
   "source": [
    "%%time\n",
    "pipeline = clone(pipeline)\n",
    "grid = {\n",
    "    'estimator__alpha': np.linspace(0, 0.5, 10),\n",
    "    'estimator__l1_ratio': np.arange(0, 0.5, 0.1)\n",
    "}\n",
    "gs = GridSearchCV(pipeline, grid, \n",
    "                  n_jobs=-1, \n",
    "                  scoring=['neg_mean_squared_error', 'r2'], \n",
    "                  refit='neg_mean_squared_error',\n",
    "                  cv=cv, \n",
    "                  verbose=10)\n",
    "gs.fit(train_X, np.log1p(train_y));"
   ]
  },
  {
   "cell_type": "code",
   "execution_count": null,
   "metadata": {
    "colab": {
     "base_uri": "https://localhost:8080/",
     "height": 77
    },
    "colab_type": "code",
    "id": "XhTcaI1tPMUB",
    "outputId": "1ecf2ccc-2cd9-4571-eb0d-af0db9d444de"
   },
   "outputs": [],
   "source": [
    "pipeline = gs.best_estimator_\n",
    "scores, col = evaluate_model(train_X, val_X, train_y_tr, val_y_tr, \n",
    "                             pipeline)\n",
    "scores"
   ]
  },
  {
   "cell_type": "code",
   "execution_count": null,
   "metadata": {},
   "outputs": [],
   "source": []
  }
 ],
 "metadata": {
  "colab": {
   "collapsed_sections": [
    "V1HsPVUugyKY",
    "1LXoGpermZys",
    "VxrlODUTfyq2"
   ],
   "name": "Копия блокнота \"Regression_1_ws.ipynb\"",
   "provenance": [],
   "toc_visible": true
  },
  "kernelspec": {
   "display_name": "Python 3",
   "language": "python",
   "name": "python3"
  },
  "language_info": {
   "codemirror_mode": {
    "name": "ipython",
    "version": 3
   },
   "file_extension": ".py",
   "mimetype": "text/x-python",
   "name": "python",
   "nbconvert_exporter": "python",
   "pygments_lexer": "ipython3",
   "version": "3.8.5"
  },
  "varInspector": {
   "cols": {
    "lenName": 16,
    "lenType": 16,
    "lenVar": 40
   },
   "kernels_config": {
    "python": {
     "delete_cmd_postfix": "",
     "delete_cmd_prefix": "del ",
     "library": "var_list.py",
     "varRefreshCmd": "print(var_dic_list())"
    },
    "r": {
     "delete_cmd_postfix": ") ",
     "delete_cmd_prefix": "rm(",
     "library": "var_list.r",
     "varRefreshCmd": "cat(var_dic_list()) "
    }
   },
   "types_to_exclude": [
    "module",
    "function",
    "builtin_function_or_method",
    "instance",
    "_Feature"
   ],
   "window_display": false
  }
 },
 "nbformat": 4,
 "nbformat_minor": 1
}
