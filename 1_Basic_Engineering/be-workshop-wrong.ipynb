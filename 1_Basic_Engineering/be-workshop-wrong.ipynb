{
 "cells": [
  {
   "cell_type": "markdown",
   "metadata": {
    "id": "o2wMVHudjX6g"
   },
   "source": [
    "# Basic Engineering\n",
    "\n",
    "## Introduction\n",
    "\n",
    "In this notbook you will go through the process of environment setup and try packages mentioned in the theory part of the module.\n",
    "\n",
    "> We assume that you created fresh environment and installed notebook package on top of it."
   ]
  },
  {
   "cell_type": "markdown",
   "metadata": {
    "id": "BGOzfS3gjX62"
   },
   "source": [
    "## Conda environment\n",
    "\n",
    "At this point you already have a working environment since you opened this notebook. The only packaged installed is **notebook** which is a part of jupyter ecosystem. Lets proceed with installation of other packages."
   ]
  },
  {
   "cell_type": "markdown",
   "metadata": {
    "id": "hFalipR_jX65"
   },
   "source": [
    "## Using shell commands from the notebook\n",
    "\n",
    "First lets install numpy via pip. We can do it as easy as:\n",
    "\n",
    "```bash\n",
    "pip install numpy\n",
    "```\n",
    "\n",
    "To run this and any other shell commands use ! symbol before the command itself."
   ]
  },
  {
   "cell_type": "code",
   "execution_count": 1,
   "metadata": {
    "id": "ScpGH4VBjX69",
    "tags": []
   },
   "outputs": [
    {
     "name": "stdout",
     "output_type": "stream",
     "text": [
      "Collecting numpy\n",
      "  Using cached numpy-1.20.1-cp38-cp38-win_amd64.whl (13.7 MB)\n",
      "Installing collected packages: numpy\n",
      "Successfully installed numpy-1.20.1\n"
     ]
    }
   ],
   "source": [
    "!pip install numpy"
   ]
  },
  {
   "cell_type": "markdown",
   "metadata": {
    "id": "QtsXiX4SjX7C"
   },
   "source": [
    "To install pandas we are going to use conda instead. Look at command below:\n",
    "- You must use `-y` parameter when running `conda install` inside the notebook. Conda will prompt you to agree to installation. If you provide `-y` parameter, this will be omitted.\n",
    "- We also use `-c conda-forge` to install from specific conda channel. The channel is just a place where conda packages are stored. Many packages are not available in the official channels, however they are most likely available if conda-forge. Note, that pandas is available in official channel, but we use conda-forge just to get in touch.\n",
    "- The numbers after the package name is the version of the package which is going to be installed. Here we have pandas version 1.0.5."
   ]
  },
  {
   "cell_type": "code",
   "execution_count": 3,
   "metadata": {
    "id": "rr2lujFujX7H",
    "tags": []
   },
   "outputs": [
    {
     "name": "stdout",
     "output_type": "stream",
     "text": [
      "Collecting package metadata (current_repodata.json): ...working... done\n",
      "Solving environment: ...working... failed with initial frozen solve. Retrying with flexible solve.\n",
      "Collecting package metadata (repodata.json): ...working... done\n",
      "Solving environment: ...working... done\n",
      "\n",
      "## Package Plan ##\n",
      "\n",
      "  environment location: C:\\Users\\agama\\anaconda3\\envs\\course\n",
      "\n",
      "  added / updated specs:\n",
      "    - pandas==1.0.5\n",
      "\n",
      "\n",
      "The following packages will be downloaded:\n",
      "\n",
      "    package                    |            build\n",
      "    ---------------------------|-----------------\n",
      "    ca-certificates-2020.12.5  |       h5b45459_0         173 KB  conda-forge\n",
      "    certifi-2020.12.5          |   py38haa244fe_1         144 KB  conda-forge\n",
      "    intel-openmp-2020.3        |     h57928b3_311         2.0 MB  conda-forge\n",
      "    libblas-3.9.0              |            8_mkl         3.9 MB  conda-forge\n",
      "    libcblas-3.9.0             |            8_mkl         3.9 MB  conda-forge\n",
      "    liblapack-3.9.0            |            8_mkl         3.9 MB  conda-forge\n",
      "    mkl-2020.4                 |     hb70f87d_311       172.4 MB  conda-forge\n",
      "    numpy-1.20.0               |   py38h0cc643e_0         5.3 MB  conda-forge\n",
      "    openssl-1.1.1i             |       h8ffe710_0         5.8 MB  conda-forge\n",
      "    pandas-1.0.5               |   py38he6e81aa_0         9.2 MB  conda-forge\n",
      "    python_abi-3.8             |           1_cp38           4 KB  conda-forge\n",
      "    pytz-2021.1                |     pyhd8ed1ab_0         239 KB  conda-forge\n",
      "    ------------------------------------------------------------\n",
      "                                           Total:       206.9 MB\n",
      "\n",
      "The following NEW packages will be INSTALLED:\n",
      "\n",
      "  intel-openmp       conda-forge/win-64::intel-openmp-2020.3-h57928b3_311\n",
      "  libblas            conda-forge/win-64::libblas-3.9.0-8_mkl\n",
      "  libcblas           conda-forge/win-64::libcblas-3.9.0-8_mkl\n",
      "  liblapack          conda-forge/win-64::liblapack-3.9.0-8_mkl\n",
      "  mkl                conda-forge/win-64::mkl-2020.4-hb70f87d_311\n",
      "  numpy              conda-forge/win-64::numpy-1.20.0-py38h0cc643e_0\n",
      "  pandas             conda-forge/win-64::pandas-1.0.5-py38he6e81aa_0\n",
      "  python_abi         conda-forge/win-64::python_abi-3.8-1_cp38\n",
      "  pytz               conda-forge/noarch::pytz-2021.1-pyhd8ed1ab_0\n",
      "\n",
      "The following packages will be UPDATED:\n",
      "\n",
      "  certifi            pkgs/main::certifi-2020.12.5-py38haa9~ --> conda-forge::certifi-2020.12.5-py38haa244fe_1\n",
      "\n",
      "The following packages will be SUPERSEDED by a higher-priority channel:\n",
      "\n",
      "  ca-certificates    pkgs/main::ca-certificates-2021.1.19-~ --> conda-forge::ca-certificates-2020.12.5-h5b45459_0\n",
      "  openssl              pkgs/main::openssl-1.1.1i-h2bbff1b_0 --> conda-forge::openssl-1.1.1i-h8ffe710_0\n",
      "\n",
      "\n",
      "\n",
      "Downloading and Extracting Packages\n",
      "\n",
      "python_abi-3.8       | 4 KB      |            |   0% \n",
      "python_abi-3.8       | 4 KB      | ########## | 100% \n",
      "python_abi-3.8       | 4 KB      | ########## | 100% \n",
      "\n",
      "libblas-3.9.0        | 3.9 MB    |            |   0% \n",
      "libblas-3.9.0        | 3.9 MB    | 5          |   6% \n",
      "libblas-3.9.0        | 3.9 MB    | #5         |  15% \n",
      "libblas-3.9.0        | 3.9 MB    | ##7        |  28% \n",
      "libblas-3.9.0        | 3.9 MB    | ###9       |  40% \n",
      "libblas-3.9.0        | 3.9 MB    | ####8      |  49% \n",
      "libblas-3.9.0        | 3.9 MB    | ######4    |  64% \n",
      "libblas-3.9.0        | 3.9 MB    | #######8   |  79% \n",
      "libblas-3.9.0        | 3.9 MB    | ########9  |  89% \n",
      "libblas-3.9.0        | 3.9 MB    | ########## | 100% \n",
      "libblas-3.9.0        | 3.9 MB    | ########## | 100% \n",
      "\n",
      "pandas-1.0.5         | 9.2 MB    |            |   0% \n",
      "pandas-1.0.5         | 9.2 MB    |            |   0% \n",
      "pandas-1.0.5         | 9.2 MB    | 8          |   8% \n",
      "pandas-1.0.5         | 9.2 MB    | #5         |  15% \n",
      "pandas-1.0.5         | 9.2 MB    | ##2        |  23% \n",
      "pandas-1.0.5         | 9.2 MB    | ##7        |  27% \n",
      "pandas-1.0.5         | 9.2 MB    | ###1       |  31% \n",
      "pandas-1.0.5         | 9.2 MB    | ###6       |  36% \n",
      "pandas-1.0.5         | 9.2 MB    | ####1      |  42% \n",
      "pandas-1.0.5         | 9.2 MB    | ####6      |  46% \n",
      "pandas-1.0.5         | 9.2 MB    | ####9      |  50% \n",
      "pandas-1.0.5         | 9.2 MB    | #####5     |  56% \n",
      "pandas-1.0.5         | 9.2 MB    | ######2    |  62% \n",
      "pandas-1.0.5         | 9.2 MB    | ######9    |  70% \n",
      "pandas-1.0.5         | 9.2 MB    | #######5   |  76% \n",
      "pandas-1.0.5         | 9.2 MB    | ########5  |  85% \n",
      "pandas-1.0.5         | 9.2 MB    | #########2 |  92% \n",
      "pandas-1.0.5         | 9.2 MB    | #########8 |  99% \n",
      "pandas-1.0.5         | 9.2 MB    | ########## | 100% \n",
      "\n",
      "ca-certificates-2020 | 173 KB    |            |   0% \n",
      "ca-certificates-2020 | 173 KB    | ########## | 100% \n",
      "ca-certificates-2020 | 173 KB    | ########## | 100% \n",
      "\n",
      "openssl-1.1.1i       | 5.8 MB    |            |   0% \n",
      "openssl-1.1.1i       | 5.8 MB    | 3          |   4% \n",
      "openssl-1.1.1i       | 5.8 MB    | 4          |   5% \n",
      "openssl-1.1.1i       | 5.8 MB    | 5          |   6% \n",
      "openssl-1.1.1i       | 5.8 MB    | #2         |  13% \n",
      "openssl-1.1.1i       | 5.8 MB    | ##4        |  24% \n",
      "openssl-1.1.1i       | 5.8 MB    | ###5       |  36% \n",
      "openssl-1.1.1i       | 5.8 MB    | #####      |  51% \n",
      "openssl-1.1.1i       | 5.8 MB    | ######5    |  65% \n",
      "openssl-1.1.1i       | 5.8 MB    | #######5   |  76% \n",
      "openssl-1.1.1i       | 5.8 MB    | ########6  |  86% \n",
      "openssl-1.1.1i       | 5.8 MB    | #########7 |  97% \n",
      "openssl-1.1.1i       | 5.8 MB    | ########## | 100% \n",
      "\n",
      "intel-openmp-2020.3  | 2.0 MB    |            |   0% \n",
      "intel-openmp-2020.3  | 2.0 MB    | #2         |  13% \n",
      "intel-openmp-2020.3  | 2.0 MB    | ###7       |  38% \n",
      "intel-openmp-2020.3  | 2.0 MB    | #######9   |  79% \n",
      "intel-openmp-2020.3  | 2.0 MB    | #########8 |  99% \n",
      "intel-openmp-2020.3  | 2.0 MB    | ########## | 100% \n",
      "\n",
      "numpy-1.20.0         | 5.3 MB    |            |   0% \n",
      "numpy-1.20.0         | 5.3 MB    | 2          |   3% \n",
      "numpy-1.20.0         | 5.3 MB    | #          |  10% \n",
      "numpy-1.20.0         | 5.3 MB    | #5         |  16% \n",
      "numpy-1.20.0         | 5.3 MB    | ##5        |  25% \n",
      "numpy-1.20.0         | 5.3 MB    | ###4       |  34% \n",
      "numpy-1.20.0         | 5.3 MB    | ####1      |  41% \n",
      "numpy-1.20.0         | 5.3 MB    | ####9      |  50% \n",
      "numpy-1.20.0         | 5.3 MB    | #####9     |  59% \n",
      "numpy-1.20.0         | 5.3 MB    | ######6    |  67% \n",
      "numpy-1.20.0         | 5.3 MB    | #######3   |  73% \n",
      "numpy-1.20.0         | 5.3 MB    | #######9   |  80% \n",
      "numpy-1.20.0         | 5.3 MB    | ########5  |  86% \n",
      "numpy-1.20.0         | 5.3 MB    | #########1 |  92% \n",
      "numpy-1.20.0         | 5.3 MB    | ########## | 100% \n",
      "numpy-1.20.0         | 5.3 MB    | ########## | 100% \n",
      "\n",
      "libcblas-3.9.0       | 3.9 MB    |            |   0% \n",
      "libcblas-3.9.0       | 3.9 MB    | 4          |   4% \n",
      "libcblas-3.9.0       | 3.9 MB    | #4         |  14% \n",
      "libcblas-3.9.0       | 3.9 MB    | ##4        |  25% \n",
      "libcblas-3.9.0       | 3.9 MB    | ###7       |  37% \n",
      "libcblas-3.9.0       | 3.9 MB    | #####2     |  53% \n",
      "libcblas-3.9.0       | 3.9 MB    | #######    |  70% \n",
      "libcblas-3.9.0       | 3.9 MB    | ########5  |  86% \n",
      "libcblas-3.9.0       | 3.9 MB    | #########8 |  99% \n",
      "libcblas-3.9.0       | 3.9 MB    | ########## | 100% \n",
      "\n",
      "certifi-2020.12.5    | 144 KB    |            |   0% \n",
      "certifi-2020.12.5    | 144 KB    | #1         |  11% \n",
      "certifi-2020.12.5    | 144 KB    | ########## | 100% \n",
      "\n",
      "liblapack-3.9.0      | 3.9 MB    |            |   0% \n",
      "liblapack-3.9.0      | 3.9 MB    | 6          |   6% \n",
      "liblapack-3.9.0      | 3.9 MB    | ##3        |  24% \n",
      "liblapack-3.9.0      | 3.9 MB    | ###6       |  36% \n",
      "liblapack-3.9.0      | 3.9 MB    | ####9      |  49% \n",
      "liblapack-3.9.0      | 3.9 MB    | ######5    |  65% \n",
      "liblapack-3.9.0      | 3.9 MB    | #######6   |  77% \n",
      "liblapack-3.9.0      | 3.9 MB    | ########7  |  88% \n",
      "liblapack-3.9.0      | 3.9 MB    | #########8 |  99% \n",
      "liblapack-3.9.0      | 3.9 MB    | ########## | 100% \n",
      "\n",
      "mkl-2020.4           | 172.4 MB  |            |   0% \n",
      "mkl-2020.4           | 172.4 MB  |            |   0% \n",
      "mkl-2020.4           | 172.4 MB  |            |   0% \n",
      "mkl-2020.4           | 172.4 MB  |            |   0% \n",
      "mkl-2020.4           | 172.4 MB  |            |   1% \n",
      "mkl-2020.4           | 172.4 MB  | 1          |   1% \n",
      "mkl-2020.4           | 172.4 MB  | 1          |   1% \n",
      "mkl-2020.4           | 172.4 MB  | 1          |   2% \n",
      "mkl-2020.4           | 172.4 MB  | 2          |   2% \n",
      "mkl-2020.4           | 172.4 MB  | 2          |   2% \n",
      "mkl-2020.4           | 172.4 MB  | 2          |   3% \n",
      "mkl-2020.4           | 172.4 MB  | 3          |   3% \n",
      "mkl-2020.4           | 172.4 MB  | 3          |   4% \n",
      "mkl-2020.4           | 172.4 MB  | 4          |   4% \n",
      "mkl-2020.4           | 172.4 MB  | 4          |   5% \n",
      "mkl-2020.4           | 172.4 MB  | 5          |   5% \n",
      "mkl-2020.4           | 172.4 MB  | 5          |   6% \n",
      "mkl-2020.4           | 172.4 MB  | 5          |   6% \n",
      "mkl-2020.4           | 172.4 MB  | 6          |   6% \n",
      "mkl-2020.4           | 172.4 MB  | 6          |   7% \n",
      "mkl-2020.4           | 172.4 MB  | 7          |   7% \n",
      "mkl-2020.4           | 172.4 MB  | 7          |   8% \n",
      "mkl-2020.4           | 172.4 MB  | 8          |   8% \n",
      "mkl-2020.4           | 172.4 MB  | 8          |   9% \n",
      "mkl-2020.4           | 172.4 MB  | 9          |   9% \n",
      "mkl-2020.4           | 172.4 MB  | 9          |  10% \n",
      "mkl-2020.4           | 172.4 MB  | 9          |  10% \n",
      "mkl-2020.4           | 172.4 MB  | #          |  10% \n",
      "mkl-2020.4           | 172.4 MB  | #          |  11% \n",
      "mkl-2020.4           | 172.4 MB  | #          |  11% \n",
      "mkl-2020.4           | 172.4 MB  | #1         |  11% \n",
      "mkl-2020.4           | 172.4 MB  | #1         |  12% \n",
      "mkl-2020.4           | 172.4 MB  | #2         |  12% \n",
      "mkl-2020.4           | 172.4 MB  | #2         |  12% \n",
      "mkl-2020.4           | 172.4 MB  | #2         |  13% \n",
      "mkl-2020.4           | 172.4 MB  | #2         |  13% \n",
      "mkl-2020.4           | 172.4 MB  | #3         |  13% \n",
      "mkl-2020.4           | 172.4 MB  | #3         |  14% \n",
      "mkl-2020.4           | 172.4 MB  | #3         |  14% \n",
      "mkl-2020.4           | 172.4 MB  | #4         |  14% \n",
      "mkl-2020.4           | 172.4 MB  | #4         |  15% \n",
      "mkl-2020.4           | 172.4 MB  | #5         |  15% \n",
      "mkl-2020.4           | 172.4 MB  | #5         |  16% \n",
      "mkl-2020.4           | 172.4 MB  | #5         |  16% \n",
      "mkl-2020.4           | 172.4 MB  | #6         |  16% \n",
      "mkl-2020.4           | 172.4 MB  | #6         |  16% \n",
      "mkl-2020.4           | 172.4 MB  | #6         |  17% \n",
      "mkl-2020.4           | 172.4 MB  | #6         |  17% \n",
      "mkl-2020.4           | 172.4 MB  | #7         |  17% \n",
      "mkl-2020.4           | 172.4 MB  | #7         |  17% \n",
      "mkl-2020.4           | 172.4 MB  | #7         |  18% \n",
      "mkl-2020.4           | 172.4 MB  | #8         |  18% \n",
      "mkl-2020.4           | 172.4 MB  | #8         |  18% \n",
      "mkl-2020.4           | 172.4 MB  | #8         |  19% \n",
      "mkl-2020.4           | 172.4 MB  | #9         |  19% \n",
      "mkl-2020.4           | 172.4 MB  | #9         |  19% \n",
      "mkl-2020.4           | 172.4 MB  | #9         |  20% \n",
      "mkl-2020.4           | 172.4 MB  | ##         |  20% \n",
      "mkl-2020.4           | 172.4 MB  | ##         |  20% \n",
      "mkl-2020.4           | 172.4 MB  | ##         |  21% \n",
      "mkl-2020.4           | 172.4 MB  | ##         |  21% \n",
      "mkl-2020.4           | 172.4 MB  | ##1        |  21% \n",
      "mkl-2020.4           | 172.4 MB  | ##1        |  22% \n",
      "mkl-2020.4           | 172.4 MB  | ##1        |  22% \n",
      "mkl-2020.4           | 172.4 MB  | ##2        |  22% \n",
      "mkl-2020.4           | 172.4 MB  | ##2        |  23% \n",
      "mkl-2020.4           | 172.4 MB  | ##2        |  23% \n",
      "mkl-2020.4           | 172.4 MB  | ##3        |  23% \n",
      "mkl-2020.4           | 172.4 MB  | ##3        |  24% \n",
      "mkl-2020.4           | 172.4 MB  | ##3        |  24% \n",
      "mkl-2020.4           | 172.4 MB  | ##4        |  24% \n",
      "mkl-2020.4           | 172.4 MB  | ##4        |  24% \n",
      "mkl-2020.4           | 172.4 MB  | ##4        |  25% \n",
      "mkl-2020.4           | 172.4 MB  | ##5        |  25% \n",
      "mkl-2020.4           | 172.4 MB  | ##5        |  25% \n",
      "mkl-2020.4           | 172.4 MB  | ##5        |  25% \n",
      "mkl-2020.4           | 172.4 MB  | ##5        |  26% \n",
      "mkl-2020.4           | 172.4 MB  | ##5        |  26% \n",
      "mkl-2020.4           | 172.4 MB  | ##6        |  26% \n",
      "mkl-2020.4           | 172.4 MB  | ##6        |  26% \n",
      "mkl-2020.4           | 172.4 MB  | ##6        |  27% \n",
      "mkl-2020.4           | 172.4 MB  | ##6        |  27% \n",
      "mkl-2020.4           | 172.4 MB  | ##6        |  27% \n",
      "mkl-2020.4           | 172.4 MB  | ##7        |  27% \n",
      "mkl-2020.4           | 172.4 MB  | ##7        |  27% \n",
      "mkl-2020.4           | 172.4 MB  | ##7        |  28% \n",
      "mkl-2020.4           | 172.4 MB  | ##7        |  28% \n",
      "mkl-2020.4           | 172.4 MB  | ##8        |  28% \n",
      "mkl-2020.4           | 172.4 MB  | ##8        |  29% \n",
      "mkl-2020.4           | 172.4 MB  | ##8        |  29% \n",
      "mkl-2020.4           | 172.4 MB  | ##9        |  29% \n",
      "mkl-2020.4           | 172.4 MB  | ##9        |  30% \n",
      "mkl-2020.4           | 172.4 MB  | ##9        |  30% \n",
      "mkl-2020.4           | 172.4 MB  | ###        |  30% \n",
      "mkl-2020.4           | 172.4 MB  | ###        |  31% \n",
      "mkl-2020.4           | 172.4 MB  | ###        |  31% \n",
      "mkl-2020.4           | 172.4 MB  | ###1       |  31% \n",
      "mkl-2020.4           | 172.4 MB  | ###1       |  32% \n",
      "mkl-2020.4           | 172.4 MB  | ###2       |  32% \n",
      "mkl-2020.4           | 172.4 MB  | ###2       |  32% \n",
      "mkl-2020.4           | 172.4 MB  | ###2       |  33% \n",
      "mkl-2020.4           | 172.4 MB  | ###3       |  33% \n",
      "mkl-2020.4           | 172.4 MB  | ###3       |  33% \n",
      "mkl-2020.4           | 172.4 MB  | ###3       |  33% \n",
      "mkl-2020.4           | 172.4 MB  | ###3       |  34% \n",
      "mkl-2020.4           | 172.4 MB  | ###3       |  34% \n",
      "mkl-2020.4           | 172.4 MB  | ###4       |  34% \n",
      "mkl-2020.4           | 172.4 MB  | ###4       |  35% \n",
      "mkl-2020.4           | 172.4 MB  | ###5       |  35% \n",
      "mkl-2020.4           | 172.4 MB  | ###5       |  35% \n",
      "mkl-2020.4           | 172.4 MB  | ###5       |  36% \n",
      "mkl-2020.4           | 172.4 MB  | ###6       |  36% \n",
      "mkl-2020.4           | 172.4 MB  | ###6       |  36% \n",
      "mkl-2020.4           | 172.4 MB  | ###6       |  37% \n",
      "mkl-2020.4           | 172.4 MB  | ###7       |  37% \n",
      "mkl-2020.4           | 172.4 MB  | ###7       |  38% \n",
      "mkl-2020.4           | 172.4 MB  | ###7       |  38% \n",
      "mkl-2020.4           | 172.4 MB  | ###8       |  38% \n",
      "mkl-2020.4           | 172.4 MB  | ###8       |  39% \n",
      "mkl-2020.4           | 172.4 MB  | ###9       |  39% \n",
      "mkl-2020.4           | 172.4 MB  | ###9       |  39% \n",
      "mkl-2020.4           | 172.4 MB  | ###9       |  40% \n",
      "mkl-2020.4           | 172.4 MB  | ####       |  40% \n",
      "mkl-2020.4           | 172.4 MB  | ####       |  41% \n",
      "mkl-2020.4           | 172.4 MB  | ####1      |  41% \n",
      "mkl-2020.4           | 172.4 MB  | ####1      |  41% \n",
      "mkl-2020.4           | 172.4 MB  | ####1      |  42% \n",
      "mkl-2020.4           | 172.4 MB  | ####2      |  42% \n",
      "mkl-2020.4           | 172.4 MB  | ####2      |  43% \n",
      "mkl-2020.4           | 172.4 MB  | ####2      |  43% \n",
      "mkl-2020.4           | 172.4 MB  | ####3      |  43% \n",
      "mkl-2020.4           | 172.4 MB  | ####3      |  44% \n",
      "mkl-2020.4           | 172.4 MB  | ####3      |  44% \n",
      "mkl-2020.4           | 172.4 MB  | ####4      |  45% \n",
      "mkl-2020.4           | 172.4 MB  | ####5      |  45% \n",
      "mkl-2020.4           | 172.4 MB  | ####5      |  46% \n",
      "mkl-2020.4           | 172.4 MB  | ####6      |  46% \n",
      "mkl-2020.4           | 172.4 MB  | ####6      |  46% \n",
      "mkl-2020.4           | 172.4 MB  | ####7      |  47% \n",
      "mkl-2020.4           | 172.4 MB  | ####7      |  48% \n",
      "mkl-2020.4           | 172.4 MB  | ####8      |  48% \n",
      "mkl-2020.4           | 172.4 MB  | ####8      |  48% \n",
      "mkl-2020.4           | 172.4 MB  | ####8      |  49% \n",
      "mkl-2020.4           | 172.4 MB  | ####9      |  49% \n",
      "mkl-2020.4           | 172.4 MB  | ####9      |  50% \n",
      "mkl-2020.4           | 172.4 MB  | #####      |  50% \n",
      "mkl-2020.4           | 172.4 MB  | #####      |  51% \n",
      "mkl-2020.4           | 172.4 MB  | #####1     |  51% \n",
      "mkl-2020.4           | 172.4 MB  | #####1     |  51% \n",
      "mkl-2020.4           | 172.4 MB  | #####1     |  52% \n",
      "mkl-2020.4           | 172.4 MB  | #####2     |  52% \n",
      "mkl-2020.4           | 172.4 MB  | #####2     |  52% \n",
      "mkl-2020.4           | 172.4 MB  | #####2     |  53% \n",
      "mkl-2020.4           | 172.4 MB  | #####2     |  53% \n",
      "mkl-2020.4           | 172.4 MB  | #####3     |  53% \n",
      "mkl-2020.4           | 172.4 MB  | #####3     |  53% \n",
      "mkl-2020.4           | 172.4 MB  | #####3     |  54% \n",
      "mkl-2020.4           | 172.4 MB  | #####3     |  54% \n",
      "mkl-2020.4           | 172.4 MB  | #####4     |  54% \n",
      "mkl-2020.4           | 172.4 MB  | #####4     |  54% \n",
      "mkl-2020.4           | 172.4 MB  | #####4     |  55% \n",
      "mkl-2020.4           | 172.4 MB  | #####5     |  55% \n",
      "mkl-2020.4           | 172.4 MB  | #####5     |  55% \n",
      "mkl-2020.4           | 172.4 MB  | #####5     |  56% \n",
      "mkl-2020.4           | 172.4 MB  | #####6     |  56% \n",
      "mkl-2020.4           | 172.4 MB  | #####6     |  57% \n",
      "mkl-2020.4           | 172.4 MB  | #####7     |  57% \n",
      "mkl-2020.4           | 172.4 MB  | #####7     |  58% \n",
      "mkl-2020.4           | 172.4 MB  | #####8     |  58% \n",
      "mkl-2020.4           | 172.4 MB  | #####8     |  58% \n",
      "mkl-2020.4           | 172.4 MB  | #####9     |  59% \n",
      "mkl-2020.4           | 172.4 MB  | #####9     |  59% \n",
      "mkl-2020.4           | 172.4 MB  | #####9     |  60% \n",
      "mkl-2020.4           | 172.4 MB  | ######     |  60% \n",
      "mkl-2020.4           | 172.4 MB  | ######     |  61% \n",
      "mkl-2020.4           | 172.4 MB  | ######1    |  61% \n",
      "mkl-2020.4           | 172.4 MB  | ######1    |  62% \n",
      "mkl-2020.4           | 172.4 MB  | ######2    |  62% \n",
      "mkl-2020.4           | 172.4 MB  | ######2    |  62% \n",
      "mkl-2020.4           | 172.4 MB  | ######2    |  63% \n",
      "mkl-2020.4           | 172.4 MB  | ######3    |  63% \n",
      "mkl-2020.4           | 172.4 MB  | ######3    |  64% \n",
      "mkl-2020.4           | 172.4 MB  | ######4    |  64% \n",
      "mkl-2020.4           | 172.4 MB  | ######4    |  65% \n",
      "mkl-2020.4           | 172.4 MB  | ######5    |  65% \n",
      "mkl-2020.4           | 172.4 MB  | ######5    |  66% \n",
      "mkl-2020.4           | 172.4 MB  | ######6    |  66% \n",
      "mkl-2020.4           | 172.4 MB  | ######6    |  67% \n",
      "mkl-2020.4           | 172.4 MB  | ######7    |  67% \n",
      "mkl-2020.4           | 172.4 MB  | ######7    |  68% \n",
      "mkl-2020.4           | 172.4 MB  | ######8    |  68% \n",
      "mkl-2020.4           | 172.4 MB  | ######8    |  68% \n",
      "mkl-2020.4           | 172.4 MB  | ######8    |  69% \n",
      "mkl-2020.4           | 172.4 MB  | ######9    |  69% \n",
      "mkl-2020.4           | 172.4 MB  | ######9    |  70% \n",
      "mkl-2020.4           | 172.4 MB  | ######9    |  70% \n",
      "mkl-2020.4           | 172.4 MB  | #######    |  70% \n",
      "mkl-2020.4           | 172.4 MB  | #######    |  71% \n",
      "mkl-2020.4           | 172.4 MB  | #######1   |  71% \n",
      "mkl-2020.4           | 172.4 MB  | #######1   |  71% \n",
      "mkl-2020.4           | 172.4 MB  | #######1   |  72% \n",
      "mkl-2020.4           | 172.4 MB  | #######2   |  72% \n",
      "mkl-2020.4           | 172.4 MB  | #######2   |  72% \n",
      "mkl-2020.4           | 172.4 MB  | #######2   |  73% \n",
      "mkl-2020.4           | 172.4 MB  | #######3   |  73% \n",
      "mkl-2020.4           | 172.4 MB  | #######3   |  73% \n",
      "mkl-2020.4           | 172.4 MB  | #######3   |  74% \n",
      "mkl-2020.4           | 172.4 MB  | #######4   |  74% \n",
      "mkl-2020.4           | 172.4 MB  | #######4   |  75% \n",
      "mkl-2020.4           | 172.4 MB  | #######4   |  75% \n",
      "mkl-2020.4           | 172.4 MB  | #######5   |  75% \n",
      "mkl-2020.4           | 172.4 MB  | #######5   |  76% \n",
      "mkl-2020.4           | 172.4 MB  | #######6   |  76% \n",
      "mkl-2020.4           | 172.4 MB  | #######6   |  76% \n",
      "mkl-2020.4           | 172.4 MB  | #######6   |  77% \n",
      "mkl-2020.4           | 172.4 MB  | #######7   |  77% \n",
      "mkl-2020.4           | 172.4 MB  | #######7   |  77% \n",
      "mkl-2020.4           | 172.4 MB  | #######7   |  78% \n",
      "mkl-2020.4           | 172.4 MB  | #######7   |  78% \n",
      "mkl-2020.4           | 172.4 MB  | #######8   |  78% \n",
      "mkl-2020.4           | 172.4 MB  | #######8   |  79% \n",
      "mkl-2020.4           | 172.4 MB  | #######8   |  79% \n",
      "mkl-2020.4           | 172.4 MB  | #######9   |  79% \n",
      "mkl-2020.4           | 172.4 MB  | #######9   |  80% \n",
      "mkl-2020.4           | 172.4 MB  | ########   |  80% \n",
      "mkl-2020.4           | 172.4 MB  | ########   |  81% \n",
      "mkl-2020.4           | 172.4 MB  | ########   |  81% \n",
      "mkl-2020.4           | 172.4 MB  | ########1  |  81% \n",
      "mkl-2020.4           | 172.4 MB  | ########1  |  82% \n",
      "mkl-2020.4           | 172.4 MB  | ########2  |  82% \n",
      "mkl-2020.4           | 172.4 MB  | ########2  |  83% \n",
      "mkl-2020.4           | 172.4 MB  | ########2  |  83% \n",
      "mkl-2020.4           | 172.4 MB  | ########3  |  83% \n",
      "mkl-2020.4           | 172.4 MB  | ########3  |  84% \n",
      "mkl-2020.4           | 172.4 MB  | ########4  |  84% \n",
      "mkl-2020.4           | 172.4 MB  | ########4  |  84% \n",
      "mkl-2020.4           | 172.4 MB  | ########4  |  85% \n",
      "mkl-2020.4           | 172.4 MB  | ########5  |  85% \n",
      "mkl-2020.4           | 172.4 MB  | ########5  |  86% \n",
      "mkl-2020.4           | 172.4 MB  | ########6  |  87% \n",
      "mkl-2020.4           | 172.4 MB  | ########7  |  87% \n",
      "mkl-2020.4           | 172.4 MB  | ########7  |  88% \n",
      "mkl-2020.4           | 172.4 MB  | ########8  |  88% \n",
      "mkl-2020.4           | 172.4 MB  | ########8  |  89% \n",
      "mkl-2020.4           | 172.4 MB  | ########9  |  89% \n",
      "mkl-2020.4           | 172.4 MB  | ########9  |  90% \n",
      "mkl-2020.4           | 172.4 MB  | #########  |  90% \n",
      "mkl-2020.4           | 172.4 MB  | #########  |  91% \n",
      "mkl-2020.4           | 172.4 MB  | #########  |  91% \n",
      "mkl-2020.4           | 172.4 MB  | #########1 |  91% \n",
      "mkl-2020.4           | 172.4 MB  | #########1 |  92% \n",
      "mkl-2020.4           | 172.4 MB  | #########2 |  92% \n",
      "mkl-2020.4           | 172.4 MB  | #########2 |  92% \n",
      "mkl-2020.4           | 172.4 MB  | #########2 |  93% \n",
      "mkl-2020.4           | 172.4 MB  | #########3 |  93% \n",
      "mkl-2020.4           | 172.4 MB  | #########3 |  94% \n",
      "mkl-2020.4           | 172.4 MB  | #########3 |  94% \n",
      "mkl-2020.4           | 172.4 MB  | #########4 |  94% \n",
      "mkl-2020.4           | 172.4 MB  | #########4 |  95% \n",
      "mkl-2020.4           | 172.4 MB  | #########5 |  95% \n",
      "mkl-2020.4           | 172.4 MB  | #########5 |  95% \n",
      "mkl-2020.4           | 172.4 MB  | #########5 |  96% \n",
      "mkl-2020.4           | 172.4 MB  | #########5 |  96% \n",
      "mkl-2020.4           | 172.4 MB  | #########6 |  96% \n",
      "mkl-2020.4           | 172.4 MB  | #########6 |  97% \n",
      "mkl-2020.4           | 172.4 MB  | #########7 |  97% \n",
      "mkl-2020.4           | 172.4 MB  | #########7 |  97% \n",
      "mkl-2020.4           | 172.4 MB  | #########7 |  98% \n",
      "mkl-2020.4           | 172.4 MB  | #########8 |  98% \n",
      "mkl-2020.4           | 172.4 MB  | #########8 |  98% \n",
      "mkl-2020.4           | 172.4 MB  | #########8 |  99% \n",
      "mkl-2020.4           | 172.4 MB  | #########8 |  99% \n",
      "mkl-2020.4           | 172.4 MB  | #########9 |  99% \n",
      "mkl-2020.4           | 172.4 MB  | #########9 |  99% \n",
      "mkl-2020.4           | 172.4 MB  | #########9 | 100% \n",
      "mkl-2020.4           | 172.4 MB  | #########9 | 100% \n",
      "mkl-2020.4           | 172.4 MB  | ########## | 100% \n",
      "\n",
      "pytz-2021.1          | 239 KB    |            |   0% \n",
      "pytz-2021.1          | 239 KB    | 6          |   7% \n",
      "pytz-2021.1          | 239 KB    | ########## | 100% \n",
      "pytz-2021.1          | 239 KB    | ########## | 100% \n",
      "Preparing transaction: ...working... done\n",
      "Verifying transaction: ...working... done\n",
      "Executing transaction: ...working... done\n"
     ]
    },
    {
     "name": "stdout",
     "output_type": "stream",
     "text": [
      "Collecting package metadata (current_repodata.json): ...working... done\n",
      "Solving environment: ...working... failed with initial frozen solve. Retrying with flexible solve.\n",
      "Collecting package metadata (repodata.json): ...working... done\n",
      "Solving environment: ...working... done\n",
      "\n",
      "## Package Plan ##\n",
      "\n",
      "  environment location: C:\\Users\\agama\\anaconda3\\envs\\course\n",
      "\n",
      "  added / updated specs:\n",
      "    - pandas==1.0.5\n",
      "\n",
      "\n",
      "The following NEW packages will be INSTALLED:\n",
      "\n",
      "  intel-openmp       conda-forge/win-64::intel-openmp-2020.3-h57928b3_311\n",
      "  libblas            conda-forge/win-64::libblas-3.9.0-8_mkl\n",
      "  libcblas           conda-forge/win-64::libcblas-3.9.0-8_mkl\n",
      "  liblapack          conda-forge/win-64::liblapack-3.9.0-8_mkl\n",
      "  mkl                conda-forge/win-64::mkl-2020.4-hb70f87d_311\n",
      "  numpy              conda-forge/win-64::numpy-1.20.0-py38h0cc643e_0\n",
      "  pandas             conda-forge/win-64::pandas-1.0.5-py38he6e81aa_0\n",
      "  python_abi         conda-forge/win-64::python_abi-3.8-1_cp38\n",
      "  pytz               conda-forge/noarch::pytz-2021.1-pyhd8ed1ab_0\n",
      "\n",
      "The following packages will be UPDATED:\n",
      "\n",
      "  certifi            pkgs/main::certifi-2020.12.5-py38haa9~ --> conda-forge::certifi-2020.12.5-py38haa244fe_1\n",
      "\n",
      "The following packages will be SUPERSEDED by a higher-priority channel:\n",
      "\n",
      "  ca-certificates    pkgs/main::ca-certificates-2021.1.19-~ --> conda-forge::ca-certificates-2020.12.5-h5b45459_0\n",
      "  openssl              pkgs/main::openssl-1.1.1i-h2bbff1b_0 --> conda-forge::openssl-1.1.1i-h8ffe710_0\n",
      "\n",
      "\n",
      "Preparing transaction: ...working... done\n",
      "Verifying transaction: ...working... done\n",
      "Executing transaction: ...working... done\n"
     ]
    }
   ],
   "source": [
    "!conda install -y -c conda-forge pandas==1.0.5"
   ]
  },
  {
   "cell_type": "markdown",
   "metadata": {
    "ExecuteTime": {
     "end_time": "2020-07-19T05:25:08.253624Z",
     "start_time": "2020-07-19T05:25:08.247626Z"
    },
    "id": "efYKHmsBjX7L"
   },
   "source": [
    "## Numpy, vectorization\n",
    "\n",
    "Numpy is rich and powerfull library. The idea behind it are optimized operations with matrices (or tensors when there are more than 2 dimentions). It is written in C, thus providing much better peformance than pure Python. Same (or similar) interface is used in the most popular deep learning libraries like TensorFlow and PyTorch.\n",
    "\n",
    "The core principle of Numpy is vectorization. Instead of calculating matrix operations in for cycle one number by one, Numpy parallelize this operations obtaining much better performance.\n",
    "\n",
    "Lets see it for ourselves. First we create a 100x100 matrix with integers ranging from 0 to 100. Then measure the time of matrix multiplication in two cases:\n",
    "- Matrix as list of list in pure Python\n",
    "- Matrix as optimized numpy array."
   ]
  },
  {
   "cell_type": "code",
   "execution_count": 4,
   "metadata": {
    "ExecuteTime": {
     "end_time": "2020-07-19T05:56:41.944945Z",
     "start_time": "2020-07-19T05:56:41.938944Z"
    },
    "id": "jiufifDqjX7P"
   },
   "outputs": [],
   "source": [
    "import numpy as np\n",
    "\n",
    "mtx = np.random.randint(0, 100, size=(200, 200))"
   ]
  },
  {
   "cell_type": "code",
   "execution_count": 5,
   "metadata": {
    "ExecuteTime": {
     "end_time": "2020-07-19T05:56:43.976458Z",
     "start_time": "2020-07-19T05:56:43.964456Z"
    },
    "id": "DnVeEV8KjX7U"
   },
   "outputs": [
    {
     "name": "stdout",
     "output_type": "stream",
     "text": [
      "Shape: (200, 200)\n"
     ]
    },
    {
     "data": {
      "text/plain": [
       "array([[43, 26, 71, ..., 18, 39, 96],\n",
       "       [58, 64, 99, ..., 12,  9, 69],\n",
       "       [86, 46, 98, ..., 55, 32, 25],\n",
       "       ...,\n",
       "       [81, 60, 97, ...,  6, 32, 44],\n",
       "       [30, 86, 30, ..., 24, 97, 24],\n",
       "       [33, 95, 26, ..., 37, 44, 47]])"
      ]
     },
     "execution_count": 5,
     "metadata": {},
     "output_type": "execute_result"
    }
   ],
   "source": [
    "print(f'Shape: {mtx.shape}')\n",
    "mtx"
   ]
  },
  {
   "cell_type": "code",
   "execution_count": 6,
   "metadata": {
    "ExecuteTime": {
     "end_time": "2020-07-19T05:56:45.986462Z",
     "start_time": "2020-07-19T05:56:45.969458Z"
    },
    "id": "xltCLaKHjX7V"
   },
   "outputs": [],
   "source": [
    "mtx_as_list = mtx.tolist()"
   ]
  },
  {
   "cell_type": "code",
   "execution_count": 7,
   "metadata": {
    "ExecuteTime": {
     "end_time": "2020-07-19T06:12:37.250909Z",
     "start_time": "2020-07-19T06:12:32.077911Z"
    },
    "id": "VpdSusDLjX7Y"
   },
   "outputs": [
    {
     "name": "stdout",
     "output_type": "stream",
     "text": [
      "Wall time: 3.12 s\n"
     ]
    }
   ],
   "source": [
    "%%time\n",
    "result = np.zeros_like(mtx).tolist()\n",
    "for i in range(len(mtx_as_list)):\n",
    "    for j in range(len(mtx_as_list)):\n",
    "        for k in range(len(mtx_as_list)):\n",
    "             result[i][j] += mtx_as_list[i][k] * mtx_as_list[k][j]"
   ]
  },
  {
   "cell_type": "code",
   "execution_count": 8,
   "metadata": {
    "ExecuteTime": {
     "end_time": "2020-07-19T06:12:26.904909Z",
     "start_time": "2020-07-19T06:12:26.878915Z"
    },
    "id": "DBIkiWaejX7b"
   },
   "outputs": [
    {
     "name": "stdout",
     "output_type": "stream",
     "text": [
      "Wall time: 12 ms\n"
     ]
    }
   ],
   "source": [
    "%%time\n",
    "# @ - matrix multiplication operation in Numpy\n",
    "numpy_result = mtx @ mtx"
   ]
  },
  {
   "cell_type": "markdown",
   "metadata": {
    "ExecuteTime": {
     "end_time": "2020-07-19T05:56:35.968454Z",
     "start_time": "2020-07-19T05:53:23.166Z"
    },
    "id": "WdZKOmZijX7f"
   },
   "source": [
    "As you can see matrix operation in Numpy are very optimized. Many other libraries, like Pandas, build their operations on top of numpy."
   ]
  },
  {
   "cell_type": "markdown",
   "metadata": {
    "ExecuteTime": {
     "end_time": "2020-07-19T05:56:35.999456Z",
     "start_time": "2020-07-19T05:56:03.173Z"
    },
    "id": "nre8BE-6jX7g"
   },
   "source": [
    "## Pandas\n",
    "\n",
    "Now lets look at Pandas. It's like a swiss army knife for data wrangling and analysis. We'll go through indexing, column creation, data saving and loading, and custom functions."
   ]
  },
  {
   "cell_type": "code",
   "execution_count": 9,
   "metadata": {
    "id": "8AFZJrE5jX7i"
   },
   "outputs": [
    {
     "name": "stdout",
     "output_type": "stream",
     "text": [
      "Collecting bds_courseware\n",
      "  Using cached bds_courseware-1.0.3-py3-none-any.whl (3.1 kB)\n",
      "Requirement already satisfied: pandas>=1.0.5 in c:\\users\\agama\\anaconda3\\envs\\course\\lib\\site-packages (from bds_courseware) (1.0.5)\n",
      "Requirement already satisfied: pytz>=2017.2 in c:\\users\\agama\\anaconda3\\envs\\course\\lib\\site-packages (from pandas>=1.0.5->bds_courseware) (2021.1)\n",
      "Requirement already satisfied: numpy>=1.13.3 in c:\\users\\agama\\anaconda3\\envs\\course\\lib\\site-packages (from pandas>=1.0.5->bds_courseware) (1.20.1)\n",
      "Requirement already satisfied: python-dateutil>=2.6.1 in c:\\users\\agama\\anaconda3\\envs\\course\\lib\\site-packages (from pandas>=1.0.5->bds_courseware) (2.8.1)\n",
      "Requirement already satisfied: six>=1.5 in c:\\users\\agama\\anaconda3\\envs\\course\\lib\\site-packages (from python-dateutil>=2.6.1->pandas>=1.0.5->bds_courseware) (1.15.0)\n",
      "Collecting gdown\n",
      "  Using cached gdown-3.12.2-cp38-none-any.whl\n",
      "Collecting filelock\n",
      "  Using cached filelock-3.0.12-py3-none-any.whl (7.6 kB)\n",
      "Collecting requests[socks]\n",
      "  Using cached requests-2.25.1-py2.py3-none-any.whl (61 kB)\n",
      "Requirement already satisfied: certifi>=2017.4.17 in c:\\users\\agama\\anaconda3\\envs\\course\\lib\\site-packages (from requests[socks]->gdown->bds_courseware) (2020.12.5)\n",
      "Collecting chardet<5,>=3.0.2\n",
      "  Using cached chardet-4.0.0-py2.py3-none-any.whl (178 kB)\n",
      "Collecting idna<3,>=2.5\n",
      "  Using cached idna-2.10-py2.py3-none-any.whl (58 kB)\n",
      "Collecting PySocks!=1.5.7,>=1.5.6\n",
      "  Using cached PySocks-1.7.1-py3-none-any.whl (16 kB)\n",
      "Collecting urllib3<1.27,>=1.21.1\n",
      "  Using cached urllib3-1.26.3-py2.py3-none-any.whl (137 kB)\n",
      "Collecting tqdm\n",
      "  Downloading tqdm-4.56.1-py2.py3-none-any.whl (72 kB)\n",
      "Installing collected packages: urllib3, idna, chardet, requests, PySocks, tqdm, filelock, gdown, bds-courseware\n",
      "Successfully installed PySocks-1.7.1 bds-courseware-1.0.3 chardet-4.0.0 filelock-3.0.12 gdown-3.12.2 idna-2.10 requests-2.25.1 tqdm-4.56.1 urllib3-1.26.3\n"
     ]
    }
   ],
   "source": [
    "!pip install bds_courseware"
   ]
  },
  {
   "cell_type": "code",
   "execution_count": 10,
   "metadata": {
    "ExecuteTime": {
     "end_time": "2020-07-28T11:39:23.459132Z",
     "start_time": "2020-07-28T11:39:21.504539Z"
    },
    "id": "4NwxA-AQjX7k"
   },
   "outputs": [
    {
     "ename": "ImportError",
     "evalue": "cannot import name 'get_msft_store_dataset' from 'bds_courseware' (C:\\Users\\agama\\anaconda3\\envs\\course\\lib\\site-packages\\bds_courseware\\__init__.py)",
     "output_type": "error",
     "traceback": [
      "\u001b[1;31m---------------------------------------------------------------------------\u001b[0m",
      "\u001b[1;31mImportError\u001b[0m                               Traceback (most recent call last)",
      "\u001b[1;32m<ipython-input-10-90c766e96a27>\u001b[0m in \u001b[0;36m<module>\u001b[1;34m\u001b[0m\n\u001b[1;32m----> 1\u001b[1;33m \u001b[1;32mfrom\u001b[0m \u001b[0mbds_courseware\u001b[0m \u001b[1;32mimport\u001b[0m \u001b[0mget_msft_store_dataset\u001b[0m\u001b[1;33m\u001b[0m\u001b[1;33m\u001b[0m\u001b[0m\n\u001b[0m\u001b[0;32m      2\u001b[0m \u001b[1;32mimport\u001b[0m \u001b[0mpandas\u001b[0m \u001b[1;32mas\u001b[0m \u001b[0mpd\u001b[0m\u001b[1;33m\u001b[0m\u001b[1;33m\u001b[0m\u001b[0m\n\u001b[0;32m      3\u001b[0m \u001b[1;33m\u001b[0m\u001b[0m\n\u001b[0;32m      4\u001b[0m \u001b[0mdf\u001b[0m \u001b[1;33m=\u001b[0m \u001b[0mget_msft_store_dataset\u001b[0m\u001b[1;33m(\u001b[0m\u001b[1;33m)\u001b[0m\u001b[1;33m\u001b[0m\u001b[1;33m\u001b[0m\u001b[0m\n\u001b[0;32m      5\u001b[0m \u001b[0mdf\u001b[0m\u001b[1;33m.\u001b[0m\u001b[0mhead\u001b[0m\u001b[1;33m(\u001b[0m\u001b[1;33m)\u001b[0m\u001b[1;33m\u001b[0m\u001b[1;33m\u001b[0m\u001b[0m\n",
      "\u001b[1;31mImportError\u001b[0m: cannot import name 'get_msft_store_dataset' from 'bds_courseware' (C:\\Users\\agama\\anaconda3\\envs\\course\\lib\\site-packages\\bds_courseware\\__init__.py)"
     ]
    }
   ],
   "source": [
    "from bds_courseware import get_msft_store_dataset\n",
    "import pandas as pd\n",
    "\n",
    "df = get_msft_store_dataset()\n",
    "df.head()"
   ]
  },
  {
   "cell_type": "markdown",
   "metadata": {
    "id": "WpUNNvWijX7l"
   },
   "source": [
    "Frequently, data is stored as a plain text in a comma separated format. It is plain, human-readable format.\n",
    "\n",
    "Pandas parser support many options to read such files. When reading csv file with known structure it is best to parse every column on reading step (e.g. timestamps). See documentation of `pandas.read_csv` for all options."
   ]
  },
  {
   "cell_type": "code",
   "execution_count": null,
   "metadata": {
    "ExecuteTime": {
     "end_time": "2020-07-27T08:30:19.280890Z",
     "start_time": "2020-07-27T08:30:18.516216Z"
    },
    "id": "5ypKltJDjX7m"
   },
   "outputs": [],
   "source": [
    "df.to_csv('data.csv', index=False)"
   ]
  },
  {
   "cell_type": "code",
   "execution_count": null,
   "metadata": {
    "ExecuteTime": {
     "end_time": "2020-07-27T08:30:19.665235Z",
     "start_time": "2020-07-27T08:30:19.596187Z"
    },
    "id": "p1F1HDC-jX7n"
   },
   "outputs": [],
   "source": [
    "pd.read_csv('data.csv')"
   ]
  },
  {
   "cell_type": "markdown",
   "metadata": {
    "ExecuteTime": {
     "end_time": "2020-07-27T09:22:57.516223Z",
     "start_time": "2020-07-27T09:22:57.500615Z"
    },
    "id": "hyeSK6KGjX7p"
   },
   "source": [
    "You can reffer to a columns by name like a dictionary or an attribute. The returned object is a **pandas.Series**. You can treat it like a data vector."
   ]
  },
  {
   "cell_type": "code",
   "execution_count": null,
   "metadata": {
    "ExecuteTime": {
     "end_time": "2020-07-27T09:23:38.106187Z",
     "start_time": "2020-07-27T09:23:38.074935Z"
    },
    "id": "2I_61xB9jX7r"
   },
   "outputs": [],
   "source": [
    "df[\"Name\"]\n",
    "# or\n",
    "df.Name"
   ]
  },
  {
   "cell_type": "markdown",
   "metadata": {
    "ExecuteTime": {
     "end_time": "2020-07-27T09:24:21.551967Z",
     "start_time": "2020-07-27T09:24:21.536305Z"
    },
    "id": "O1JsZ9A8jX7s"
   },
   "source": [
    "You can see that some name are truncated. When working with text data it is useful to remove truncation with the next command"
   ]
  },
  {
   "cell_type": "code",
   "execution_count": null,
   "metadata": {
    "ExecuteTime": {
     "end_time": "2020-07-27T08:32:05.561833Z",
     "start_time": "2020-07-27T08:32:05.524172Z"
    },
    "id": "QAL8Qei-jX7t"
   },
   "outputs": [],
   "source": [
    "pd.options.display.max_colwidth = None"
   ]
  },
  {
   "cell_type": "markdown",
   "metadata": {
    "ExecuteTime": {
     "end_time": "2020-07-27T09:25:37.050182Z",
     "start_time": "2020-07-27T09:25:37.034590Z"
    },
    "id": "NE9Q14jfjX7t"
   },
   "source": [
    "**Series** support common math and boolean opperations."
   ]
  },
  {
   "cell_type": "code",
   "execution_count": null,
   "metadata": {
    "ExecuteTime": {
     "end_time": "2020-07-27T08:38:05.740507Z",
     "start_time": "2020-07-27T08:38:05.702740Z"
    },
    "id": "v5qOFIe6jX7t"
   },
   "outputs": [],
   "source": [
    "df[\"Rating\"] < 2"
   ]
  },
  {
   "cell_type": "code",
   "execution_count": null,
   "metadata": {
    "ExecuteTime": {
     "end_time": "2020-07-27T08:37:26.856526Z",
     "start_time": "2020-07-27T08:37:26.825243Z"
    },
    "id": "eGPlG-aOjX7v"
   },
   "outputs": [],
   "source": [
    "df[\"Rating\"] * 10"
   ]
  },
  {
   "cell_type": "markdown",
   "metadata": {
    "ExecuteTime": {
     "end_time": "2020-07-27T09:26:31.355734Z",
     "start_time": "2020-07-27T09:26:31.340072Z"
    },
    "id": "qlTGTQsgjX7w"
   },
   "source": [
    "Another useful function is `value_counts()`. Use it to calculate frequencies of each unique values in a **Series**."
   ]
  },
  {
   "cell_type": "code",
   "execution_count": null,
   "metadata": {
    "ExecuteTime": {
     "end_time": "2020-07-27T08:34:46.288898Z",
     "start_time": "2020-07-27T08:34:46.273267Z"
    },
    "id": "hzcrwz9AjX7w"
   },
   "outputs": [],
   "source": [
    "df[\"Rating\"].value_counts()"
   ]
  },
  {
   "cell_type": "code",
   "execution_count": null,
   "metadata": {
    "id": "rKRsR_6kjX7x"
   },
   "outputs": [],
   "source": [
    "# Calculate percentage of each rating number instead of absolute value\n",
    "###\n",
    "### YOUR CODE HERE\n",
    "###"
   ]
  },
  {
   "cell_type": "markdown",
   "metadata": {
    "ExecuteTime": {
     "end_time": "2020-07-27T09:27:29.679737Z",
     "start_time": "2020-07-27T09:27:29.641910Z"
    },
    "id": "sBvq1r6EjX7x"
   },
   "source": [
    "You can create new or update existing column using simple assignment. Another way is to use `.assign()` function. Assign is very useful it pair with long chained expressions."
   ]
  },
  {
   "cell_type": "code",
   "execution_count": null,
   "metadata": {
    "ExecuteTime": {
     "end_time": "2020-07-27T09:29:12.082122Z",
     "start_time": "2020-07-27T09:29:12.051024Z"
    },
    "id": "A3RsRDXRjX70"
   },
   "outputs": [],
   "source": [
    "df['rating_power']  = df[\"Rating\"] * df[\"No of people Rated\"]\n",
    "# or\n",
    "df  = df.assign(rating_power=lambda this_df: this_df[\"Rating\"] * this_df[\"No of people Rated\"])\n",
    "df.head()"
   ]
  },
  {
   "cell_type": "markdown",
   "metadata": {
    "ExecuteTime": {
     "end_time": "2020-07-27T09:30:28.789412Z",
     "start_time": "2020-07-27T09:30:28.758142Z"
    },
    "id": "TBKnzB-LjX71"
   },
   "source": [
    "There are common chart implemented in Pandas. You can access them using `.plot.`. You can use it with a Dataframe or a Series."
   ]
  },
  {
   "cell_type": "code",
   "execution_count": null,
   "metadata": {
    "ExecuteTime": {
     "end_time": "2020-07-27T08:47:12.184527Z",
     "start_time": "2020-07-27T08:47:11.856979Z"
    },
    "id": "Xbr5lYz0jX71"
   },
   "outputs": [],
   "source": [
    "df.rating_power.plot.hist(bins=50)"
   ]
  },
  {
   "cell_type": "markdown",
   "metadata": {
    "ExecuteTime": {
     "end_time": "2020-07-27T09:31:00.951272Z",
     "start_time": "2020-07-27T09:31:00.935643Z"
    },
    "id": "A2B9FziKjX71"
   },
   "source": [
    "If you need to know what unique labels are in the column, you can use `.unique()`"
   ]
  },
  {
   "cell_type": "code",
   "execution_count": null,
   "metadata": {
    "ExecuteTime": {
     "end_time": "2020-07-27T08:48:45.459900Z",
     "start_time": "2020-07-27T08:48:45.444255Z"
    },
    "id": "d5Ql37a8jX71"
   },
   "outputs": [],
   "source": [
    "df['Category'].unique()"
   ]
  },
  {
   "cell_type": "markdown",
   "metadata": {
    "ExecuteTime": {
     "end_time": "2020-07-27T09:54:06.320116Z",
     "start_time": "2020-07-27T09:54:06.304491Z"
    },
    "id": "PfIRJRCfjX72"
   },
   "source": [
    "One of the most frequent operations in Pandas is filtering. You can do it using boolean indexing or `.query()` function."
   ]
  },
  {
   "cell_type": "code",
   "execution_count": null,
   "metadata": {
    "ExecuteTime": {
     "end_time": "2020-07-27T08:48:53.267726Z",
     "start_time": "2020-07-27T08:48:53.220852Z"
    },
    "id": "NaJ11DK4jX73"
   },
   "outputs": [],
   "source": [
    "df.loc[df['Category'] == 'Music']"
   ]
  },
  {
   "cell_type": "code",
   "execution_count": null,
   "metadata": {
    "ExecuteTime": {
     "end_time": "2020-07-27T08:51:12.285244Z",
     "start_time": "2020-07-27T08:51:12.247458Z"
    },
    "id": "ve6WJNrZjX8C"
   },
   "outputs": [],
   "source": [
    "df.loc[df['Category'] == 'Music'].sort_values('rating_power', ascending=False)"
   ]
  },
  {
   "cell_type": "code",
   "execution_count": null,
   "metadata": {
    "ExecuteTime": {
     "end_time": "2020-07-27T08:51:36.055830Z",
     "start_time": "2020-07-27T08:51:35.986797Z"
    },
    "id": "NKcPt_YwjX8H"
   },
   "outputs": [],
   "source": [
    "df.query('Category == \"Music\"')"
   ]
  },
  {
   "cell_type": "code",
   "execution_count": null,
   "metadata": {
    "ExecuteTime": {
     "end_time": "2020-07-27T09:18:27.827020Z",
     "start_time": "2020-07-27T09:18:27.795906Z"
    },
    "id": "46yLhHgKjX8I"
   },
   "outputs": [],
   "source": [
    "# Find Lifestyle apps with best rating\n",
    "###\n",
    "### Your code here\n",
    "###"
   ]
  },
  {
   "cell_type": "code",
   "execution_count": null,
   "metadata": {
    "ExecuteTime": {
     "end_time": "2020-07-27T09:18:29.769617Z",
     "start_time": "2020-07-27T09:18:29.753972Z"
    },
    "id": "QgMJUuMbjX8K"
   },
   "outputs": [],
   "source": [
    "# Find all apps from `Health and Fitness` category with more than 600 people rated\n",
    "###\n",
    "### Your code here\n",
    "###"
   ]
  },
  {
   "cell_type": "markdown",
   "metadata": {
    "ExecuteTime": {
     "end_time": "2020-07-27T09:55:12.057641Z",
     "start_time": "2020-07-27T09:55:12.019901Z"
    },
    "id": "tFXI0kmJjX8K"
   },
   "source": [
    "Another common use case is applying cusom function via `.apply()`. You can apply any function to dataframe row- or column-wise."
   ]
  },
  {
   "cell_type": "code",
   "execution_count": null,
   "metadata": {
    "ExecuteTime": {
     "end_time": "2020-07-27T08:52:26.159448Z",
     "start_time": "2020-07-27T08:52:25.996752Z"
    },
    "id": "bfsaKytUjX8K"
   },
   "outputs": [],
   "source": [
    "df.apply(lambda this_df: this_df.Price != 'Free', axis=1)"
   ]
  },
  {
   "cell_type": "code",
   "execution_count": null,
   "metadata": {
    "ExecuteTime": {
     "end_time": "2020-07-27T09:18:37.755306Z",
     "start_time": "2020-07-27T09:18:37.724047Z"
    },
    "id": "gtjTQUywjX8L"
   },
   "outputs": [],
   "source": [
    "def price_to_num(p):\n",
    "    \"\"\"\n",
    "    Function to convert price columns to float values.\n",
    "    In case of free app set price to zero.\n",
    "    Leave NaNs as is.\n",
    "    \"\"\"\n",
    "    ###\n",
    "    ### Your code here\n",
    "    ###\n",
    "\n",
    "df.Price.apply(price_to_num)"
   ]
  },
  {
   "cell_type": "markdown",
   "metadata": {
    "ExecuteTime": {
     "end_time": "2020-07-27T09:56:04.421117Z",
     "start_time": "2020-07-27T09:56:04.405491Z"
    },
    "id": "olRV541-jX8M"
   },
   "source": [
    "That's it for now. Pandas has user guide with best practices for all functionality. Find it [here](https://pandas.pydata.org/docs/user_guide/index.html). Pandas is one of the vitals for data scientist, spending more time to learn it is highly recommended."
   ]
  }
 ],
 "metadata": {
  "colab": {
   "name": "be-workshop.ipynb",
   "provenance": []
  },
  "kernelspec": {
   "display_name": "Python 3",
   "language": "python",
   "name": "python3"
  },
  "language_info": {
   "codemirror_mode": {
    "name": "ipython",
    "version": 3
   },
   "file_extension": ".py",
   "mimetype": "text/x-python",
   "name": "python",
   "nbconvert_exporter": "python",
   "pygments_lexer": "ipython3",
   "version": "3.8.5"
  },
  "toc": {
   "base_numbering": 1,
   "nav_menu": {},
   "number_sections": true,
   "sideBar": true,
   "skip_h1_title": false,
   "title_cell": "Table of Contents",
   "title_sidebar": "Contents",
   "toc_cell": false,
   "toc_position": {},
   "toc_section_display": true,
   "toc_window_display": false
  },
  "varInspector": {
   "cols": {
    "lenName": 16,
    "lenType": 16,
    "lenVar": 40
   },
   "kernels_config": {
    "python": {
     "delete_cmd_postfix": "",
     "delete_cmd_prefix": "del ",
     "library": "var_list.py",
     "varRefreshCmd": "print(var_dic_list())"
    },
    "r": {
     "delete_cmd_postfix": ") ",
     "delete_cmd_prefix": "rm(",
     "library": "var_list.r",
     "varRefreshCmd": "cat(var_dic_list()) "
    }
   },
   "types_to_exclude": [
    "module",
    "function",
    "builtin_function_or_method",
    "instance",
    "_Feature"
   ],
   "window_display": false
  }
 },
 "nbformat": 4,
 "nbformat_minor": 1
}
