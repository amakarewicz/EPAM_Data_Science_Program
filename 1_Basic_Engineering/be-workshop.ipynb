{
 "cells": [
  {
   "cell_type": "markdown",
   "metadata": {},
   "source": [
    "# ML Engineering Basics\n",
    "\n",
    "## Introduction\n",
    "\n",
    "In this notebook you will go through the process of environment setup and try packages mentioned in the theory part of the module.\n",
    "\n",
    "> We assume that you created fresh environment and installed notebook package on top of it or use Google Colab."
   ]
  },
  {
   "cell_type": "markdown",
   "metadata": {},
   "source": [
    "## Conda environment\n",
    "\n",
    "At this point you already have a working environment since you've opened this notebook. The only packaged installed is **notebook** which is a part of jupyter ecosystem. Let's proceed with installation of other packages."
   ]
  },
  {
   "cell_type": "markdown",
   "metadata": {},
   "source": [
    "## Using shell commands from the notebook\n",
    "\n",
    "First let's install numpy via pip. We can do it as easy as:\n",
    "\n",
    "```bash\n",
    "pip install numpy\n",
    "```\n",
    "\n",
    "To run this and any other shell commands use ! symbol before the command itself."
   ]
  },
  {
   "cell_type": "code",
   "execution_count": 1,
   "metadata": {
    "tags": []
   },
   "outputs": [],
   "source": [
    "# !pip install numpy"
   ]
  },
  {
   "cell_type": "markdown",
   "metadata": {},
   "source": [
    "To install pandas we are going to use conda instead. Look at command below:\n",
    "- You must use `-y` parameter when running `conda install` inside the notebook. Conda will prompt you to agree to installation. If you provide `-y` parameter, this will be omitted.\n",
    "- We also use `-c conda-forge` to install from specific conda channel. The channel is just a place where conda packages are stored. Many packages are not available in the official channels, however they are most likely available in the conda-forge. Note, that pandas is available in official channel, but we use conda-forge just to get in touch.\n",
    "- The numbers after the package name is the version of the package which is going to be installed. Here we have pandas version 1.0.5."
   ]
  },
  {
   "cell_type": "code",
   "execution_count": 2,
   "metadata": {
    "tags": []
   },
   "outputs": [],
   "source": [
    "# !conda install -y -c conda-forge pandas==1.0.5"
   ]
  },
  {
   "cell_type": "markdown",
   "metadata": {
    "ExecuteTime": {
     "end_time": "2020-07-19T05:25:08.253624Z",
     "start_time": "2020-07-19T05:25:08.247626Z"
    }
   },
   "source": [
    "## Numpy, vectorization\n",
    "\n",
    "Numpy is a rich and powerful library. The ideas behind it are optimized operations with matrices (or tensors when there are more than 2 dimentions). It is written in C, thus providing much better peformance than pure Python. Same (or similar) interface is used in the most popular deep learning libraries like TensorFlow and PyTorch.\n",
    "\n",
    "The core principle of Numpy is vectorization. Instead of calculating matrix operations in for cycle one number by one, Numpy parallelize this operations obtaining much better performance.\n",
    "\n",
    "Let's see it for ourselves. First we create a 200x200 matrix with integers ranging from 0 to 100. Then measure the time of matrix multiplication in two cases:\n",
    "- Matrix as list of list in pure Python\n",
    "- Matrix as optimized numpy array."
   ]
  },
  {
   "cell_type": "code",
   "execution_count": 3,
   "metadata": {
    "ExecuteTime": {
     "end_time": "2020-07-19T05:56:41.944945Z",
     "start_time": "2020-07-19T05:56:41.938944Z"
    }
   },
   "outputs": [],
   "source": [
    "import numpy as np\n",
    "\n",
    "mtx = np.random.randint(0, 100, size=(200, 200))"
   ]
  },
  {
   "cell_type": "code",
   "execution_count": 4,
   "metadata": {
    "ExecuteTime": {
     "end_time": "2020-07-19T05:56:43.976458Z",
     "start_time": "2020-07-19T05:56:43.964456Z"
    }
   },
   "outputs": [
    {
     "name": "stdout",
     "output_type": "stream",
     "text": [
      "Shape: (200, 200)\n"
     ]
    },
    {
     "data": {
      "text/plain": [
       "array([[39, 86, 81, ..., 33, 96, 11],\n",
       "       [45, 79, 45, ..., 42, 69, 70],\n",
       "       [ 5, 16, 59, ..., 44, 32, 55],\n",
       "       ...,\n",
       "       [40, 86, 34, ...,  9, 89, 33],\n",
       "       [52, 63,  8, ..., 14, 22,  7],\n",
       "       [67, 77, 92, ..., 10, 26,  9]])"
      ]
     },
     "execution_count": 4,
     "metadata": {},
     "output_type": "execute_result"
    }
   ],
   "source": [
    "print(f'Shape: {mtx.shape}')\n",
    "mtx"
   ]
  },
  {
   "cell_type": "code",
   "execution_count": 5,
   "metadata": {
    "ExecuteTime": {
     "end_time": "2020-07-19T05:56:45.986462Z",
     "start_time": "2020-07-19T05:56:45.969458Z"
    }
   },
   "outputs": [],
   "source": [
    "mtx_as_list = mtx.tolist()"
   ]
  },
  {
   "cell_type": "code",
   "execution_count": 6,
   "metadata": {
    "ExecuteTime": {
     "end_time": "2020-07-19T06:12:37.250909Z",
     "start_time": "2020-07-19T06:12:32.077911Z"
    }
   },
   "outputs": [
    {
     "name": "stdout",
     "output_type": "stream",
     "text": [
      "Wall time: 3.1 s\n"
     ]
    }
   ],
   "source": [
    "%%time\n",
    "result = np.zeros_like(mtx).tolist()\n",
    "for i in range(len(mtx_as_list)):\n",
    "    for j in range(len(mtx_as_list)):\n",
    "        for k in range(len(mtx_as_list)):\n",
    "             result[i][j] += mtx_as_list[i][k] * mtx_as_list[k][j]"
   ]
  },
  {
   "cell_type": "code",
   "execution_count": 7,
   "metadata": {
    "ExecuteTime": {
     "end_time": "2020-07-19T06:12:26.904909Z",
     "start_time": "2020-07-19T06:12:26.878915Z"
    }
   },
   "outputs": [
    {
     "name": "stdout",
     "output_type": "stream",
     "text": [
      "Wall time: 13 ms\n"
     ]
    }
   ],
   "source": [
    "%%time\n",
    "# @ - matrix multiplication operation in Numpy\n",
    "numpy_result = mtx @ mtx"
   ]
  },
  {
   "cell_type": "markdown",
   "metadata": {
    "ExecuteTime": {
     "end_time": "2020-07-19T05:56:35.968454Z",
     "start_time": "2020-07-19T05:53:23.166Z"
    }
   },
   "source": [
    "As you can see matrix operation in Numpy are very optimized. Many other libraries, like Pandas, build their operations on top of Numpy."
   ]
  },
  {
   "cell_type": "markdown",
   "metadata": {
    "ExecuteTime": {
     "end_time": "2020-07-19T05:56:35.999456Z",
     "start_time": "2020-07-19T05:56:03.173Z"
    }
   },
   "source": [
    "## Pandas\n",
    "\n",
    "Now let's look at Pandas. It's like a swiss army knife for data wrangling and analysis. We'll go through indexing, column creation, data saving and loading, and custom functions. There is much more inside the library, but this you  should learn for yourself."
   ]
  },
  {
   "cell_type": "code",
   "execution_count": 8,
   "metadata": {},
   "outputs": [],
   "source": [
    "#!pip install bds_courseware"
   ]
  },
  {
   "cell_type": "code",
   "execution_count": 9,
   "metadata": {
    "ExecuteTime": {
     "end_time": "2020-07-28T11:39:23.459132Z",
     "start_time": "2020-07-28T11:39:21.504539Z"
    }
   },
   "outputs": [
    {
     "data": {
      "text/html": [
       "<div>\n",
       "<style scoped>\n",
       "    .dataframe tbody tr th:only-of-type {\n",
       "        vertical-align: middle;\n",
       "    }\n",
       "\n",
       "    .dataframe tbody tr th {\n",
       "        vertical-align: top;\n",
       "    }\n",
       "\n",
       "    .dataframe thead th {\n",
       "        text-align: right;\n",
       "    }\n",
       "</style>\n",
       "<table border=\"1\" class=\"dataframe\">\n",
       "  <thead>\n",
       "    <tr style=\"text-align: right;\">\n",
       "      <th></th>\n",
       "      <th>Name</th>\n",
       "      <th>Rating</th>\n",
       "      <th>No of people Rated</th>\n",
       "      <th>Category</th>\n",
       "      <th>Date</th>\n",
       "      <th>Price</th>\n",
       "    </tr>\n",
       "  </thead>\n",
       "  <tbody>\n",
       "    <tr>\n",
       "      <th>0</th>\n",
       "      <td>Dynamic Reader</td>\n",
       "      <td>3.5</td>\n",
       "      <td>268</td>\n",
       "      <td>Books</td>\n",
       "      <td>07-01-2014</td>\n",
       "      <td>Free</td>\n",
       "    </tr>\n",
       "    <tr>\n",
       "      <th>1</th>\n",
       "      <td>Chemistry, Organic Chemistry and Biochemistry-...</td>\n",
       "      <td>3.0</td>\n",
       "      <td>627</td>\n",
       "      <td>Books</td>\n",
       "      <td>08-01-2014</td>\n",
       "      <td>Free</td>\n",
       "    </tr>\n",
       "    <tr>\n",
       "      <th>2</th>\n",
       "      <td>BookViewer</td>\n",
       "      <td>3.5</td>\n",
       "      <td>593</td>\n",
       "      <td>Books</td>\n",
       "      <td>29-02-2016</td>\n",
       "      <td>Free</td>\n",
       "    </tr>\n",
       "    <tr>\n",
       "      <th>3</th>\n",
       "      <td>Brick Instructions</td>\n",
       "      <td>3.5</td>\n",
       "      <td>684</td>\n",
       "      <td>Books</td>\n",
       "      <td>30-01-2018</td>\n",
       "      <td>Free</td>\n",
       "    </tr>\n",
       "    <tr>\n",
       "      <th>4</th>\n",
       "      <td>Introduction to Python Programming by GoLearni...</td>\n",
       "      <td>2.0</td>\n",
       "      <td>634</td>\n",
       "      <td>Books</td>\n",
       "      <td>30-01-2018</td>\n",
       "      <td>Free</td>\n",
       "    </tr>\n",
       "    <tr>\n",
       "      <th>...</th>\n",
       "      <td>...</td>\n",
       "      <td>...</td>\n",
       "      <td>...</td>\n",
       "      <td>...</td>\n",
       "      <td>...</td>\n",
       "      <td>...</td>\n",
       "    </tr>\n",
       "    <tr>\n",
       "      <th>5317</th>\n",
       "      <td>JS King</td>\n",
       "      <td>1.0</td>\n",
       "      <td>720</td>\n",
       "      <td>Developer Tools</td>\n",
       "      <td>19-07-2018</td>\n",
       "      <td>₹ 269.00</td>\n",
       "    </tr>\n",
       "    <tr>\n",
       "      <th>5318</th>\n",
       "      <td>MQTTSniffer</td>\n",
       "      <td>2.5</td>\n",
       "      <td>500</td>\n",
       "      <td>Developer Tools</td>\n",
       "      <td>10-04-2017</td>\n",
       "      <td>₹ 64.00</td>\n",
       "    </tr>\n",
       "    <tr>\n",
       "      <th>5319</th>\n",
       "      <td>Dev Utils - JSON, CSV and XML</td>\n",
       "      <td>4.0</td>\n",
       "      <td>862</td>\n",
       "      <td>Developer Tools</td>\n",
       "      <td>18-11-2019</td>\n",
       "      <td>₹ 269.00</td>\n",
       "    </tr>\n",
       "    <tr>\n",
       "      <th>5320</th>\n",
       "      <td>Simply Text</td>\n",
       "      <td>4.0</td>\n",
       "      <td>386</td>\n",
       "      <td>Developer Tools</td>\n",
       "      <td>23-01-2014</td>\n",
       "      <td>₹ 219.00</td>\n",
       "    </tr>\n",
       "    <tr>\n",
       "      <th>5321</th>\n",
       "      <td>NaN</td>\n",
       "      <td>NaN</td>\n",
       "      <td>948</td>\n",
       "      <td>NaN</td>\n",
       "      <td>NaN</td>\n",
       "      <td>NaN</td>\n",
       "    </tr>\n",
       "  </tbody>\n",
       "</table>\n",
       "<p>5322 rows × 6 columns</p>\n",
       "</div>"
      ],
      "text/plain": [
       "                                                   Name  Rating  \\\n",
       "0                                        Dynamic Reader     3.5   \n",
       "1     Chemistry, Organic Chemistry and Biochemistry-...     3.0   \n",
       "2                                            BookViewer     3.5   \n",
       "3                                    Brick Instructions     3.5   \n",
       "4     Introduction to Python Programming by GoLearni...     2.0   \n",
       "...                                                 ...     ...   \n",
       "5317                                            JS King     1.0   \n",
       "5318                                        MQTTSniffer     2.5   \n",
       "5319                      Dev Utils - JSON, CSV and XML     4.0   \n",
       "5320                                        Simply Text     4.0   \n",
       "5321                                                NaN     NaN   \n",
       "\n",
       "      No of people Rated         Category        Date     Price  \n",
       "0                    268            Books  07-01-2014      Free  \n",
       "1                    627            Books  08-01-2014      Free  \n",
       "2                    593            Books  29-02-2016      Free  \n",
       "3                    684            Books  30-01-2018      Free  \n",
       "4                    634            Books  30-01-2018      Free  \n",
       "...                  ...              ...         ...       ...  \n",
       "5317                 720  Developer Tools  19-07-2018  ₹ 269.00  \n",
       "5318                 500  Developer Tools  10-04-2017   ₹ 64.00  \n",
       "5319                 862  Developer Tools  18-11-2019  ₹ 269.00  \n",
       "5320                 386  Developer Tools  23-01-2014  ₹ 219.00  \n",
       "5321                 948              NaN         NaN       NaN  \n",
       "\n",
       "[5322 rows x 6 columns]"
      ]
     },
     "execution_count": 9,
     "metadata": {},
     "output_type": "execute_result"
    }
   ],
   "source": [
    "import pandas as pd\n",
    "\n",
    "from bds_courseware import read_drive_dataset\n",
    "from bds_courseware import WORKSHOP_DATASETS, HOMEWORK_DATASETS\n",
    "\n",
    "name = \"msft_store\"\n",
    "read_drive_dataset(*WORKSHOP_DATASETS[name])"
   ]
  },
  {
   "cell_type": "markdown",
   "metadata": {},
   "source": [
    "Frequently data is stored as a plain text in a comma separated format. It is plain, human-readable format.\n",
    "\n",
    "Pandas parser support many options to read such files. When reading csv file with known structure it is best to parse every column on reading step (e.g. timestamps). See documentation of `pandas.read_csv` for all options."
   ]
  },
  {
   "cell_type": "code",
   "execution_count": 10,
   "metadata": {},
   "outputs": [],
   "source": [
    "df = read_drive_dataset(*WORKSHOP_DATASETS[name])"
   ]
  },
  {
   "cell_type": "code",
   "execution_count": 11,
   "metadata": {},
   "outputs": [
    {
     "data": {
      "text/html": [
       "<div>\n",
       "<style scoped>\n",
       "    .dataframe tbody tr th:only-of-type {\n",
       "        vertical-align: middle;\n",
       "    }\n",
       "\n",
       "    .dataframe tbody tr th {\n",
       "        vertical-align: top;\n",
       "    }\n",
       "\n",
       "    .dataframe thead th {\n",
       "        text-align: right;\n",
       "    }\n",
       "</style>\n",
       "<table border=\"1\" class=\"dataframe\">\n",
       "  <thead>\n",
       "    <tr style=\"text-align: right;\">\n",
       "      <th></th>\n",
       "      <th>Name</th>\n",
       "      <th>Rating</th>\n",
       "      <th>No of people Rated</th>\n",
       "      <th>Category</th>\n",
       "      <th>Date</th>\n",
       "      <th>Price</th>\n",
       "    </tr>\n",
       "  </thead>\n",
       "  <tbody>\n",
       "    <tr>\n",
       "      <th>0</th>\n",
       "      <td>Dynamic Reader</td>\n",
       "      <td>3.5</td>\n",
       "      <td>268</td>\n",
       "      <td>Books</td>\n",
       "      <td>07-01-2014</td>\n",
       "      <td>Free</td>\n",
       "    </tr>\n",
       "    <tr>\n",
       "      <th>1</th>\n",
       "      <td>Chemistry, Organic Chemistry and Biochemistry-...</td>\n",
       "      <td>3.0</td>\n",
       "      <td>627</td>\n",
       "      <td>Books</td>\n",
       "      <td>08-01-2014</td>\n",
       "      <td>Free</td>\n",
       "    </tr>\n",
       "    <tr>\n",
       "      <th>2</th>\n",
       "      <td>BookViewer</td>\n",
       "      <td>3.5</td>\n",
       "      <td>593</td>\n",
       "      <td>Books</td>\n",
       "      <td>29-02-2016</td>\n",
       "      <td>Free</td>\n",
       "    </tr>\n",
       "    <tr>\n",
       "      <th>3</th>\n",
       "      <td>Brick Instructions</td>\n",
       "      <td>3.5</td>\n",
       "      <td>684</td>\n",
       "      <td>Books</td>\n",
       "      <td>30-01-2018</td>\n",
       "      <td>Free</td>\n",
       "    </tr>\n",
       "    <tr>\n",
       "      <th>4</th>\n",
       "      <td>Introduction to Python Programming by GoLearni...</td>\n",
       "      <td>2.0</td>\n",
       "      <td>634</td>\n",
       "      <td>Books</td>\n",
       "      <td>30-01-2018</td>\n",
       "      <td>Free</td>\n",
       "    </tr>\n",
       "    <tr>\n",
       "      <th>5</th>\n",
       "      <td>Gurbani Reader</td>\n",
       "      <td>4.5</td>\n",
       "      <td>399</td>\n",
       "      <td>Books</td>\n",
       "      <td>18-01-2017</td>\n",
       "      <td>Free</td>\n",
       "    </tr>\n",
       "    <tr>\n",
       "      <th>6</th>\n",
       "      <td>NFO Viewer</td>\n",
       "      <td>4.5</td>\n",
       "      <td>566</td>\n",
       "      <td>Books</td>\n",
       "      <td>13-11-2012</td>\n",
       "      <td>Free</td>\n",
       "    </tr>\n",
       "    <tr>\n",
       "      <th>7</th>\n",
       "      <td>Text to Speech TTS</td>\n",
       "      <td>3.0</td>\n",
       "      <td>175</td>\n",
       "      <td>Books</td>\n",
       "      <td>17-10-2013</td>\n",
       "      <td>Free</td>\n",
       "    </tr>\n",
       "    <tr>\n",
       "      <th>8</th>\n",
       "      <td>ACK Comics</td>\n",
       "      <td>4.0</td>\n",
       "      <td>460</td>\n",
       "      <td>Books</td>\n",
       "      <td>20-12-2012</td>\n",
       "      <td>Free</td>\n",
       "    </tr>\n",
       "    <tr>\n",
       "      <th>9</th>\n",
       "      <td>Learn Biology and Human Body Anatomy by GoLear...</td>\n",
       "      <td>3.5</td>\n",
       "      <td>363</td>\n",
       "      <td>Books</td>\n",
       "      <td>25-11-2013</td>\n",
       "      <td>Free</td>\n",
       "    </tr>\n",
       "  </tbody>\n",
       "</table>\n",
       "</div>"
      ],
      "text/plain": [
       "                                                Name  Rating  \\\n",
       "0                                     Dynamic Reader     3.5   \n",
       "1  Chemistry, Organic Chemistry and Biochemistry-...     3.0   \n",
       "2                                         BookViewer     3.5   \n",
       "3                                 Brick Instructions     3.5   \n",
       "4  Introduction to Python Programming by GoLearni...     2.0   \n",
       "5                                     Gurbani Reader     4.5   \n",
       "6                                         NFO Viewer     4.5   \n",
       "7                                 Text to Speech TTS     3.0   \n",
       "8                                         ACK Comics     4.0   \n",
       "9  Learn Biology and Human Body Anatomy by GoLear...     3.5   \n",
       "\n",
       "   No of people Rated Category        Date Price  \n",
       "0                 268    Books  07-01-2014  Free  \n",
       "1                 627    Books  08-01-2014  Free  \n",
       "2                 593    Books  29-02-2016  Free  \n",
       "3                 684    Books  30-01-2018  Free  \n",
       "4                 634    Books  30-01-2018  Free  \n",
       "5                 399    Books  18-01-2017  Free  \n",
       "6                 566    Books  13-11-2012  Free  \n",
       "7                 175    Books  17-10-2013  Free  \n",
       "8                 460    Books  20-12-2012  Free  \n",
       "9                 363    Books  25-11-2013  Free  "
      ]
     },
     "execution_count": 11,
     "metadata": {},
     "output_type": "execute_result"
    }
   ],
   "source": [
    "df.head(10)"
   ]
  },
  {
   "cell_type": "code",
   "execution_count": 12,
   "metadata": {
    "ExecuteTime": {
     "end_time": "2020-07-27T08:30:19.280890Z",
     "start_time": "2020-07-27T08:30:18.516216Z"
    }
   },
   "outputs": [],
   "source": [
    "df.to_csv('data.csv', index=False)"
   ]
  },
  {
   "cell_type": "code",
   "execution_count": 13,
   "metadata": {
    "ExecuteTime": {
     "end_time": "2020-07-27T08:30:19.665235Z",
     "start_time": "2020-07-27T08:30:19.596187Z"
    }
   },
   "outputs": [
    {
     "data": {
      "text/html": [
       "<div>\n",
       "<style scoped>\n",
       "    .dataframe tbody tr th:only-of-type {\n",
       "        vertical-align: middle;\n",
       "    }\n",
       "\n",
       "    .dataframe tbody tr th {\n",
       "        vertical-align: top;\n",
       "    }\n",
       "\n",
       "    .dataframe thead th {\n",
       "        text-align: right;\n",
       "    }\n",
       "</style>\n",
       "<table border=\"1\" class=\"dataframe\">\n",
       "  <thead>\n",
       "    <tr style=\"text-align: right;\">\n",
       "      <th></th>\n",
       "      <th>Name</th>\n",
       "      <th>Rating</th>\n",
       "      <th>No of people Rated</th>\n",
       "      <th>Category</th>\n",
       "      <th>Date</th>\n",
       "      <th>Price</th>\n",
       "    </tr>\n",
       "  </thead>\n",
       "  <tbody>\n",
       "    <tr>\n",
       "      <th>0</th>\n",
       "      <td>Dynamic Reader</td>\n",
       "      <td>3.5</td>\n",
       "      <td>268</td>\n",
       "      <td>Books</td>\n",
       "      <td>07-01-2014</td>\n",
       "      <td>Free</td>\n",
       "    </tr>\n",
       "    <tr>\n",
       "      <th>1</th>\n",
       "      <td>Chemistry, Organic Chemistry and Biochemistry-...</td>\n",
       "      <td>3.0</td>\n",
       "      <td>627</td>\n",
       "      <td>Books</td>\n",
       "      <td>08-01-2014</td>\n",
       "      <td>Free</td>\n",
       "    </tr>\n",
       "    <tr>\n",
       "      <th>2</th>\n",
       "      <td>BookViewer</td>\n",
       "      <td>3.5</td>\n",
       "      <td>593</td>\n",
       "      <td>Books</td>\n",
       "      <td>29-02-2016</td>\n",
       "      <td>Free</td>\n",
       "    </tr>\n",
       "    <tr>\n",
       "      <th>3</th>\n",
       "      <td>Brick Instructions</td>\n",
       "      <td>3.5</td>\n",
       "      <td>684</td>\n",
       "      <td>Books</td>\n",
       "      <td>30-01-2018</td>\n",
       "      <td>Free</td>\n",
       "    </tr>\n",
       "    <tr>\n",
       "      <th>4</th>\n",
       "      <td>Introduction to Python Programming by GoLearni...</td>\n",
       "      <td>2.0</td>\n",
       "      <td>634</td>\n",
       "      <td>Books</td>\n",
       "      <td>30-01-2018</td>\n",
       "      <td>Free</td>\n",
       "    </tr>\n",
       "    <tr>\n",
       "      <th>...</th>\n",
       "      <td>...</td>\n",
       "      <td>...</td>\n",
       "      <td>...</td>\n",
       "      <td>...</td>\n",
       "      <td>...</td>\n",
       "      <td>...</td>\n",
       "    </tr>\n",
       "    <tr>\n",
       "      <th>5317</th>\n",
       "      <td>JS King</td>\n",
       "      <td>1.0</td>\n",
       "      <td>720</td>\n",
       "      <td>Developer Tools</td>\n",
       "      <td>19-07-2018</td>\n",
       "      <td>₹ 269.00</td>\n",
       "    </tr>\n",
       "    <tr>\n",
       "      <th>5318</th>\n",
       "      <td>MQTTSniffer</td>\n",
       "      <td>2.5</td>\n",
       "      <td>500</td>\n",
       "      <td>Developer Tools</td>\n",
       "      <td>10-04-2017</td>\n",
       "      <td>₹ 64.00</td>\n",
       "    </tr>\n",
       "    <tr>\n",
       "      <th>5319</th>\n",
       "      <td>Dev Utils - JSON, CSV and XML</td>\n",
       "      <td>4.0</td>\n",
       "      <td>862</td>\n",
       "      <td>Developer Tools</td>\n",
       "      <td>18-11-2019</td>\n",
       "      <td>₹ 269.00</td>\n",
       "    </tr>\n",
       "    <tr>\n",
       "      <th>5320</th>\n",
       "      <td>Simply Text</td>\n",
       "      <td>4.0</td>\n",
       "      <td>386</td>\n",
       "      <td>Developer Tools</td>\n",
       "      <td>23-01-2014</td>\n",
       "      <td>₹ 219.00</td>\n",
       "    </tr>\n",
       "    <tr>\n",
       "      <th>5321</th>\n",
       "      <td>NaN</td>\n",
       "      <td>NaN</td>\n",
       "      <td>948</td>\n",
       "      <td>NaN</td>\n",
       "      <td>NaN</td>\n",
       "      <td>NaN</td>\n",
       "    </tr>\n",
       "  </tbody>\n",
       "</table>\n",
       "<p>5322 rows × 6 columns</p>\n",
       "</div>"
      ],
      "text/plain": [
       "                                                   Name  Rating  \\\n",
       "0                                        Dynamic Reader     3.5   \n",
       "1     Chemistry, Organic Chemistry and Biochemistry-...     3.0   \n",
       "2                                            BookViewer     3.5   \n",
       "3                                    Brick Instructions     3.5   \n",
       "4     Introduction to Python Programming by GoLearni...     2.0   \n",
       "...                                                 ...     ...   \n",
       "5317                                            JS King     1.0   \n",
       "5318                                        MQTTSniffer     2.5   \n",
       "5319                      Dev Utils - JSON, CSV and XML     4.0   \n",
       "5320                                        Simply Text     4.0   \n",
       "5321                                                NaN     NaN   \n",
       "\n",
       "      No of people Rated         Category        Date     Price  \n",
       "0                    268            Books  07-01-2014      Free  \n",
       "1                    627            Books  08-01-2014      Free  \n",
       "2                    593            Books  29-02-2016      Free  \n",
       "3                    684            Books  30-01-2018      Free  \n",
       "4                    634            Books  30-01-2018      Free  \n",
       "...                  ...              ...         ...       ...  \n",
       "5317                 720  Developer Tools  19-07-2018  ₹ 269.00  \n",
       "5318                 500  Developer Tools  10-04-2017   ₹ 64.00  \n",
       "5319                 862  Developer Tools  18-11-2019  ₹ 269.00  \n",
       "5320                 386  Developer Tools  23-01-2014  ₹ 219.00  \n",
       "5321                 948              NaN         NaN       NaN  \n",
       "\n",
       "[5322 rows x 6 columns]"
      ]
     },
     "execution_count": 13,
     "metadata": {},
     "output_type": "execute_result"
    }
   ],
   "source": [
    "pd.read_csv('data.csv')"
   ]
  },
  {
   "cell_type": "markdown",
   "metadata": {
    "ExecuteTime": {
     "end_time": "2020-07-27T09:22:57.516223Z",
     "start_time": "2020-07-27T09:22:57.500615Z"
    }
   },
   "source": [
    "You can reffer to a columns by name like a dictionary or an attribute. The returned object is a **pandas.Series**. You can treat it like a data vector."
   ]
  },
  {
   "cell_type": "code",
   "execution_count": 14,
   "metadata": {
    "ExecuteTime": {
     "end_time": "2020-07-27T09:23:38.106187Z",
     "start_time": "2020-07-27T09:23:38.074935Z"
    }
   },
   "outputs": [
    {
     "data": {
      "text/plain": [
       "0                                          Dynamic Reader\n",
       "1       Chemistry, Organic Chemistry and Biochemistry-...\n",
       "2                                              BookViewer\n",
       "3                                      Brick Instructions\n",
       "4       Introduction to Python Programming by GoLearni...\n",
       "                              ...                        \n",
       "5317                                              JS King\n",
       "5318                                          MQTTSniffer\n",
       "5319                        Dev Utils - JSON, CSV and XML\n",
       "5320                                          Simply Text\n",
       "5321                                                  NaN\n",
       "Name: Name, Length: 5322, dtype: object"
      ]
     },
     "execution_count": 14,
     "metadata": {},
     "output_type": "execute_result"
    }
   ],
   "source": [
    "df[\"Name\"]\n",
    "# or\n",
    "df.Name"
   ]
  },
  {
   "cell_type": "markdown",
   "metadata": {
    "ExecuteTime": {
     "end_time": "2020-07-27T09:24:21.551967Z",
     "start_time": "2020-07-27T09:24:21.536305Z"
    }
   },
   "source": [
    "You can see that some names are truncated. When working with text data it is useful to remove truncation with the next line of code"
   ]
  },
  {
   "cell_type": "code",
   "execution_count": 15,
   "metadata": {
    "ExecuteTime": {
     "end_time": "2020-07-27T08:32:05.561833Z",
     "start_time": "2020-07-27T08:32:05.524172Z"
    }
   },
   "outputs": [],
   "source": [
    "pd.options.display.max_colwidth = None"
   ]
  },
  {
   "cell_type": "markdown",
   "metadata": {
    "ExecuteTime": {
     "end_time": "2020-07-27T09:25:37.050182Z",
     "start_time": "2020-07-27T09:25:37.034590Z"
    }
   },
   "source": [
    "**Series** support common math and bool opperations."
   ]
  },
  {
   "cell_type": "code",
   "execution_count": 16,
   "metadata": {
    "ExecuteTime": {
     "end_time": "2020-07-27T08:38:05.740507Z",
     "start_time": "2020-07-27T08:38:05.702740Z"
    }
   },
   "outputs": [
    {
     "data": {
      "text/plain": [
       "0       False\n",
       "1       False\n",
       "2       False\n",
       "3       False\n",
       "4       False\n",
       "        ...  \n",
       "5317     True\n",
       "5318    False\n",
       "5319    False\n",
       "5320    False\n",
       "5321    False\n",
       "Name: Rating, Length: 5322, dtype: bool"
      ]
     },
     "execution_count": 16,
     "metadata": {},
     "output_type": "execute_result"
    }
   ],
   "source": [
    "df[\"Rating\"] < 2"
   ]
  },
  {
   "cell_type": "code",
   "execution_count": 17,
   "metadata": {
    "ExecuteTime": {
     "end_time": "2020-07-27T08:37:26.856526Z",
     "start_time": "2020-07-27T08:37:26.825243Z"
    }
   },
   "outputs": [
    {
     "data": {
      "text/plain": [
       "0       35.0\n",
       "1       30.0\n",
       "2       35.0\n",
       "3       35.0\n",
       "4       20.0\n",
       "        ... \n",
       "5317    10.0\n",
       "5318    25.0\n",
       "5319    40.0\n",
       "5320    40.0\n",
       "5321     NaN\n",
       "Name: Rating, Length: 5322, dtype: float64"
      ]
     },
     "execution_count": 17,
     "metadata": {},
     "output_type": "execute_result"
    }
   ],
   "source": [
    "df[\"Rating\"] * 10"
   ]
  },
  {
   "cell_type": "markdown",
   "metadata": {
    "ExecuteTime": {
     "end_time": "2020-07-27T09:26:31.355734Z",
     "start_time": "2020-07-27T09:26:31.340072Z"
    }
   },
   "source": [
    "Another useful function is `value_counts()`. Use it to calculate frequencies of each unique values in a **Series**."
   ]
  },
  {
   "cell_type": "code",
   "execution_count": 18,
   "metadata": {
    "ExecuteTime": {
     "end_time": "2020-07-27T08:34:46.288898Z",
     "start_time": "2020-07-27T08:34:46.273267Z"
    }
   },
   "outputs": [
    {
     "data": {
      "text/plain": [
       "4.0    1299\n",
       "5.0     968\n",
       "4.5     900\n",
       "3.5     844\n",
       "3.0     615\n",
       "2.5     276\n",
       "1.0     201\n",
       "2.0     156\n",
       "1.5      62\n",
       "Name: Rating, dtype: int64"
      ]
     },
     "execution_count": 18,
     "metadata": {},
     "output_type": "execute_result"
    }
   ],
   "source": [
    "df[\"Rating\"].value_counts()"
   ]
  },
  {
   "cell_type": "code",
   "execution_count": 19,
   "metadata": {},
   "outputs": [
    {
     "data": {
      "text/plain": [
       "4.0    0.244127\n",
       "5.0    0.181921\n",
       "4.5    0.169141\n",
       "3.5    0.158617\n",
       "3.0    0.115580\n",
       "2.5    0.051870\n",
       "1.0    0.037775\n",
       "2.0    0.029318\n",
       "1.5    0.011652\n",
       "Name: Rating, dtype: float64"
      ]
     },
     "execution_count": 19,
     "metadata": {},
     "output_type": "execute_result"
    }
   ],
   "source": [
    "# Calculate percentage of each rating number instead of absolute value\n",
    "df[\"Rating\"].value_counts(normalize=True)\n",
    "# df[\"Rating\"].value_counts(True)"
   ]
  },
  {
   "cell_type": "markdown",
   "metadata": {
    "ExecuteTime": {
     "end_time": "2020-07-27T09:27:29.679737Z",
     "start_time": "2020-07-27T09:27:29.641910Z"
    }
   },
   "source": [
    "You can create new or update existing column using simple assignment. Another way is to use `.assign()` function. Assign is very useful it pair with long chained expressions."
   ]
  },
  {
   "cell_type": "code",
   "execution_count": 20,
   "metadata": {
    "ExecuteTime": {
     "end_time": "2020-07-27T09:29:12.082122Z",
     "start_time": "2020-07-27T09:29:12.051024Z"
    }
   },
   "outputs": [
    {
     "data": {
      "text/html": [
       "<div>\n",
       "<style scoped>\n",
       "    .dataframe tbody tr th:only-of-type {\n",
       "        vertical-align: middle;\n",
       "    }\n",
       "\n",
       "    .dataframe tbody tr th {\n",
       "        vertical-align: top;\n",
       "    }\n",
       "\n",
       "    .dataframe thead th {\n",
       "        text-align: right;\n",
       "    }\n",
       "</style>\n",
       "<table border=\"1\" class=\"dataframe\">\n",
       "  <thead>\n",
       "    <tr style=\"text-align: right;\">\n",
       "      <th></th>\n",
       "      <th>Name</th>\n",
       "      <th>Rating</th>\n",
       "      <th>No of people Rated</th>\n",
       "      <th>Category</th>\n",
       "      <th>Date</th>\n",
       "      <th>Price</th>\n",
       "      <th>rating_power</th>\n",
       "    </tr>\n",
       "  </thead>\n",
       "  <tbody>\n",
       "    <tr>\n",
       "      <th>0</th>\n",
       "      <td>Dynamic Reader</td>\n",
       "      <td>3.5</td>\n",
       "      <td>268</td>\n",
       "      <td>Books</td>\n",
       "      <td>07-01-2014</td>\n",
       "      <td>Free</td>\n",
       "      <td>938.0</td>\n",
       "    </tr>\n",
       "    <tr>\n",
       "      <th>1</th>\n",
       "      <td>Chemistry, Organic Chemistry and Biochemistry-simpleNeasyApp by WAGmob</td>\n",
       "      <td>3.0</td>\n",
       "      <td>627</td>\n",
       "      <td>Books</td>\n",
       "      <td>08-01-2014</td>\n",
       "      <td>Free</td>\n",
       "      <td>1881.0</td>\n",
       "    </tr>\n",
       "    <tr>\n",
       "      <th>2</th>\n",
       "      <td>BookViewer</td>\n",
       "      <td>3.5</td>\n",
       "      <td>593</td>\n",
       "      <td>Books</td>\n",
       "      <td>29-02-2016</td>\n",
       "      <td>Free</td>\n",
       "      <td>2075.5</td>\n",
       "    </tr>\n",
       "    <tr>\n",
       "      <th>3</th>\n",
       "      <td>Brick Instructions</td>\n",
       "      <td>3.5</td>\n",
       "      <td>684</td>\n",
       "      <td>Books</td>\n",
       "      <td>30-01-2018</td>\n",
       "      <td>Free</td>\n",
       "      <td>2394.0</td>\n",
       "    </tr>\n",
       "    <tr>\n",
       "      <th>4</th>\n",
       "      <td>Introduction to Python Programming by GoLearningBus</td>\n",
       "      <td>2.0</td>\n",
       "      <td>634</td>\n",
       "      <td>Books</td>\n",
       "      <td>30-01-2018</td>\n",
       "      <td>Free</td>\n",
       "      <td>1268.0</td>\n",
       "    </tr>\n",
       "  </tbody>\n",
       "</table>\n",
       "</div>"
      ],
      "text/plain": [
       "                                                                     Name  \\\n",
       "0                                                          Dynamic Reader   \n",
       "1  Chemistry, Organic Chemistry and Biochemistry-simpleNeasyApp by WAGmob   \n",
       "2                                                              BookViewer   \n",
       "3                                                      Brick Instructions   \n",
       "4                     Introduction to Python Programming by GoLearningBus   \n",
       "\n",
       "   Rating  No of people Rated Category        Date Price  rating_power  \n",
       "0     3.5                 268    Books  07-01-2014  Free         938.0  \n",
       "1     3.0                 627    Books  08-01-2014  Free        1881.0  \n",
       "2     3.5                 593    Books  29-02-2016  Free        2075.5  \n",
       "3     3.5                 684    Books  30-01-2018  Free        2394.0  \n",
       "4     2.0                 634    Books  30-01-2018  Free        1268.0  "
      ]
     },
     "execution_count": 20,
     "metadata": {},
     "output_type": "execute_result"
    }
   ],
   "source": [
    "df['rating_power']  = df[\"Rating\"] * df[\"No of people Rated\"]\n",
    "# or\n",
    "df  = df.assign(rating_power=lambda this_df: this_df[\"Rating\"] * this_df[\"No of people Rated\"])\n",
    "df.head()"
   ]
  },
  {
   "cell_type": "markdown",
   "metadata": {
    "ExecuteTime": {
     "end_time": "2020-07-27T09:30:28.789412Z",
     "start_time": "2020-07-27T09:30:28.758142Z"
    }
   },
   "source": [
    "There are common chart implemented in Pandas. You can access them using `.plot.`. You can use it with a Dataframe or a Series. To draw we need to install matlplotlib library first."
   ]
  },
  {
   "cell_type": "code",
   "execution_count": 21,
   "metadata": {},
   "outputs": [],
   "source": [
    "# !pip install matplotlib"
   ]
  },
  {
   "cell_type": "code",
   "execution_count": 22,
   "metadata": {
    "ExecuteTime": {
     "end_time": "2020-07-27T08:47:12.184527Z",
     "start_time": "2020-07-27T08:47:11.856979Z"
    }
   },
   "outputs": [
    {
     "data": {
      "text/plain": [
       "<AxesSubplot:ylabel='Frequency'>"
      ]
     },
     "execution_count": 22,
     "metadata": {},
     "output_type": "execute_result"
    },
    {
     "data": {
      "image/png": "[encoded data removed]",
      "text/plain": [
       "<Figure size 432x288 with 1 Axes>"
      ]
     },
     "metadata": {
      "needs_background": "light"
     },
     "output_type": "display_data"
    }
   ],
   "source": [
    "df.rating_power.plot.hist(bins=50)"
   ]
  },
  {
   "cell_type": "markdown",
   "metadata": {
    "ExecuteTime": {
     "end_time": "2020-07-27T09:31:00.951272Z",
     "start_time": "2020-07-27T09:31:00.935643Z"
    }
   },
   "source": [
    "If you need to know what unique labels are in the column, you can use `.unique()`"
   ]
  },
  {
   "cell_type": "code",
   "execution_count": 23,
   "metadata": {
    "ExecuteTime": {
     "end_time": "2020-07-27T08:48:45.459900Z",
     "start_time": "2020-07-27T08:48:45.444255Z"
    }
   },
   "outputs": [
    {
     "data": {
      "text/plain": [
       "array(['Books', 'Business', 'Developer Tools', 'Social',\n",
       "       'Food and Dining', 'Government and Politics', 'Health and Fitness',\n",
       "       'Kids and Family', 'Lifestyle', 'Multimedia Design', 'Music',\n",
       "       'Navigation and Maps', 'News and Weather', nan], dtype=object)"
      ]
     },
     "execution_count": 23,
     "metadata": {},
     "output_type": "execute_result"
    }
   ],
   "source": [
    "df['Category'].unique()"
   ]
  },
  {
   "cell_type": "markdown",
   "metadata": {
    "ExecuteTime": {
     "end_time": "2020-07-27T09:54:06.320116Z",
     "start_time": "2020-07-27T09:54:06.304491Z"
    }
   },
   "source": [
    "One of the most frequent operations in Pandas is filtering. You can do it using boolean indexing or `.query()` function."
   ]
  },
  {
   "cell_type": "code",
   "execution_count": 24,
   "metadata": {
    "ExecuteTime": {
     "end_time": "2020-07-27T08:48:53.267726Z",
     "start_time": "2020-07-27T08:48:53.220852Z"
    }
   },
   "outputs": [
    {
     "data": {
      "text/html": [
       "<div>\n",
       "<style scoped>\n",
       "    .dataframe tbody tr th:only-of-type {\n",
       "        vertical-align: middle;\n",
       "    }\n",
       "\n",
       "    .dataframe tbody tr th {\n",
       "        vertical-align: top;\n",
       "    }\n",
       "\n",
       "    .dataframe thead th {\n",
       "        text-align: right;\n",
       "    }\n",
       "</style>\n",
       "<table border=\"1\" class=\"dataframe\">\n",
       "  <thead>\n",
       "    <tr style=\"text-align: right;\">\n",
       "      <th></th>\n",
       "      <th>Name</th>\n",
       "      <th>Rating</th>\n",
       "      <th>No of people Rated</th>\n",
       "      <th>Category</th>\n",
       "      <th>Date</th>\n",
       "      <th>Price</th>\n",
       "      <th>rating_power</th>\n",
       "    </tr>\n",
       "  </thead>\n",
       "  <tbody>\n",
       "    <tr>\n",
       "      <th>3773</th>\n",
       "      <td>Spotify Music</td>\n",
       "      <td>4.0</td>\n",
       "      <td>895</td>\n",
       "      <td>Music</td>\n",
       "      <td>26-05-2017</td>\n",
       "      <td>Free</td>\n",
       "      <td>3580.0</td>\n",
       "    </tr>\n",
       "    <tr>\n",
       "      <th>3774</th>\n",
       "      <td>iTunes</td>\n",
       "      <td>3.0</td>\n",
       "      <td>735</td>\n",
       "      <td>Music</td>\n",
       "      <td>26-04-2018</td>\n",
       "      <td>Free</td>\n",
       "      <td>2205.0</td>\n",
       "    </tr>\n",
       "    <tr>\n",
       "      <th>3775</th>\n",
       "      <td>Gaana</td>\n",
       "      <td>3.5</td>\n",
       "      <td>732</td>\n",
       "      <td>Music</td>\n",
       "      <td>24-05-2012</td>\n",
       "      <td>Free</td>\n",
       "      <td>2562.0</td>\n",
       "    </tr>\n",
       "    <tr>\n",
       "      <th>3776</th>\n",
       "      <td>Amazon Music</td>\n",
       "      <td>3.5</td>\n",
       "      <td>533</td>\n",
       "      <td>Music</td>\n",
       "      <td>13-02-2018</td>\n",
       "      <td>Free</td>\n",
       "      <td>1865.5</td>\n",
       "    </tr>\n",
       "    <tr>\n",
       "      <th>3777</th>\n",
       "      <td>JioSaavn Music &amp; Radio</td>\n",
       "      <td>4.0</td>\n",
       "      <td>219</td>\n",
       "      <td>Music</td>\n",
       "      <td>27-08-2015</td>\n",
       "      <td>Free</td>\n",
       "      <td>876.0</td>\n",
       "    </tr>\n",
       "    <tr>\n",
       "      <th>...</th>\n",
       "      <td>...</td>\n",
       "      <td>...</td>\n",
       "      <td>...</td>\n",
       "      <td>...</td>\n",
       "      <td>...</td>\n",
       "      <td>...</td>\n",
       "      <td>...</td>\n",
       "    </tr>\n",
       "    <tr>\n",
       "      <th>4521</th>\n",
       "      <td>cnblue lyrics</td>\n",
       "      <td>5.0</td>\n",
       "      <td>668</td>\n",
       "      <td>Music</td>\n",
       "      <td>24-04-2017</td>\n",
       "      <td>Free</td>\n",
       "      <td>3340.0</td>\n",
       "    </tr>\n",
       "    <tr>\n",
       "      <th>4522</th>\n",
       "      <td>Radio Sudan – Radio Sudan FM &amp; AM: Listen Live Sudanese Radio Stations Online + Music and Talk Stations</td>\n",
       "      <td>2.0</td>\n",
       "      <td>667</td>\n",
       "      <td>Music</td>\n",
       "      <td>06-11-2019</td>\n",
       "      <td>Free</td>\n",
       "      <td>1334.0</td>\n",
       "    </tr>\n",
       "    <tr>\n",
       "      <th>4523</th>\n",
       "      <td>BitSynth</td>\n",
       "      <td>4.5</td>\n",
       "      <td>938</td>\n",
       "      <td>Music</td>\n",
       "      <td>13-02-2012</td>\n",
       "      <td>Free</td>\n",
       "      <td>4221.0</td>\n",
       "    </tr>\n",
       "    <tr>\n",
       "      <th>4524</th>\n",
       "      <td>StreamToApp Universal</td>\n",
       "      <td>2.0</td>\n",
       "      <td>296</td>\n",
       "      <td>Music</td>\n",
       "      <td>20-07-2015</td>\n",
       "      <td>Free</td>\n",
       "      <td>592.0</td>\n",
       "    </tr>\n",
       "    <tr>\n",
       "      <th>4525</th>\n",
       "      <td>Universal Music Radio (Preview)</td>\n",
       "      <td>4.0</td>\n",
       "      <td>873</td>\n",
       "      <td>Music</td>\n",
       "      <td>01-07-2016</td>\n",
       "      <td>Free</td>\n",
       "      <td>3492.0</td>\n",
       "    </tr>\n",
       "  </tbody>\n",
       "</table>\n",
       "<p>753 rows × 7 columns</p>\n",
       "</div>"
      ],
      "text/plain": [
       "                                                                                                         Name  \\\n",
       "3773                                                                                            Spotify Music   \n",
       "3774                                                                                                   iTunes   \n",
       "3775                                                                                                    Gaana   \n",
       "3776                                                                                             Amazon Music   \n",
       "3777                                                                                   JioSaavn Music & Radio   \n",
       "...                                                                                                       ...   \n",
       "4521                                                                                            cnblue lyrics   \n",
       "4522  Radio Sudan – Radio Sudan FM & AM: Listen Live Sudanese Radio Stations Online + Music and Talk Stations   \n",
       "4523                                                                                                 BitSynth   \n",
       "4524                                                                                    StreamToApp Universal   \n",
       "4525                                                                          Universal Music Radio (Preview)   \n",
       "\n",
       "      Rating  No of people Rated Category        Date Price  rating_power  \n",
       "3773     4.0                 895    Music  26-05-2017  Free        3580.0  \n",
       "3774     3.0                 735    Music  26-04-2018  Free        2205.0  \n",
       "3775     3.5                 732    Music  24-05-2012  Free        2562.0  \n",
       "3776     3.5                 533    Music  13-02-2018  Free        1865.5  \n",
       "3777     4.0                 219    Music  27-08-2015  Free         876.0  \n",
       "...      ...                 ...      ...         ...   ...           ...  \n",
       "4521     5.0                 668    Music  24-04-2017  Free        3340.0  \n",
       "4522     2.0                 667    Music  06-11-2019  Free        1334.0  \n",
       "4523     4.5                 938    Music  13-02-2012  Free        4221.0  \n",
       "4524     2.0                 296    Music  20-07-2015  Free         592.0  \n",
       "4525     4.0                 873    Music  01-07-2016  Free        3492.0  \n",
       "\n",
       "[753 rows x 7 columns]"
      ]
     },
     "execution_count": 24,
     "metadata": {},
     "output_type": "execute_result"
    }
   ],
   "source": [
    "df.loc[df['Category'] == 'Music']"
   ]
  },
  {
   "cell_type": "code",
   "execution_count": 25,
   "metadata": {
    "ExecuteTime": {
     "end_time": "2020-07-27T08:51:12.285244Z",
     "start_time": "2020-07-27T08:51:12.247458Z"
    }
   },
   "outputs": [
    {
     "data": {
      "text/html": [
       "<div>\n",
       "<style scoped>\n",
       "    .dataframe tbody tr th:only-of-type {\n",
       "        vertical-align: middle;\n",
       "    }\n",
       "\n",
       "    .dataframe tbody tr th {\n",
       "        vertical-align: top;\n",
       "    }\n",
       "\n",
       "    .dataframe thead th {\n",
       "        text-align: right;\n",
       "    }\n",
       "</style>\n",
       "<table border=\"1\" class=\"dataframe\">\n",
       "  <thead>\n",
       "    <tr style=\"text-align: right;\">\n",
       "      <th></th>\n",
       "      <th>Name</th>\n",
       "      <th>Rating</th>\n",
       "      <th>No of people Rated</th>\n",
       "      <th>Category</th>\n",
       "      <th>Date</th>\n",
       "      <th>Price</th>\n",
       "      <th>rating_power</th>\n",
       "    </tr>\n",
       "  </thead>\n",
       "  <tbody>\n",
       "    <tr>\n",
       "      <th>3851</th>\n",
       "      <td>MP3 Volume Booster</td>\n",
       "      <td>5.0</td>\n",
       "      <td>982</td>\n",
       "      <td>Music</td>\n",
       "      <td>25-02-2020</td>\n",
       "      <td>Free</td>\n",
       "      <td>4910.0</td>\n",
       "    </tr>\n",
       "    <tr>\n",
       "      <th>4054</th>\n",
       "      <td>Free Piano - MS Store Port</td>\n",
       "      <td>5.0</td>\n",
       "      <td>964</td>\n",
       "      <td>Music</td>\n",
       "      <td>09-10-2019</td>\n",
       "      <td>Free</td>\n",
       "      <td>4820.0</td>\n",
       "    </tr>\n",
       "    <tr>\n",
       "      <th>3866</th>\n",
       "      <td>fre:ac - free audio converter</td>\n",
       "      <td>5.0</td>\n",
       "      <td>953</td>\n",
       "      <td>Music</td>\n",
       "      <td>14-04-2020</td>\n",
       "      <td>Free</td>\n",
       "      <td>4765.0</td>\n",
       "    </tr>\n",
       "    <tr>\n",
       "      <th>4434</th>\n",
       "      <td>Radio Cuba – Radio Cuba FM &amp; AM: Listen Live Cuban Radio Stations Online + Music and Talk Stations</td>\n",
       "      <td>5.0</td>\n",
       "      <td>952</td>\n",
       "      <td>Music</td>\n",
       "      <td>05-11-2019</td>\n",
       "      <td>Free</td>\n",
       "      <td>4760.0</td>\n",
       "    </tr>\n",
       "    <tr>\n",
       "      <th>4205</th>\n",
       "      <td>Animal Ringtones</td>\n",
       "      <td>5.0</td>\n",
       "      <td>943</td>\n",
       "      <td>Music</td>\n",
       "      <td>18-07-2017</td>\n",
       "      <td>Free</td>\n",
       "      <td>4715.0</td>\n",
       "    </tr>\n",
       "    <tr>\n",
       "      <th>...</th>\n",
       "      <td>...</td>\n",
       "      <td>...</td>\n",
       "      <td>...</td>\n",
       "      <td>...</td>\n",
       "      <td>...</td>\n",
       "      <td>...</td>\n",
       "      <td>...</td>\n",
       "    </tr>\n",
       "    <tr>\n",
       "      <th>4415</th>\n",
       "      <td>Japanese Radio Channel</td>\n",
       "      <td>1.5</td>\n",
       "      <td>177</td>\n",
       "      <td>Music</td>\n",
       "      <td>24-08-2016</td>\n",
       "      <td>Free</td>\n",
       "      <td>265.5</td>\n",
       "    </tr>\n",
       "    <tr>\n",
       "      <th>4003</th>\n",
       "      <td>Binaural Magic Music Streaming</td>\n",
       "      <td>1.5</td>\n",
       "      <td>132</td>\n",
       "      <td>Music</td>\n",
       "      <td>11-07-2018</td>\n",
       "      <td>Free</td>\n",
       "      <td>198.0</td>\n",
       "    </tr>\n",
       "    <tr>\n",
       "      <th>4444</th>\n",
       "      <td>Rennie Foster - Heart Shaped Shadow</td>\n",
       "      <td>1.0</td>\n",
       "      <td>176</td>\n",
       "      <td>Music</td>\n",
       "      <td>15-08-2013</td>\n",
       "      <td>Free</td>\n",
       "      <td>176.0</td>\n",
       "    </tr>\n",
       "    <tr>\n",
       "      <th>4074</th>\n",
       "      <td>Transpose FREE</td>\n",
       "      <td>1.0</td>\n",
       "      <td>163</td>\n",
       "      <td>Music</td>\n",
       "      <td>01-02-2017</td>\n",
       "      <td>Free</td>\n",
       "      <td>163.0</td>\n",
       "    </tr>\n",
       "    <tr>\n",
       "      <th>4463</th>\n",
       "      <td>New Age Player</td>\n",
       "      <td>1.0</td>\n",
       "      <td>129</td>\n",
       "      <td>Music</td>\n",
       "      <td>27-12-2013</td>\n",
       "      <td>Free</td>\n",
       "      <td>129.0</td>\n",
       "    </tr>\n",
       "  </tbody>\n",
       "</table>\n",
       "<p>753 rows × 7 columns</p>\n",
       "</div>"
      ],
      "text/plain": [
       "                                                                                                    Name  \\\n",
       "3851                                                                                  MP3 Volume Booster   \n",
       "4054                                                                          Free Piano - MS Store Port   \n",
       "3866                                                                       fre:ac - free audio converter   \n",
       "4434  Radio Cuba – Radio Cuba FM & AM: Listen Live Cuban Radio Stations Online + Music and Talk Stations   \n",
       "4205                                                                                    Animal Ringtones   \n",
       "...                                                                                                  ...   \n",
       "4415                                                                              Japanese Radio Channel   \n",
       "4003                                                                      Binaural Magic Music Streaming   \n",
       "4444                                                                 Rennie Foster - Heart Shaped Shadow   \n",
       "4074                                                                                      Transpose FREE   \n",
       "4463                                                                                      New Age Player   \n",
       "\n",
       "      Rating  No of people Rated Category        Date Price  rating_power  \n",
       "3851     5.0                 982    Music  25-02-2020  Free        4910.0  \n",
       "4054     5.0                 964    Music  09-10-2019  Free        4820.0  \n",
       "3866     5.0                 953    Music  14-04-2020  Free        4765.0  \n",
       "4434     5.0                 952    Music  05-11-2019  Free        4760.0  \n",
       "4205     5.0                 943    Music  18-07-2017  Free        4715.0  \n",
       "...      ...                 ...      ...         ...   ...           ...  \n",
       "4415     1.5                 177    Music  24-08-2016  Free         265.5  \n",
       "4003     1.5                 132    Music  11-07-2018  Free         198.0  \n",
       "4444     1.0                 176    Music  15-08-2013  Free         176.0  \n",
       "4074     1.0                 163    Music  01-02-2017  Free         163.0  \n",
       "4463     1.0                 129    Music  27-12-2013  Free         129.0  \n",
       "\n",
       "[753 rows x 7 columns]"
      ]
     },
     "execution_count": 25,
     "metadata": {},
     "output_type": "execute_result"
    }
   ],
   "source": [
    "df.loc[df['Category'] == 'Music'].sort_values('rating_power', ascending=False)"
   ]
  },
  {
   "cell_type": "code",
   "execution_count": 26,
   "metadata": {
    "ExecuteTime": {
     "end_time": "2020-07-27T08:51:36.055830Z",
     "start_time": "2020-07-27T08:51:35.986797Z"
    }
   },
   "outputs": [
    {
     "data": {
      "text/html": [
       "<div>\n",
       "<style scoped>\n",
       "    .dataframe tbody tr th:only-of-type {\n",
       "        vertical-align: middle;\n",
       "    }\n",
       "\n",
       "    .dataframe tbody tr th {\n",
       "        vertical-align: top;\n",
       "    }\n",
       "\n",
       "    .dataframe thead th {\n",
       "        text-align: right;\n",
       "    }\n",
       "</style>\n",
       "<table border=\"1\" class=\"dataframe\">\n",
       "  <thead>\n",
       "    <tr style=\"text-align: right;\">\n",
       "      <th></th>\n",
       "      <th>Name</th>\n",
       "      <th>Rating</th>\n",
       "      <th>No of people Rated</th>\n",
       "      <th>Category</th>\n",
       "      <th>Date</th>\n",
       "      <th>Price</th>\n",
       "      <th>rating_power</th>\n",
       "    </tr>\n",
       "  </thead>\n",
       "  <tbody>\n",
       "    <tr>\n",
       "      <th>3773</th>\n",
       "      <td>Spotify Music</td>\n",
       "      <td>4.0</td>\n",
       "      <td>895</td>\n",
       "      <td>Music</td>\n",
       "      <td>26-05-2017</td>\n",
       "      <td>Free</td>\n",
       "      <td>3580.0</td>\n",
       "    </tr>\n",
       "    <tr>\n",
       "      <th>3774</th>\n",
       "      <td>iTunes</td>\n",
       "      <td>3.0</td>\n",
       "      <td>735</td>\n",
       "      <td>Music</td>\n",
       "      <td>26-04-2018</td>\n",
       "      <td>Free</td>\n",
       "      <td>2205.0</td>\n",
       "    </tr>\n",
       "    <tr>\n",
       "      <th>3775</th>\n",
       "      <td>Gaana</td>\n",
       "      <td>3.5</td>\n",
       "      <td>732</td>\n",
       "      <td>Music</td>\n",
       "      <td>24-05-2012</td>\n",
       "      <td>Free</td>\n",
       "      <td>2562.0</td>\n",
       "    </tr>\n",
       "    <tr>\n",
       "      <th>3776</th>\n",
       "      <td>Amazon Music</td>\n",
       "      <td>3.5</td>\n",
       "      <td>533</td>\n",
       "      <td>Music</td>\n",
       "      <td>13-02-2018</td>\n",
       "      <td>Free</td>\n",
       "      <td>1865.5</td>\n",
       "    </tr>\n",
       "    <tr>\n",
       "      <th>3777</th>\n",
       "      <td>JioSaavn Music &amp; Radio</td>\n",
       "      <td>4.0</td>\n",
       "      <td>219</td>\n",
       "      <td>Music</td>\n",
       "      <td>27-08-2015</td>\n",
       "      <td>Free</td>\n",
       "      <td>876.0</td>\n",
       "    </tr>\n",
       "    <tr>\n",
       "      <th>...</th>\n",
       "      <td>...</td>\n",
       "      <td>...</td>\n",
       "      <td>...</td>\n",
       "      <td>...</td>\n",
       "      <td>...</td>\n",
       "      <td>...</td>\n",
       "      <td>...</td>\n",
       "    </tr>\n",
       "    <tr>\n",
       "      <th>4521</th>\n",
       "      <td>cnblue lyrics</td>\n",
       "      <td>5.0</td>\n",
       "      <td>668</td>\n",
       "      <td>Music</td>\n",
       "      <td>24-04-2017</td>\n",
       "      <td>Free</td>\n",
       "      <td>3340.0</td>\n",
       "    </tr>\n",
       "    <tr>\n",
       "      <th>4522</th>\n",
       "      <td>Radio Sudan – Radio Sudan FM &amp; AM: Listen Live Sudanese Radio Stations Online + Music and Talk Stations</td>\n",
       "      <td>2.0</td>\n",
       "      <td>667</td>\n",
       "      <td>Music</td>\n",
       "      <td>06-11-2019</td>\n",
       "      <td>Free</td>\n",
       "      <td>1334.0</td>\n",
       "    </tr>\n",
       "    <tr>\n",
       "      <th>4523</th>\n",
       "      <td>BitSynth</td>\n",
       "      <td>4.5</td>\n",
       "      <td>938</td>\n",
       "      <td>Music</td>\n",
       "      <td>13-02-2012</td>\n",
       "      <td>Free</td>\n",
       "      <td>4221.0</td>\n",
       "    </tr>\n",
       "    <tr>\n",
       "      <th>4524</th>\n",
       "      <td>StreamToApp Universal</td>\n",
       "      <td>2.0</td>\n",
       "      <td>296</td>\n",
       "      <td>Music</td>\n",
       "      <td>20-07-2015</td>\n",
       "      <td>Free</td>\n",
       "      <td>592.0</td>\n",
       "    </tr>\n",
       "    <tr>\n",
       "      <th>4525</th>\n",
       "      <td>Universal Music Radio (Preview)</td>\n",
       "      <td>4.0</td>\n",
       "      <td>873</td>\n",
       "      <td>Music</td>\n",
       "      <td>01-07-2016</td>\n",
       "      <td>Free</td>\n",
       "      <td>3492.0</td>\n",
       "    </tr>\n",
       "  </tbody>\n",
       "</table>\n",
       "<p>753 rows × 7 columns</p>\n",
       "</div>"
      ],
      "text/plain": [
       "                                                                                                         Name  \\\n",
       "3773                                                                                            Spotify Music   \n",
       "3774                                                                                                   iTunes   \n",
       "3775                                                                                                    Gaana   \n",
       "3776                                                                                             Amazon Music   \n",
       "3777                                                                                   JioSaavn Music & Radio   \n",
       "...                                                                                                       ...   \n",
       "4521                                                                                            cnblue lyrics   \n",
       "4522  Radio Sudan – Radio Sudan FM & AM: Listen Live Sudanese Radio Stations Online + Music and Talk Stations   \n",
       "4523                                                                                                 BitSynth   \n",
       "4524                                                                                    StreamToApp Universal   \n",
       "4525                                                                          Universal Music Radio (Preview)   \n",
       "\n",
       "      Rating  No of people Rated Category        Date Price  rating_power  \n",
       "3773     4.0                 895    Music  26-05-2017  Free        3580.0  \n",
       "3774     3.0                 735    Music  26-04-2018  Free        2205.0  \n",
       "3775     3.5                 732    Music  24-05-2012  Free        2562.0  \n",
       "3776     3.5                 533    Music  13-02-2018  Free        1865.5  \n",
       "3777     4.0                 219    Music  27-08-2015  Free         876.0  \n",
       "...      ...                 ...      ...         ...   ...           ...  \n",
       "4521     5.0                 668    Music  24-04-2017  Free        3340.0  \n",
       "4522     2.0                 667    Music  06-11-2019  Free        1334.0  \n",
       "4523     4.5                 938    Music  13-02-2012  Free        4221.0  \n",
       "4524     2.0                 296    Music  20-07-2015  Free         592.0  \n",
       "4525     4.0                 873    Music  01-07-2016  Free        3492.0  \n",
       "\n",
       "[753 rows x 7 columns]"
      ]
     },
     "execution_count": 26,
     "metadata": {},
     "output_type": "execute_result"
    }
   ],
   "source": [
    "df.query('Category == \"Music\"')"
   ]
  },
  {
   "cell_type": "code",
   "execution_count": 27,
   "metadata": {
    "ExecuteTime": {
     "end_time": "2020-07-27T09:18:27.827020Z",
     "start_time": "2020-07-27T09:18:27.795906Z"
    }
   },
   "outputs": [
    {
     "data": {
      "text/html": [
       "<div>\n",
       "<style scoped>\n",
       "    .dataframe tbody tr th:only-of-type {\n",
       "        vertical-align: middle;\n",
       "    }\n",
       "\n",
       "    .dataframe tbody tr th {\n",
       "        vertical-align: top;\n",
       "    }\n",
       "\n",
       "    .dataframe thead th {\n",
       "        text-align: right;\n",
       "    }\n",
       "</style>\n",
       "<table border=\"1\" class=\"dataframe\">\n",
       "  <thead>\n",
       "    <tr style=\"text-align: right;\">\n",
       "      <th></th>\n",
       "      <th>Name</th>\n",
       "      <th>Rating</th>\n",
       "      <th>No of people Rated</th>\n",
       "      <th>Category</th>\n",
       "      <th>Date</th>\n",
       "      <th>Price</th>\n",
       "      <th>rating_power</th>\n",
       "    </tr>\n",
       "  </thead>\n",
       "  <tbody>\n",
       "    <tr>\n",
       "      <th>3470</th>\n",
       "      <td>Interiors California</td>\n",
       "      <td>5.0</td>\n",
       "      <td>481</td>\n",
       "      <td>Lifestyle</td>\n",
       "      <td>21-06-2013</td>\n",
       "      <td>Free</td>\n",
       "      <td>2405.0</td>\n",
       "    </tr>\n",
       "    <tr>\n",
       "      <th>3552</th>\n",
       "      <td>Closet Shopping Guide</td>\n",
       "      <td>5.0</td>\n",
       "      <td>323</td>\n",
       "      <td>Lifestyle</td>\n",
       "      <td>30-08-2014</td>\n",
       "      <td>Free</td>\n",
       "      <td>1615.0</td>\n",
       "    </tr>\n",
       "    <tr>\n",
       "      <th>3565</th>\n",
       "      <td>Wisconsin Sportsman</td>\n",
       "      <td>5.0</td>\n",
       "      <td>429</td>\n",
       "      <td>Lifestyle</td>\n",
       "      <td>18-02-2015</td>\n",
       "      <td>Free</td>\n",
       "      <td>2145.0</td>\n",
       "    </tr>\n",
       "    <tr>\n",
       "      <th>3346</th>\n",
       "      <td>CS Interiors</td>\n",
       "      <td>5.0</td>\n",
       "      <td>723</td>\n",
       "      <td>Lifestyle</td>\n",
       "      <td>18-06-2013</td>\n",
       "      <td>Free</td>\n",
       "      <td>3615.0</td>\n",
       "    </tr>\n",
       "    <tr>\n",
       "      <th>3350</th>\n",
       "      <td>100 Reasons to Recover</td>\n",
       "      <td>5.0</td>\n",
       "      <td>349</td>\n",
       "      <td>Lifestyle</td>\n",
       "      <td>19-04-2013</td>\n",
       "      <td>Free</td>\n",
       "      <td>1745.0</td>\n",
       "    </tr>\n",
       "    <tr>\n",
       "      <th>...</th>\n",
       "      <td>...</td>\n",
       "      <td>...</td>\n",
       "      <td>...</td>\n",
       "      <td>...</td>\n",
       "      <td>...</td>\n",
       "      <td>...</td>\n",
       "      <td>...</td>\n",
       "    </tr>\n",
       "    <tr>\n",
       "      <th>3295</th>\n",
       "      <td>Flos Catalogues</td>\n",
       "      <td>1.0</td>\n",
       "      <td>133</td>\n",
       "      <td>Lifestyle</td>\n",
       "      <td>17-09-2015</td>\n",
       "      <td>Free</td>\n",
       "      <td>133.0</td>\n",
       "    </tr>\n",
       "    <tr>\n",
       "      <th>3409</th>\n",
       "      <td>Photos App EMT Team</td>\n",
       "      <td>1.0</td>\n",
       "      <td>815</td>\n",
       "      <td>Lifestyle</td>\n",
       "      <td>26-01-2016</td>\n",
       "      <td>Free</td>\n",
       "      <td>815.0</td>\n",
       "    </tr>\n",
       "    <tr>\n",
       "      <th>3452</th>\n",
       "      <td>Nose job - Rhinoplasty plastic surgery</td>\n",
       "      <td>1.0</td>\n",
       "      <td>555</td>\n",
       "      <td>Lifestyle</td>\n",
       "      <td>28-03-2016</td>\n",
       "      <td>Free</td>\n",
       "      <td>555.0</td>\n",
       "    </tr>\n",
       "    <tr>\n",
       "      <th>3603</th>\n",
       "      <td>Porutham</td>\n",
       "      <td>1.0</td>\n",
       "      <td>182</td>\n",
       "      <td>Lifestyle</td>\n",
       "      <td>12-03-2015</td>\n",
       "      <td>Free</td>\n",
       "      <td>182.0</td>\n",
       "    </tr>\n",
       "    <tr>\n",
       "      <th>3488</th>\n",
       "      <td>Halal Bazar</td>\n",
       "      <td>1.0</td>\n",
       "      <td>474</td>\n",
       "      <td>Lifestyle</td>\n",
       "      <td>06-03-2017</td>\n",
       "      <td>Free</td>\n",
       "      <td>474.0</td>\n",
       "    </tr>\n",
       "  </tbody>\n",
       "</table>\n",
       "<p>492 rows × 7 columns</p>\n",
       "</div>"
      ],
      "text/plain": [
       "                                        Name  Rating  No of people Rated  \\\n",
       "3470                    Interiors California     5.0                 481   \n",
       "3552                   Closet Shopping Guide     5.0                 323   \n",
       "3565                     Wisconsin Sportsman     5.0                 429   \n",
       "3346                            CS Interiors     5.0                 723   \n",
       "3350                  100 Reasons to Recover     5.0                 349   \n",
       "...                                      ...     ...                 ...   \n",
       "3295                         Flos Catalogues     1.0                 133   \n",
       "3409                     Photos App EMT Team     1.0                 815   \n",
       "3452  Nose job - Rhinoplasty plastic surgery     1.0                 555   \n",
       "3603                                Porutham     1.0                 182   \n",
       "3488                             Halal Bazar     1.0                 474   \n",
       "\n",
       "       Category        Date Price  rating_power  \n",
       "3470  Lifestyle  21-06-2013  Free        2405.0  \n",
       "3552  Lifestyle  30-08-2014  Free        1615.0  \n",
       "3565  Lifestyle  18-02-2015  Free        2145.0  \n",
       "3346  Lifestyle  18-06-2013  Free        3615.0  \n",
       "3350  Lifestyle  19-04-2013  Free        1745.0  \n",
       "...         ...         ...   ...           ...  \n",
       "3295  Lifestyle  17-09-2015  Free         133.0  \n",
       "3409  Lifestyle  26-01-2016  Free         815.0  \n",
       "3452  Lifestyle  28-03-2016  Free         555.0  \n",
       "3603  Lifestyle  12-03-2015  Free         182.0  \n",
       "3488  Lifestyle  06-03-2017  Free         474.0  \n",
       "\n",
       "[492 rows x 7 columns]"
      ]
     },
     "execution_count": 27,
     "metadata": {},
     "output_type": "execute_result"
    }
   ],
   "source": [
    "# Find Lifestyle apps with the best rating\n",
    "df.query('Category == \"Lifestyle\"').sort_values('Rating', ascending=False)\n",
    "# df.loc[df['Category'] == 'Lifestyle']"
   ]
  },
  {
   "cell_type": "code",
   "execution_count": 28,
   "metadata": {
    "ExecuteTime": {
     "end_time": "2020-07-27T09:18:29.769617Z",
     "start_time": "2020-07-27T09:18:29.753972Z"
    }
   },
   "outputs": [
    {
     "data": {
      "text/html": [
       "<div>\n",
       "<style scoped>\n",
       "    .dataframe tbody tr th:only-of-type {\n",
       "        vertical-align: middle;\n",
       "    }\n",
       "\n",
       "    .dataframe tbody tr th {\n",
       "        vertical-align: top;\n",
       "    }\n",
       "\n",
       "    .dataframe thead th {\n",
       "        text-align: right;\n",
       "    }\n",
       "</style>\n",
       "<table border=\"1\" class=\"dataframe\">\n",
       "  <thead>\n",
       "    <tr style=\"text-align: right;\">\n",
       "      <th></th>\n",
       "      <th>Name</th>\n",
       "      <th>Rating</th>\n",
       "      <th>No of people Rated</th>\n",
       "      <th>Category</th>\n",
       "      <th>Date</th>\n",
       "      <th>Price</th>\n",
       "      <th>rating_power</th>\n",
       "    </tr>\n",
       "  </thead>\n",
       "  <tbody>\n",
       "    <tr>\n",
       "      <th>2292</th>\n",
       "      <td>Fitbit</td>\n",
       "      <td>3.5</td>\n",
       "      <td>622</td>\n",
       "      <td>Health and Fitness</td>\n",
       "      <td>07-12-2012</td>\n",
       "      <td>Free</td>\n",
       "      <td>2177.0</td>\n",
       "    </tr>\n",
       "    <tr>\n",
       "      <th>2295</th>\n",
       "      <td>Fitbit Coach</td>\n",
       "      <td>4.0</td>\n",
       "      <td>717</td>\n",
       "      <td>Health and Fitness</td>\n",
       "      <td>30-08-2017</td>\n",
       "      <td>Free</td>\n",
       "      <td>2868.0</td>\n",
       "    </tr>\n",
       "    <tr>\n",
       "      <th>2296</th>\n",
       "      <td>Full Body Workouts</td>\n",
       "      <td>4.0</td>\n",
       "      <td>848</td>\n",
       "      <td>Health and Fitness</td>\n",
       "      <td>21-04-2016</td>\n",
       "      <td>Free</td>\n",
       "      <td>3392.0</td>\n",
       "    </tr>\n",
       "    <tr>\n",
       "      <th>2298</th>\n",
       "      <td>Home Fitness</td>\n",
       "      <td>4.0</td>\n",
       "      <td>990</td>\n",
       "      <td>Health and Fitness</td>\n",
       "      <td>20-03-2014</td>\n",
       "      <td>Free</td>\n",
       "      <td>3960.0</td>\n",
       "    </tr>\n",
       "    <tr>\n",
       "      <th>2302</th>\n",
       "      <td>3D Bones and Organs (Anatomy)</td>\n",
       "      <td>4.0</td>\n",
       "      <td>902</td>\n",
       "      <td>Health and Fitness</td>\n",
       "      <td>10-07-2015</td>\n",
       "      <td>Free</td>\n",
       "      <td>3608.0</td>\n",
       "    </tr>\n",
       "    <tr>\n",
       "      <th>...</th>\n",
       "      <td>...</td>\n",
       "      <td>...</td>\n",
       "      <td>...</td>\n",
       "      <td>...</td>\n",
       "      <td>...</td>\n",
       "      <td>...</td>\n",
       "      <td>...</td>\n",
       "    </tr>\n",
       "    <tr>\n",
       "      <th>2810</th>\n",
       "      <td>Thuoc Viet</td>\n",
       "      <td>3.5</td>\n",
       "      <td>692</td>\n",
       "      <td>Health and Fitness</td>\n",
       "      <td>02-05-2013</td>\n",
       "      <td>Free</td>\n",
       "      <td>2422.0</td>\n",
       "    </tr>\n",
       "    <tr>\n",
       "      <th>2812</th>\n",
       "      <td>BMI Calculator RT</td>\n",
       "      <td>4.0</td>\n",
       "      <td>850</td>\n",
       "      <td>Health and Fitness</td>\n",
       "      <td>26-12-2012</td>\n",
       "      <td>Free</td>\n",
       "      <td>3400.0</td>\n",
       "    </tr>\n",
       "    <tr>\n",
       "      <th>2815</th>\n",
       "      <td>BMICalculatorFree</td>\n",
       "      <td>1.5</td>\n",
       "      <td>882</td>\n",
       "      <td>Health and Fitness</td>\n",
       "      <td>13-12-2013</td>\n",
       "      <td>Free</td>\n",
       "      <td>1323.0</td>\n",
       "    </tr>\n",
       "    <tr>\n",
       "      <th>2816</th>\n",
       "      <td>Lazy Eye Math</td>\n",
       "      <td>3.5</td>\n",
       "      <td>750</td>\n",
       "      <td>Health and Fitness</td>\n",
       "      <td>09-02-2015</td>\n",
       "      <td>Free</td>\n",
       "      <td>2625.0</td>\n",
       "    </tr>\n",
       "    <tr>\n",
       "      <th>2818</th>\n",
       "      <td>Bmiuz</td>\n",
       "      <td>5.0</td>\n",
       "      <td>700</td>\n",
       "      <td>Health and Fitness</td>\n",
       "      <td>22-10-2014</td>\n",
       "      <td>Free</td>\n",
       "      <td>3500.0</td>\n",
       "    </tr>\n",
       "  </tbody>\n",
       "</table>\n",
       "<p>230 rows × 7 columns</p>\n",
       "</div>"
      ],
      "text/plain": [
       "                               Name  Rating  No of people Rated  \\\n",
       "2292                         Fitbit     3.5                 622   \n",
       "2295                   Fitbit Coach     4.0                 717   \n",
       "2296             Full Body Workouts     4.0                 848   \n",
       "2298                   Home Fitness     4.0                 990   \n",
       "2302  3D Bones and Organs (Anatomy)     4.0                 902   \n",
       "...                             ...     ...                 ...   \n",
       "2810                     Thuoc Viet     3.5                 692   \n",
       "2812              BMI Calculator RT     4.0                 850   \n",
       "2815              BMICalculatorFree     1.5                 882   \n",
       "2816                  Lazy Eye Math     3.5                 750   \n",
       "2818                          Bmiuz     5.0                 700   \n",
       "\n",
       "                Category        Date Price  rating_power  \n",
       "2292  Health and Fitness  07-12-2012  Free        2177.0  \n",
       "2295  Health and Fitness  30-08-2017  Free        2868.0  \n",
       "2296  Health and Fitness  21-04-2016  Free        3392.0  \n",
       "2298  Health and Fitness  20-03-2014  Free        3960.0  \n",
       "2302  Health and Fitness  10-07-2015  Free        3608.0  \n",
       "...                  ...         ...   ...           ...  \n",
       "2810  Health and Fitness  02-05-2013  Free        2422.0  \n",
       "2812  Health and Fitness  26-12-2012  Free        3400.0  \n",
       "2815  Health and Fitness  13-12-2013  Free        1323.0  \n",
       "2816  Health and Fitness  09-02-2015  Free        2625.0  \n",
       "2818  Health and Fitness  22-10-2014  Free        3500.0  \n",
       "\n",
       "[230 rows x 7 columns]"
      ]
     },
     "execution_count": 28,
     "metadata": {},
     "output_type": "execute_result"
    }
   ],
   "source": [
    "# Find all apps from `Health and Fitness` category which more than 600 people rated\n",
    "df.query('Category == \"Health and Fitness\"').loc[df['No of people Rated'] > 600]\n",
    "# df.loc[(df['Category'] == 'Health and Fitness') & (df['No of people Rated'] > 600)]"
   ]
  },
  {
   "cell_type": "markdown",
   "metadata": {
    "ExecuteTime": {
     "end_time": "2020-07-27T09:55:12.057641Z",
     "start_time": "2020-07-27T09:55:12.019901Z"
    }
   },
   "source": [
    "Another common use case is applying cusom function via `.apply()`. You can apply any function to dataframe row- or column-wise."
   ]
  },
  {
   "cell_type": "code",
   "execution_count": 29,
   "metadata": {
    "ExecuteTime": {
     "end_time": "2020-07-27T08:52:26.159448Z",
     "start_time": "2020-07-27T08:52:25.996752Z"
    }
   },
   "outputs": [
    {
     "data": {
      "text/plain": [
       "0       False\n",
       "1       False\n",
       "2       False\n",
       "3       False\n",
       "4       False\n",
       "        ...  \n",
       "5317     True\n",
       "5318     True\n",
       "5319     True\n",
       "5320     True\n",
       "5321     True\n",
       "Length: 5322, dtype: bool"
      ]
     },
     "execution_count": 29,
     "metadata": {},
     "output_type": "execute_result"
    }
   ],
   "source": [
    "# create a boolean column with non-free apps indicator\n",
    "df.apply(lambda this_df: this_df.Price != 'Free', axis=1)"
   ]
  },
  {
   "cell_type": "code",
   "execution_count": 30,
   "metadata": {
    "ExecuteTime": {
     "end_time": "2020-07-27T09:18:37.755306Z",
     "start_time": "2020-07-27T09:18:37.724047Z"
    }
   },
   "outputs": [
    {
     "data": {
      "text/plain": [
       "0         0.0\n",
       "1         0.0\n",
       "2         0.0\n",
       "3         0.0\n",
       "4         0.0\n",
       "        ...  \n",
       "5317    269.0\n",
       "5318     64.0\n",
       "5319    269.0\n",
       "5320    219.0\n",
       "5321      NaN\n",
       "Name: Price, Length: 5322, dtype: float64"
      ]
     },
     "execution_count": 30,
     "metadata": {},
     "output_type": "execute_result"
    }
   ],
   "source": [
    "def price_to_num(p):\n",
    "    \"\"\"\n",
    "    Function to convert price columns to float values.\n",
    "    In case of free app set price to zero.\n",
    "    Leave NaNs as is.\n",
    "    \"\"\"\n",
    "    if p == \"Free\":\n",
    "        p = 0\n",
    "    elif isinstance(p,str):\n",
    "        substr = p[2:].replace(\",\", \"\")\n",
    "        p = float(substr)\n",
    "    return p\n",
    "\n",
    "df.Price.apply(price_to_num)\n",
    "\n",
    "# def price_to_num(p):\n",
    "#     if p == \"Free\":\n",
    "#         return 0.0\n",
    "#     return float(p[2:].replace(\",\",\"\"))\n",
    "\n",
    "# df.Price.dropna().apply(price_to_num).sort_values()"
   ]
  },
  {
   "cell_type": "markdown",
   "metadata": {
    "ExecuteTime": {
     "end_time": "2020-07-27T09:56:04.421117Z",
     "start_time": "2020-07-27T09:56:04.405491Z"
    }
   },
   "source": [
    "That's it for now. Pandas has user guide with best practices for all functionality. Find it [here](https://pandas.pydata.org/docs/user_guide/index.html). Pandas is one of the vitals for data scientist, spending more time to learn it is highly recommended."
   ]
  }
 ],
 "metadata": {
  "kernelspec": {
   "display_name": "Python 3",
   "language": "python",
   "name": "python3"
  },
  "language_info": {
   "codemirror_mode": {
    "name": "ipython",
    "version": 3
   },
   "file_extension": ".py",
   "mimetype": "text/x-python",
   "name": "python",
   "nbconvert_exporter": "python",
   "pygments_lexer": "ipython3",
   "version": "3.8.5"
  },
  "toc": {
   "base_numbering": 1,
   "nav_menu": {},
   "number_sections": true,
   "sideBar": true,
   "skip_h1_title": false,
   "title_cell": "Table of Contents",
   "title_sidebar": "Contents",
   "toc_cell": false,
   "toc_position": {},
   "toc_section_display": true,
   "toc_window_display": false
  },
  "varInspector": {
   "cols": {
    "lenName": 16,
    "lenType": 16,
    "lenVar": 40
   },
   "kernels_config": {
    "python": {
     "delete_cmd_postfix": "",
     "delete_cmd_prefix": "del ",
     "library": "var_list.py",
     "varRefreshCmd": "print(var_dic_list())"
    },
    "r": {
     "delete_cmd_postfix": ") ",
     "delete_cmd_prefix": "rm(",
     "library": "var_list.r",
     "varRefreshCmd": "cat(var_dic_list()) "
    }
   },
   "types_to_exclude": [
    "module",
    "function",
    "builtin_function_or_method",
    "instance",
    "_Feature"
   ],
   "window_display": false
  }
 },
 "nbformat": 4,
 "nbformat_minor": 2
}
